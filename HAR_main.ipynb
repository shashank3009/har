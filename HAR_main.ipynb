{
  "nbformat": 4,
  "nbformat_minor": 0,
  "metadata": {
    "accelerator": "GPU",
    "colab": {
      "name": "HAR_main.ipynb",
      "provenance": [],
      "collapsed_sections": [
        "tIWJSXIcN39L",
        "RtV6ae_NOPxP",
        "v2g-QmlROgb1",
        "0m71vbNbOysU",
        "TmXORIhkRlcl"
      ],
      "machine_shape": "hm"
    },
    "kernelspec": {
      "display_name": "Python 3",
      "name": "python3"
    },
    "language_info": {
      "name": "python"
    }
  },
  "cells": [
    {
      "cell_type": "markdown",
      "metadata": {
        "id": "Nh6QTDm7R_vc"
      },
      "source": [
        "## Human Activity Recognition\n",
        "### By: Shashank Gurnalkar"
      ]
    },
    {
      "cell_type": "markdown",
      "metadata": {
        "id": "FV_NvDJGNded"
      },
      "source": [
        "## Loading Data"
      ]
    },
    {
      "cell_type": "markdown",
      "metadata": {
        "id": "rp5X5G-Li7IF"
      },
      "source": [
        "Detaset and its information: https://archive.ics.uci.edu/ml/datasets/human+activity+recognition+using+smartphones\n",
        "\n",
        "Reference Video of how data was collected: https://www.youtube.com/watch?v=XOEN9W05_4A"
      ]
    },
    {
      "cell_type": "code",
      "metadata": {
        "colab": {
          "base_uri": "https://localhost:8080/"
        },
        "id": "iYinOYGqMTmR",
        "outputId": "0d92ade5-6f30-4611-ff8f-f4b4cb5ebc28"
      },
      "source": [
        "from google.colab import drive\n",
        "drive.mount('/content/drive', force_remount=True)"
      ],
      "execution_count": 1,
      "outputs": [
        {
          "output_type": "stream",
          "name": "stdout",
          "text": [
            "Mounted at /content/drive\n"
          ]
        }
      ]
    },
    {
      "cell_type": "code",
      "metadata": {
        "colab": {
          "base_uri": "https://localhost:8080/"
        },
        "id": "SOTGV_wiEbPe",
        "outputId": "4e75ca9c-dbd0-468b-d427-3745fa57d9a3"
      },
      "source": [
        "cd drive/MyDrive/HAR"
      ],
      "execution_count": 2,
      "outputs": [
        {
          "output_type": "stream",
          "name": "stdout",
          "text": [
            "/content/drive/MyDrive/HAR\n"
          ]
        }
      ]
    },
    {
      "cell_type": "markdown",
      "metadata": {
        "id": "9TPPxsM7Nm-V"
      },
      "source": [
        "### Importing Libraries"
      ]
    },
    {
      "cell_type": "code",
      "metadata": {
        "id": "mbrS97rgkN5H",
        "colab": {
          "base_uri": "https://localhost:8080/"
        },
        "outputId": "3ad81f5a-5c27-48cb-897e-c827a6fa9933"
      },
      "source": [
        "# Helper libraries\n",
        "import numpy as np\n",
        "import pandas as pd\n",
        "import matplotlib.pyplot as plt\n",
        "\n",
        "# TensorFlow and tf.keras\n",
        "import tensorflow as tf\n",
        "from tensorflow import keras\n",
        "from tensorflow.keras import layers\n",
        "\n",
        "# To understand the flow.\n",
        "from tensorflow.keras.utils import plot_model\n",
        "\n",
        "print(tf.__version__)"
      ],
      "execution_count": 12,
      "outputs": [
        {
          "output_type": "stream",
          "name": "stdout",
          "text": [
            "2.6.0\n"
          ]
        }
      ]
    },
    {
      "cell_type": "markdown",
      "metadata": {
        "id": "L1y79pAjNuKL"
      },
      "source": [
        "### Defining functions to load the data in required format"
      ]
    },
    {
      "cell_type": "code",
      "metadata": {
        "id": "eLPGShOUgT4b"
      },
      "source": [
        "SIGNALS = [\n",
        "    \"body_acc_x\",\n",
        "    \"body_acc_y\",\n",
        "    \"body_acc_z\",\n",
        "    \"body_gyro_x\",\n",
        "    \"body_gyro_y\",\n",
        "    \"body_gyro_z\",\n",
        "    \"total_acc_x\",\n",
        "    \"total_acc_y\",\n",
        "    \"total_acc_z\"\n",
        "]"
      ],
      "execution_count": 4,
      "outputs": []
    },
    {
      "cell_type": "code",
      "metadata": {
        "id": "K2VYcYbDc0UU"
      },
      "source": [
        "# Utility function to read the data from csv file\n",
        "def _read_csv(filename):\n",
        "    return pd.read_csv(filename, delim_whitespace=True, header=None)\n",
        "\n",
        "# Utility function to load the load\n",
        "def load_signals(subset):\n",
        "    signals_data = []\n",
        "\n",
        "    for signal in SIGNALS:\n",
        "        filename = f'UCI_HAR_Dataset/{subset}/Inertial Signals/{signal}_{subset}.txt'\n",
        "        signals_data.append(\n",
        "            _read_csv(filename).values\n",
        "        ) \n",
        "\n",
        "    # Transpose is used to change the dimensionality of the output,\n",
        "    # aggregating the signals by combination of sample/timestep.\n",
        "    # Resultant shape is (7352 train/2947 test samples, 128 timesteps, 9 signals)\n",
        "    return np.transpose(signals_data, (1, 2, 0))"
      ],
      "execution_count": 5,
      "outputs": []
    },
    {
      "cell_type": "code",
      "metadata": {
        "id": "W2DbmQVxBr5X"
      },
      "source": [
        "\n",
        "def load_y(subset):\n",
        "    \"\"\"\n",
        "    The objective that we are trying to predict is a integer, from 1 to 6,\n",
        "    that represents a human activity. We return a binary representation of \n",
        "    every sample objective as a 6 bits vector using One Hot Encoding\n",
        "    (https://pandas.pydata.org/pandas-docs/stable/generated/pandas.get_dummies.html)\n",
        "    \"\"\"\n",
        "    filename = f'UCI_HAR_Dataset/{subset}/y_{subset}.txt'\n",
        "    y = _read_csv(filename)[0]\n",
        "\n",
        "\n",
        "    return pd.get_dummies(y).values\n",
        "    #return y"
      ],
      "execution_count": 6,
      "outputs": []
    },
    {
      "cell_type": "code",
      "metadata": {
        "id": "Jp9iLF_7GE7v"
      },
      "source": [
        "def load_data():\n",
        "    \"\"\"\n",
        "    Obtain the dataset from multiple files.\n",
        "    Returns: X_train, X_test, y_train, y_test\n",
        "    \"\"\"\n",
        "    X_train, X_test = load_signals('train'), load_signals('test')\n",
        "    y_train, y_test = load_y('train'), load_y('test')\n",
        "\n",
        "    return X_train, X_test, y_train, y_test"
      ],
      "execution_count": 7,
      "outputs": []
    },
    {
      "cell_type": "code",
      "metadata": {
        "id": "8qosOu32iH9d"
      },
      "source": [
        "# Initializing parameters\n",
        "epochs = 30\n",
        "batch_size = 16\n",
        "n_hidden = 32\n",
        "n_classes = 6"
      ],
      "execution_count": 14,
      "outputs": []
    },
    {
      "cell_type": "code",
      "metadata": {
        "id": "HiE5bnmKiaXd"
      },
      "source": [
        "# Utility function to count the number of classes\n",
        "def _count_classes(y):\n",
        "    return len(set([tuple(category) for category in y]))"
      ],
      "execution_count": 9,
      "outputs": []
    },
    {
      "cell_type": "code",
      "metadata": {
        "id": "r4mVXkq1ia0e"
      },
      "source": [
        "# Loading the train and test data\n",
        "X_train, X_test, Y_train, Y_test = load_data()"
      ],
      "execution_count": 10,
      "outputs": []
    },
    {
      "cell_type": "code",
      "metadata": {
        "colab": {
          "base_uri": "https://localhost:8080/"
        },
        "id": "YBgVMej-ibYh",
        "outputId": "c56e1112-23d5-420d-84cd-bc13eb17b78b"
      },
      "source": [
        "timesteps = len(X_train[0])\n",
        "input_dim = len(X_train[0][0])\n",
        "\n",
        "\n",
        "print(timesteps)\n",
        "print(input_dim)\n",
        "print(len(X_train))"
      ],
      "execution_count": 11,
      "outputs": [
        {
          "output_type": "stream",
          "name": "stdout",
          "text": [
            "128\n",
            "9\n",
            "7352\n"
          ]
        }
      ]
    },
    {
      "cell_type": "markdown",
      "metadata": {
        "id": "tIWJSXIcN39L"
      },
      "source": [
        "## Training Models with LSTM"
      ]
    },
    {
      "cell_type": "markdown",
      "metadata": {
        "id": "RtV6ae_NOPxP"
      },
      "source": [
        "### One LSTM layer"
      ]
    },
    {
      "cell_type": "code",
      "metadata": {
        "id": "UkUHkkGqgLUI"
      },
      "source": [
        "n_hidden = 32\n",
        "n_classes = 6"
      ],
      "execution_count": 56,
      "outputs": []
    },
    {
      "cell_type": "code",
      "metadata": {
        "colab": {
          "base_uri": "https://localhost:8080/"
        },
        "id": "nXwZKR2ykEb4",
        "outputId": "ae02ce5e-9e0a-4d35-e8d3-15a5d3960c68"
      },
      "source": [
        "# Initiliazing the sequential model\n",
        "model = keras.Sequential()\n",
        "# Configuring the parameters\n",
        "model.add(layers.LSTM(n_hidden, input_shape=(timesteps, input_dim)))\n",
        "# Adding a dropout layer\n",
        "model.add(layers.Dropout(0.5))\n",
        "# Adding a dense output layer with sigmoid activation\n",
        "model.add(layers.Dense(n_classes, activation='softmax'))\n",
        "model.summary()\n"
      ],
      "execution_count": null,
      "outputs": [
        {
          "output_type": "stream",
          "text": [
            "Model: \"sequential\"\n",
            "_________________________________________________________________\n",
            "Layer (type)                 Output Shape              Param #   \n",
            "=================================================================\n",
            "lstm (LSTM)                  (None, 32)                5376      \n",
            "_________________________________________________________________\n",
            "dropout (Dropout)            (None, 32)                0         \n",
            "_________________________________________________________________\n",
            "dense (Dense)                (None, 6)                 198       \n",
            "=================================================================\n",
            "Total params: 5,574\n",
            "Trainable params: 5,574\n",
            "Non-trainable params: 0\n",
            "_________________________________________________________________\n"
          ],
          "name": "stdout"
        }
      ]
    },
    {
      "cell_type": "code",
      "metadata": {
        "colab": {
          "base_uri": "https://localhost:8080/",
          "height": 422
        },
        "id": "nHE2NPhTkEsT",
        "outputId": "86438ade-ccb6-4241-dd3b-3d99fc485895"
      },
      "source": [
        "# To understand the flow.\n",
        "from tensorflow.keras.utils import plot_model\n",
        "\n",
        "plot_model(model, 'model.png', show_shapes=True)"
      ],
      "execution_count": null,
      "outputs": [
        {
          "output_type": "execute_result",
          "data": {
            "image/png": "[encoded data removed]",
            "text/plain": [
              "<IPython.core.display.Image object>"
            ]
          },
          "metadata": {
            "tags": []
          },
          "execution_count": 94
        }
      ]
    },
    {
      "cell_type": "code",
      "metadata": {
        "id": "8XG920ePkE4f"
      },
      "source": [
        "# Compiling the model\n",
        "model.compile(loss=keras.losses.CategoricalCrossentropy(from_logits=True),\n",
        "              optimizer='adam',\n",
        "              metrics=['accuracy'])"
      ],
      "execution_count": null,
      "outputs": []
    },
    {
      "cell_type": "code",
      "metadata": {
        "colab": {
          "base_uri": "https://localhost:8080/"
        },
        "id": "lTpFfSDGkFEq",
        "outputId": "a4a016c5-79bb-4a76-a1b1-20035b7bcaf7"
      },
      "source": [
        "# Training the model\n",
        "model.fit(X_train,\n",
        "          Y_train,\n",
        "          batch_size=batch_size,\n",
        "          validation_data=(X_test, Y_test),\n",
        "          epochs=epochs)"
      ],
      "execution_count": null,
      "outputs": [
        {
          "output_type": "stream",
          "text": [
            "Epoch 1/30\n",
            "460/460 [==============================] - 42s 25ms/step - loss: 1.3987 - accuracy: 0.3998 - val_loss: 1.2543 - val_accuracy: 0.4466\n",
            "Epoch 2/30\n",
            "460/460 [==============================] - 11s 24ms/step - loss: 1.0733 - accuracy: 0.5387 - val_loss: 0.8469 - val_accuracy: 0.6417\n",
            "Epoch 3/30\n",
            "460/460 [==============================] - 11s 24ms/step - loss: 0.7630 - accuracy: 0.6650 - val_loss: 0.7256 - val_accuracy: 0.7204\n",
            "Epoch 4/30\n",
            "460/460 [==============================] - 11s 24ms/step - loss: 0.7180 - accuracy: 0.7179 - val_loss: 0.7285 - val_accuracy: 0.7448\n",
            "Epoch 5/30\n",
            "460/460 [==============================] - 11s 23ms/step - loss: 0.6417 - accuracy: 0.7530 - val_loss: 0.6459 - val_accuracy: 0.7740\n",
            "Epoch 6/30\n",
            "460/460 [==============================] - 11s 23ms/step - loss: 0.6184 - accuracy: 0.7895 - val_loss: 0.8866 - val_accuracy: 0.6871\n",
            "Epoch 7/30\n",
            "460/460 [==============================] - 11s 23ms/step - loss: 0.6160 - accuracy: 0.7954 - val_loss: 0.5327 - val_accuracy: 0.8286\n",
            "Epoch 8/30\n",
            "460/460 [==============================] - 11s 23ms/step - loss: 0.3661 - accuracy: 0.8885 - val_loss: 0.4915 - val_accuracy: 0.8157\n",
            "Epoch 9/30\n",
            "460/460 [==============================] - 11s 23ms/step - loss: 0.3381 - accuracy: 0.8891 - val_loss: 0.4086 - val_accuracy: 0.8734\n",
            "Epoch 10/30\n",
            "460/460 [==============================] - 11s 23ms/step - loss: 0.2700 - accuracy: 0.9142 - val_loss: 0.4114 - val_accuracy: 0.8687\n",
            "Epoch 11/30\n",
            "460/460 [==============================] - 11s 24ms/step - loss: 0.2422 - accuracy: 0.9190 - val_loss: 0.5656 - val_accuracy: 0.8446\n",
            "Epoch 12/30\n",
            "460/460 [==============================] - 11s 24ms/step - loss: 0.2760 - accuracy: 0.9150 - val_loss: 0.3913 - val_accuracy: 0.8802\n",
            "Epoch 13/30\n",
            "460/460 [==============================] - 11s 23ms/step - loss: 0.2429 - accuracy: 0.9210 - val_loss: 0.4840 - val_accuracy: 0.7947\n",
            "Epoch 14/30\n",
            "460/460 [==============================] - 11s 23ms/step - loss: 0.3149 - accuracy: 0.8849 - val_loss: 0.4920 - val_accuracy: 0.8235\n",
            "Epoch 15/30\n",
            "460/460 [==============================] - 11s 23ms/step - loss: 0.2536 - accuracy: 0.9140 - val_loss: 0.4106 - val_accuracy: 0.8704\n",
            "Epoch 16/30\n",
            "460/460 [==============================] - 11s 23ms/step - loss: 0.1961 - accuracy: 0.9298 - val_loss: 0.4581 - val_accuracy: 0.8643\n",
            "Epoch 17/30\n",
            "460/460 [==============================] - 11s 24ms/step - loss: 0.1817 - accuracy: 0.9317 - val_loss: 0.4277 - val_accuracy: 0.8843\n",
            "Epoch 18/30\n",
            "460/460 [==============================] - 11s 23ms/step - loss: 0.1957 - accuracy: 0.9328 - val_loss: 0.4877 - val_accuracy: 0.8846\n",
            "Epoch 19/30\n",
            "460/460 [==============================] - 11s 23ms/step - loss: 0.1704 - accuracy: 0.9390 - val_loss: 0.4978 - val_accuracy: 0.8951\n",
            "Epoch 20/30\n",
            "460/460 [==============================] - 11s 24ms/step - loss: 0.2135 - accuracy: 0.9262 - val_loss: 0.8619 - val_accuracy: 0.7862\n",
            "Epoch 21/30\n",
            "460/460 [==============================] - 11s 23ms/step - loss: 0.3818 - accuracy: 0.8849 - val_loss: 0.5325 - val_accuracy: 0.8761\n",
            "Epoch 22/30\n",
            "460/460 [==============================] - 11s 24ms/step - loss: 0.1655 - accuracy: 0.9394 - val_loss: 0.5334 - val_accuracy: 0.8829\n",
            "Epoch 23/30\n",
            "460/460 [==============================] - 11s 24ms/step - loss: 0.1370 - accuracy: 0.9473 - val_loss: 0.4193 - val_accuracy: 0.8945\n",
            "Epoch 24/30\n",
            "460/460 [==============================] - 11s 23ms/step - loss: 0.1539 - accuracy: 0.9460 - val_loss: 0.4923 - val_accuracy: 0.8907\n",
            "Epoch 25/30\n",
            "460/460 [==============================] - 11s 23ms/step - loss: 0.2398 - accuracy: 0.9153 - val_loss: 0.3586 - val_accuracy: 0.8816\n",
            "Epoch 26/30\n",
            "460/460 [==============================] - 11s 24ms/step - loss: 0.1725 - accuracy: 0.9348 - val_loss: 0.2900 - val_accuracy: 0.9030\n",
            "Epoch 27/30\n",
            "460/460 [==============================] - 11s 24ms/step - loss: 0.1447 - accuracy: 0.9453 - val_loss: 0.4455 - val_accuracy: 0.8785\n",
            "Epoch 28/30\n",
            "460/460 [==============================] - 11s 24ms/step - loss: 0.1715 - accuracy: 0.9392 - val_loss: 0.4282 - val_accuracy: 0.8935\n",
            "Epoch 29/30\n",
            "460/460 [==============================] - 11s 24ms/step - loss: 0.1474 - accuracy: 0.9446 - val_loss: 0.3734 - val_accuracy: 0.8816\n",
            "Epoch 30/30\n",
            "460/460 [==============================] - 11s 24ms/step - loss: 0.1451 - accuracy: 0.9437 - val_loss: 0.4672 - val_accuracy: 0.8938\n"
          ],
          "name": "stdout"
        },
        {
          "output_type": "execute_result",
          "data": {
            "text/plain": [
              "<tensorflow.python.keras.callbacks.History at 0x7f45306dd790>"
            ]
          },
          "metadata": {
            "tags": []
          },
          "execution_count": 96
        }
      ]
    },
    {
      "cell_type": "markdown",
      "metadata": {
        "id": "282IDw7dMfIU"
      },
      "source": [
        "#### Val Accuracy = 0.89"
      ]
    },
    {
      "cell_type": "markdown",
      "metadata": {
        "id": "v2g-QmlROgb1"
      },
      "source": [
        "### Two LSTM layers"
      ]
    },
    {
      "cell_type": "code",
      "metadata": {
        "colab": {
          "base_uri": "https://localhost:8080/",
          "height": 1000
        },
        "id": "2zbAYhsuCqk-",
        "outputId": "f30fad79-23ad-4081-dc85-8cb41862b11d"
      },
      "source": [
        "tf.random.set_seed(107)\n",
        "epochs=20\n",
        "n_hidden = 48\n",
        "# Initiliazing the sequential model\n",
        "model = keras.Sequential()\n",
        "# Configuring the parameters\n",
        "model.add(layers.LSTM(n_hidden, input_shape=(timesteps, input_dim), return_sequences=True))\n",
        "# Adding a dropout layer\n",
        "model.add(layers.Dropout(0.6))\n",
        "# Configuring the parameters\n",
        "model.add(layers.LSTM(n_hidden))\n",
        "# Adding a dropout layer\n",
        "model.add(layers.Dropout(0.6))\n",
        "# Adding a dense output layer with sigmoid activation\n",
        "model.add(layers.Dense(n_classes, activation='softmax'))\n",
        "print (model.summary())\n",
        "\n",
        "# Compiling the model\n",
        "model.compile(loss=keras.losses.CategoricalCrossentropy(from_logits=True),\n",
        "              optimizer='adam',\n",
        "              metrics=['accuracy'])\n",
        "\n",
        "# Training the model\n",
        "model.fit(X_train,\n",
        "          Y_train,\n",
        "          batch_size=batch_size,\n",
        "          validation_data=(X_test, Y_test),\n",
        "          epochs=epochs)\n",
        "\n",
        "#model Architecture\n",
        "print(\"*\"*50)\n",
        "print(\"Model Architecture\")\n",
        "plot_model(model, 'model_two_lstm.png', show_shapes=True)"
      ],
      "execution_count": 18,
      "outputs": [
        {
          "output_type": "stream",
          "name": "stdout",
          "text": [
            "Model: \"sequential_4\"\n",
            "_________________________________________________________________\n",
            "Layer (type)                 Output Shape              Param #   \n",
            "=================================================================\n",
            "lstm_8 (LSTM)                (None, 128, 48)           11136     \n",
            "_________________________________________________________________\n",
            "dropout_8 (Dropout)          (None, 128, 48)           0         \n",
            "_________________________________________________________________\n",
            "lstm_9 (LSTM)                (None, 48)                18624     \n",
            "_________________________________________________________________\n",
            "dropout_9 (Dropout)          (None, 48)                0         \n",
            "_________________________________________________________________\n",
            "dense_3 (Dense)              (None, 6)                 294       \n",
            "=================================================================\n",
            "Total params: 30,054\n",
            "Trainable params: 30,054\n",
            "Non-trainable params: 0\n",
            "_________________________________________________________________\n",
            "None\n",
            "Epoch 1/20\n"
          ]
        },
        {
          "output_type": "stream",
          "name": "stderr",
          "text": [
            "/usr/local/lib/python3.7/dist-packages/keras/backend.py:4847: UserWarning: \"`categorical_crossentropy` received `from_logits=True`, but the `output` argument was produced by a sigmoid or softmax activation and thus does not represent logits. Was this intended?\"\n",
            "  '\"`categorical_crossentropy` received `from_logits=True`, but '\n"
          ]
        },
        {
          "output_type": "stream",
          "name": "stdout",
          "text": [
            "460/460 [==============================] - 10s 15ms/step - loss: 0.9761 - accuracy: 0.5906 - val_loss: 0.6795 - val_accuracy: 0.7340\n",
            "Epoch 2/20\n",
            "460/460 [==============================] - 6s 14ms/step - loss: 0.6624 - accuracy: 0.7353 - val_loss: 0.5932 - val_accuracy: 0.7781\n",
            "Epoch 3/20\n",
            "460/460 [==============================] - 6s 14ms/step - loss: 0.4098 - accuracy: 0.8579 - val_loss: 0.4343 - val_accuracy: 0.8517\n",
            "Epoch 4/20\n",
            "460/460 [==============================] - 6s 13ms/step - loss: 0.3312 - accuracy: 0.9007 - val_loss: 0.5051 - val_accuracy: 0.8297\n",
            "Epoch 5/20\n",
            "460/460 [==============================] - 6s 14ms/step - loss: 0.2393 - accuracy: 0.9230 - val_loss: 0.6336 - val_accuracy: 0.8113\n",
            "Epoch 6/20\n",
            "460/460 [==============================] - 6s 14ms/step - loss: 0.2193 - accuracy: 0.9294 - val_loss: 0.3757 - val_accuracy: 0.8551\n",
            "Epoch 7/20\n",
            "460/460 [==============================] - 6s 13ms/step - loss: 0.2982 - accuracy: 0.9127 - val_loss: 0.5094 - val_accuracy: 0.7710\n",
            "Epoch 8/20\n",
            "460/460 [==============================] - 6s 14ms/step - loss: 0.3120 - accuracy: 0.8690 - val_loss: 0.3638 - val_accuracy: 0.8867\n",
            "Epoch 9/20\n",
            "460/460 [==============================] - 6s 13ms/step - loss: 0.1934 - accuracy: 0.9346 - val_loss: 0.4660 - val_accuracy: 0.8772\n",
            "Epoch 10/20\n",
            "460/460 [==============================] - 6s 14ms/step - loss: 0.1559 - accuracy: 0.9422 - val_loss: 0.4533 - val_accuracy: 0.8921\n",
            "Epoch 11/20\n",
            "460/460 [==============================] - 6s 14ms/step - loss: 0.1855 - accuracy: 0.9369 - val_loss: 0.5006 - val_accuracy: 0.8711\n",
            "Epoch 12/20\n",
            "460/460 [==============================] - 6s 13ms/step - loss: 0.1483 - accuracy: 0.9464 - val_loss: 0.3185 - val_accuracy: 0.9101\n",
            "Epoch 13/20\n",
            "460/460 [==============================] - 6s 14ms/step - loss: 0.2025 - accuracy: 0.9357 - val_loss: 0.9001 - val_accuracy: 0.7370\n",
            "Epoch 14/20\n",
            "460/460 [==============================] - 6s 13ms/step - loss: 0.1716 - accuracy: 0.9392 - val_loss: 0.3192 - val_accuracy: 0.9203\n",
            "Epoch 15/20\n",
            "460/460 [==============================] - 6s 13ms/step - loss: 0.2127 - accuracy: 0.9320 - val_loss: 0.4505 - val_accuracy: 0.8907\n",
            "Epoch 16/20\n",
            "460/460 [==============================] - 6s 14ms/step - loss: 0.1566 - accuracy: 0.9456 - val_loss: 0.3085 - val_accuracy: 0.9148\n",
            "Epoch 17/20\n",
            "460/460 [==============================] - 6s 14ms/step - loss: 0.1709 - accuracy: 0.9433 - val_loss: 0.2912 - val_accuracy: 0.9206\n",
            "Epoch 18/20\n",
            "460/460 [==============================] - 6s 13ms/step - loss: 0.3102 - accuracy: 0.9136 - val_loss: 0.3828 - val_accuracy: 0.8897\n",
            "Epoch 19/20\n",
            "460/460 [==============================] - 6s 13ms/step - loss: 0.1984 - accuracy: 0.9339 - val_loss: 0.3380 - val_accuracy: 0.9030\n",
            "Epoch 20/20\n",
            "460/460 [==============================] - 6s 13ms/step - loss: 0.1497 - accuracy: 0.9472 - val_loss: 0.2689 - val_accuracy: 0.9121\n",
            "**************************************************\n",
            "Model Architecture\n"
          ]
        },
        {
          "output_type": "execute_result",
          "data": {
            "image/png": "[encoded data removed]",
            "text/plain": [
              "<IPython.core.display.Image object>"
            ]
          },
          "metadata": {},
          "execution_count": 18
        }
      ]
    },
    {
      "cell_type": "markdown",
      "metadata": {
        "id": "qwWSGbpMO5jH"
      },
      "source": [
        "#### Validation Accuracy = 0.91"
      ]
    },
    {
      "cell_type": "markdown",
      "metadata": {
        "id": "3cIfaLGJn_JS"
      },
      "source": [
        "## Training Models with Divide and conquer Approach"
      ]
    },
    {
      "cell_type": "code",
      "metadata": {
        "id": "btgnM77Mn-Zr"
      },
      "source": [
        "#To sharpen the features.\n",
        "from scipy import ndimage"
      ],
      "execution_count": 19,
      "outputs": []
    },
    {
      "cell_type": "code",
      "metadata": {
        "id": "jjHEOfDzIvrH"
      },
      "source": [
        "\n",
        "def load_y_first(subset):\n",
        "    \"\"\"\n",
        "    The objective that we are trying to predict is a integer, from 1 to 6,\n",
        "    that represents a human activity. We return a binary representation of \n",
        "    every sample objective as a 6 bits vector using One Hot Encoding\n",
        "    (https://pandas.pydata.org/pandas-docs/stable/generated/pandas.get_dummies.html)\n",
        "    \"\"\"\n",
        "    filename = f'UCI_HAR_Dataset/{subset}/y_{subset}.txt'\n",
        "    y = _read_csv(filename)[0]\n",
        "\n",
        "    # for two divide and conquer CNN\n",
        "    for i in range(len(y)):\n",
        "      if y[i] <4:\n",
        "        y[i] = 0\n",
        "      else:\n",
        "        y[i] = 1    \n",
        "\n",
        "\n",
        "    return pd.get_dummies(y).values\n",
        "    #return y"
      ],
      "execution_count": 20,
      "outputs": []
    },
    {
      "cell_type": "code",
      "metadata": {
        "id": "bQYx3sXBCnGo"
      },
      "source": [
        "def load_y_second(subset):\n",
        "    \"\"\"\n",
        "    The objective that we are trying to predict is a integer, from 1 to 6,\n",
        "    that represents a human activity. We return a binary representation of \n",
        "    every sample objective as a 6 bits vector using One Hot Encoding\n",
        "    (https://pandas.pydata.org/pandas-docs/stable/generated/pandas.get_dummies.html)\n",
        "    \"\"\"\n",
        "    filename = f'UCI_HAR_Dataset/{subset}/y_{subset}.txt'\n",
        "    y = _read_csv(filename)[0]\n",
        "\n",
        "    y_st = y[y>3]\n",
        "    y_dy = y[y<4]\n",
        "   \n",
        "\n",
        "\n",
        "    return pd.get_dummies(y_st).values, pd.get_dummies(y_dy).values, y.values\n",
        "    #return y"
      ],
      "execution_count": 21,
      "outputs": []
    },
    {
      "cell_type": "code",
      "metadata": {
        "id": "s0FXWlKEJeMn"
      },
      "source": [
        "def load_data_first():\n",
        "    \"\"\"\n",
        "    Obtain the dataset from multiple files.\n",
        "    Returns: X_train, X_test, y_train, y_test\n",
        "    \"\"\"\n",
        "    X_train, X_test = load_signals('train'), load_signals('test')\n",
        "    y_train, y_test = load_y_first('train'), load_y_first('test')\n",
        "\n",
        "    return X_train, X_test, y_train, y_test"
      ],
      "execution_count": 22,
      "outputs": []
    },
    {
      "cell_type": "code",
      "metadata": {
        "id": "xzJ9QMMm4DUw"
      },
      "source": [
        "# Loading the train and test data\n",
        "X_train, X_test, Y_train, Y_test = load_data_first()"
      ],
      "execution_count": 23,
      "outputs": []
    },
    {
      "cell_type": "code",
      "metadata": {
        "colab": {
          "base_uri": "https://localhost:8080/"
        },
        "id": "HOenNPbb846t",
        "outputId": "c3e2063e-c334-41fb-c8f0-be198ea0b3b6"
      },
      "source": [
        "X_train[0].shape"
      ],
      "execution_count": 24,
      "outputs": [
        {
          "output_type": "execute_result",
          "data": {
            "text/plain": [
              "(128, 9)"
            ]
          },
          "metadata": {},
          "execution_count": 24
        }
      ]
    },
    {
      "cell_type": "code",
      "metadata": {
        "colab": {
          "base_uri": "https://localhost:8080/"
        },
        "id": "G8fFiOS_-hBA",
        "outputId": "0e82c503-2948-454a-c1da-05f5f5eab639"
      },
      "source": [
        "#First stage model (To predict if the datapoint is static or dynamic)\n",
        "\n",
        "tf.random.set_seed(140)\n",
        "n_hidden1 = 64\n",
        "n_hidden2 = 32\n",
        "epochs = 30\n",
        "n_classes = 2\n",
        "# Initiliazing the sequential model\n",
        "model = keras.Sequential()\n",
        "# Configuring the parameters\n",
        "model.add(layers.Conv1D(n_hidden2, kernel_size= 3, activation='relu', input_shape=(timesteps, input_dim), kernel_initializer='glorot_normal', kernel_regularizer='l2'))\n",
        "\n",
        "# Configuring the parameters\n",
        "model.add(layers.Conv1D(n_hidden2, kernel_size= 3, activation='relu', kernel_initializer='glorot_normal', kernel_regularizer='l2'))\n",
        "\n",
        "# Adding a dropout layer\n",
        "model.add(layers.Dropout(0.5))\n",
        "\n",
        "#MaxPool\n",
        "model.add(layers.MaxPool1D(2))\n",
        "\n",
        "#flatten\n",
        "model.add(layers.Flatten())\n",
        "\n",
        "# Adding a dense output layer with relu activation\n",
        "model.add(layers.Dense(n_hidden1, activation='relu', kernel_initializer='he_normal'))\n",
        "\n",
        "# Adding a dropout layer\n",
        "model.add(layers.Dropout(0.5))\n",
        "\n",
        "# Adding a dense output layer with softmax activation\n",
        "model.add(layers.Dense(n_classes, activation='softmax'))\n",
        "\n",
        "print (model.summary())\n",
        "\n",
        "opt =  tf.keras.optimizers.Adam(learning_rate=0.0001)\n",
        "\n",
        "# Compiling the model\n",
        "model.compile(loss=keras.losses.CategoricalCrossentropy(from_logits=True),\n",
        "              optimizer='adam',\n",
        "              metrics=['accuracy'])\n",
        "\n",
        "# Training the model\n",
        "model.fit(X_train,\n",
        "          Y_train,\n",
        "          batch_size=batch_size,\n",
        "          validation_data=(X_test, Y_test),\n",
        "          epochs=epochs)"
      ],
      "execution_count": null,
      "outputs": [
        {
          "output_type": "stream",
          "name": "stdout",
          "text": [
            "Model: \"sequential\"\n",
            "_________________________________________________________________\n",
            "Layer (type)                 Output Shape              Param #   \n",
            "=================================================================\n",
            "conv1d (Conv1D)              (None, 126, 32)           896       \n",
            "_________________________________________________________________\n",
            "conv1d_1 (Conv1D)            (None, 124, 32)           3104      \n",
            "_________________________________________________________________\n",
            "dropout (Dropout)            (None, 124, 32)           0         \n",
            "_________________________________________________________________\n",
            "max_pooling1d (MaxPooling1D) (None, 62, 32)            0         \n",
            "_________________________________________________________________\n",
            "flatten (Flatten)            (None, 1984)              0         \n",
            "_________________________________________________________________\n",
            "dense (Dense)                (None, 64)                127040    \n",
            "_________________________________________________________________\n",
            "dropout_1 (Dropout)          (None, 64)                0         \n",
            "_________________________________________________________________\n",
            "dense_1 (Dense)              (None, 2)                 130       \n",
            "=================================================================\n",
            "Total params: 131,170\n",
            "Trainable params: 131,170\n",
            "Non-trainable params: 0\n",
            "_________________________________________________________________\n",
            "None\n",
            "Epoch 1/30\n"
          ]
        },
        {
          "output_type": "stream",
          "name": "stderr",
          "text": [
            "/usr/local/lib/python3.7/dist-packages/keras/backend.py:4847: UserWarning: \"`categorical_crossentropy` received `from_logits=True`, but the `output` argument was produced by a sigmoid or softmax activation and thus does not represent logits. Was this intended?\"\n",
            "  '\"`categorical_crossentropy` received `from_logits=True`, but '\n"
          ]
        },
        {
          "output_type": "stream",
          "name": "stdout",
          "text": [
            "460/460 [==============================] - 19s 7ms/step - loss: 0.2582 - accuracy: 0.9845 - val_loss: 0.1285 - val_accuracy: 0.9946\n",
            "Epoch 2/30\n",
            "460/460 [==============================] - 3s 6ms/step - loss: 0.0824 - accuracy: 0.9980 - val_loss: 0.0824 - val_accuracy: 0.9912\n",
            "Epoch 3/30\n",
            "460/460 [==============================] - 3s 6ms/step - loss: 0.0483 - accuracy: 0.9977 - val_loss: 0.0549 - val_accuracy: 0.9946\n",
            "Epoch 4/30\n",
            "460/460 [==============================] - 3s 6ms/step - loss: 0.0356 - accuracy: 0.9978 - val_loss: 0.0448 - val_accuracy: 0.9956\n",
            "Epoch 5/30\n",
            "460/460 [==============================] - 3s 6ms/step - loss: 0.0258 - accuracy: 0.9986 - val_loss: 0.0482 - val_accuracy: 0.9881\n",
            "Epoch 6/30\n",
            "460/460 [==============================] - 3s 6ms/step - loss: 0.0198 - accuracy: 0.9986 - val_loss: 0.0541 - val_accuracy: 0.9902\n",
            "Epoch 7/30\n",
            "460/460 [==============================] - 3s 6ms/step - loss: 0.0183 - accuracy: 0.9990 - val_loss: 0.0360 - val_accuracy: 0.9915\n",
            "Epoch 8/30\n",
            "460/460 [==============================] - 3s 6ms/step - loss: 0.0164 - accuracy: 0.9988 - val_loss: 0.0220 - val_accuracy: 0.9980\n",
            "Epoch 9/30\n",
            "460/460 [==============================] - 3s 6ms/step - loss: 0.0161 - accuracy: 0.9984 - val_loss: 0.0181 - val_accuracy: 0.9983\n",
            "Epoch 10/30\n",
            "460/460 [==============================] - 3s 6ms/step - loss: 0.0115 - accuracy: 0.9995 - val_loss: 0.0120 - val_accuracy: 0.9990\n",
            "Epoch 11/30\n",
            "460/460 [==============================] - 3s 6ms/step - loss: 0.0121 - accuracy: 0.9989 - val_loss: 0.0158 - val_accuracy: 0.9986\n",
            "Epoch 12/30\n",
            "460/460 [==============================] - 3s 6ms/step - loss: 0.0124 - accuracy: 0.9993 - val_loss: 0.0118 - val_accuracy: 0.9990\n",
            "Epoch 13/30\n",
            "460/460 [==============================] - 3s 6ms/step - loss: 0.0101 - accuracy: 0.9996 - val_loss: 0.0155 - val_accuracy: 0.9969\n",
            "Epoch 14/30\n",
            "460/460 [==============================] - 3s 6ms/step - loss: 0.0074 - accuracy: 0.9996 - val_loss: 0.0108 - val_accuracy: 0.9990\n",
            "Epoch 15/30\n",
            "460/460 [==============================] - 3s 6ms/step - loss: 0.0079 - accuracy: 0.9990 - val_loss: 0.0165 - val_accuracy: 0.9983\n",
            "Epoch 16/30\n",
            "460/460 [==============================] - 3s 6ms/step - loss: 0.0099 - accuracy: 0.9997 - val_loss: 0.0094 - val_accuracy: 0.9993\n",
            "Epoch 17/30\n",
            "460/460 [==============================] - 3s 6ms/step - loss: 0.0105 - accuracy: 0.9989 - val_loss: 0.0090 - val_accuracy: 0.9990\n",
            "Epoch 18/30\n",
            "460/460 [==============================] - 3s 6ms/step - loss: 0.0062 - accuracy: 1.0000 - val_loss: 0.0064 - val_accuracy: 0.9993\n",
            "Epoch 19/30\n",
            "460/460 [==============================] - 3s 6ms/step - loss: 0.0046 - accuracy: 1.0000 - val_loss: 0.0065 - val_accuracy: 0.9990\n",
            "Epoch 20/30\n",
            "460/460 [==============================] - 3s 6ms/step - loss: 0.0049 - accuracy: 0.9997 - val_loss: 0.0089 - val_accuracy: 0.9993\n",
            "Epoch 21/30\n",
            "460/460 [==============================] - 3s 6ms/step - loss: 0.0045 - accuracy: 1.0000 - val_loss: 0.0048 - val_accuracy: 0.9997\n",
            "Epoch 22/30\n",
            "460/460 [==============================] - 3s 6ms/step - loss: 0.0074 - accuracy: 0.9989 - val_loss: 0.0101 - val_accuracy: 0.9990\n",
            "Epoch 23/30\n",
            "460/460 [==============================] - 3s 6ms/step - loss: 0.0069 - accuracy: 0.9996 - val_loss: 0.0086 - val_accuracy: 0.9993\n",
            "Epoch 24/30\n",
            "460/460 [==============================] - 3s 6ms/step - loss: 0.0075 - accuracy: 0.9992 - val_loss: 0.0060 - val_accuracy: 1.0000\n",
            "Epoch 25/30\n",
            "460/460 [==============================] - 3s 6ms/step - loss: 0.0054 - accuracy: 1.0000 - val_loss: 0.0045 - val_accuracy: 1.0000\n",
            "Epoch 26/30\n",
            "460/460 [==============================] - 3s 6ms/step - loss: 0.0044 - accuracy: 1.0000 - val_loss: 0.0041 - val_accuracy: 1.0000\n",
            "Epoch 27/30\n",
            "460/460 [==============================] - 3s 6ms/step - loss: 0.0034 - accuracy: 1.0000 - val_loss: 0.0029 - val_accuracy: 1.0000\n",
            "Epoch 28/30\n",
            "460/460 [==============================] - 3s 6ms/step - loss: 0.0027 - accuracy: 1.0000 - val_loss: 0.0027 - val_accuracy: 1.0000\n",
            "Epoch 29/30\n",
            "460/460 [==============================] - 3s 6ms/step - loss: 0.0028 - accuracy: 0.9999 - val_loss: 0.0110 - val_accuracy: 0.9986\n",
            "Epoch 30/30\n",
            "460/460 [==============================] - 3s 6ms/step - loss: 0.0080 - accuracy: 0.9986 - val_loss: 0.0052 - val_accuracy: 1.0000\n"
          ]
        },
        {
          "output_type": "execute_result",
          "data": {
            "text/plain": [
              "<keras.callbacks.History at 0x7f355e1124d0>"
            ]
          },
          "metadata": {},
          "execution_count": 20
        }
      ]
    },
    {
      "cell_type": "code",
      "metadata": {
        "id": "mhZ6P2Bb9wj5"
      },
      "source": [
        "#save the model\n",
        "model.save(\"binary.h5\")"
      ],
      "execution_count": null,
      "outputs": []
    },
    {
      "cell_type": "code",
      "metadata": {
        "id": "MS_P9YXF-Rnn"
      },
      "source": [
        "def load_data_second():\n",
        "    \"\"\"\n",
        "    Obtain the dataset from multiple files.\n",
        "    Returns: X_train, X_test, y_train, y_test\n",
        "    \"\"\"\n",
        "    X_train, X_test = load_signals('train'), load_signals('test')\n",
        "\n",
        "    y_train_st, y_train_dy, y = load_y_second('train')\n",
        "\n",
        "    y_test_st, y_test_dy, y_ = load_y_second('test')\n",
        "\n",
        "    X_train_st = X_train[y > 3]\n",
        "    X_train_dy = X_train[y < 4]\n",
        "\n",
        "    X_test_st = X_test[y_ > 3]\n",
        "    X_test_dy = X_test[y_ < 4]    \n",
        "\n",
        "    return X_train_st, X_train_dy, X_test_st, X_test_dy, y_train_st, y_train_dy, y_test_st, y_test_dy"
      ],
      "execution_count": null,
      "outputs": []
    },
    {
      "cell_type": "code",
      "metadata": {
        "id": "vfoA_xf_EblA"
      },
      "source": [
        "# Loading the train and test data (for Static and dynamic model)\n",
        "X_train_st, X_train_dy, X_test_st, X_test_dy, Y_train_st, Y_train_dy, Y_test_st, Y_test_dy = load_data_second()"
      ],
      "execution_count": null,
      "outputs": []
    },
    {
      "cell_type": "code",
      "metadata": {
        "colab": {
          "base_uri": "https://localhost:8080/"
        },
        "id": "VqcyUZawiTa4",
        "outputId": "fc67439e-27c4-44c4-c837-39503d930d08"
      },
      "source": [
        "timesteps = len(X_train_st[0])\n",
        "input_dim = len(X_train_st[0][0])\n",
        "\n",
        "\n",
        "print(timesteps)\n",
        "print(input_dim)\n",
        "print(len(X_train_st))"
      ],
      "execution_count": null,
      "outputs": [
        {
          "output_type": "stream",
          "name": "stdout",
          "text": [
            "128\n",
            "9\n",
            "4067\n"
          ]
        }
      ]
    },
    {
      "cell_type": "code",
      "metadata": {
        "id": "NZXkxQEbE7-I",
        "colab": {
          "base_uri": "https://localhost:8080/"
        },
        "outputId": "0ed0024b-1e9d-443f-87de-b310ac695e93"
      },
      "source": [
        "#model for static classes\n",
        "\n",
        "tf.random.set_seed(142)\n",
        "n_hidden1 = 100\n",
        "n_hidden2 = 50\n",
        "n_hidden3 = 30\n",
        "epochs = 30\n",
        "n_classes = 3\n",
        "\n",
        "# Initiliazing the sequential model_st\n",
        "model_st = keras.Sequential()\n",
        "# Configuring the parameters\n",
        "model_st.add(layers.Conv1D(n_hidden3, kernel_size= 2, activation='relu', input_shape=(timesteps, input_dim), kernel_initializer='glorot_normal', kernel_regularizer='l2'))\n",
        "\n",
        "# Adding a dropout layer\n",
        "model_st.add(layers.Dropout(0.5))\n",
        "\n",
        "\n",
        "# Configuring the parameters\n",
        "model_st.add(layers.Conv1D(n_hidden2, kernel_size= 3, activation='relu', kernel_initializer='glorot_normal', kernel_regularizer='l2'))\n",
        "\n",
        "# Adding a dropout layer\n",
        "model_st.add(layers.Dropout(0.5))\n",
        "\n",
        "\n",
        "# Configuring the parameters\n",
        "model_st.add(layers.Conv1D(n_hidden1, kernel_size= 4, activation='relu', kernel_initializer='glorot_normal', kernel_regularizer='l2'))\n",
        "\n",
        "# Add BN layer\n",
        "model_st.add(layers.BatchNormalization())\n",
        "\n",
        "# Adding a dropout layer\n",
        "model_st.add(layers.Dropout(0.5))\n",
        "\n",
        "#MaxPool\n",
        "#model_st.add(layers.MaxPool1D(2))\n",
        "\n",
        "#flatten\n",
        "model_st.add(layers.Flatten())\n",
        "\n",
        "# Adding a dense output layer with relu activation\n",
        "model_st.add(layers.Dense(n_hidden1, activation='relu', kernel_initializer='glorot_normal'))\n",
        "\n",
        "# Adding a dropout layer\n",
        "model_st.add(layers.Dropout(0.5))\n",
        "\n",
        "\n",
        "\n",
        "# Adding a dense output layer with softmax activation\n",
        "model_st.add(layers.Dense(n_classes, activation='softmax'))\n",
        "\n",
        "print (model_st.summary())\n",
        "\n",
        "opt =  tf.keras.optimizers.Adam(learning_rate=0.0009)\n",
        "\n",
        "# Compiling the model_st\n",
        "model_st.compile(loss=keras.losses.CategoricalCrossentropy(from_logits=True),\n",
        "              optimizer='adamax',\n",
        "              metrics=['accuracy'])\n",
        "\n",
        "# Training the model_st\n",
        "model_st.fit(X_train_st,\n",
        "          Y_train_st,\n",
        "          batch_size=batch_size,\n",
        "          validation_data=(X_test_st, Y_test_st),\n",
        "          epochs=epochs)\n"
      ],
      "execution_count": null,
      "outputs": [
        {
          "output_type": "stream",
          "text": [
            "Model: \"sequential_41\"\n",
            "_________________________________________________________________\n",
            "Layer (type)                 Output Shape              Param #   \n",
            "=================================================================\n",
            "conv1d_94 (Conv1D)           (None, 127, 30)           570       \n",
            "_________________________________________________________________\n",
            "dropout_115 (Dropout)        (None, 127, 30)           0         \n",
            "_________________________________________________________________\n",
            "conv1d_95 (Conv1D)           (None, 125, 50)           4550      \n",
            "_________________________________________________________________\n",
            "dropout_116 (Dropout)        (None, 125, 50)           0         \n",
            "_________________________________________________________________\n",
            "conv1d_96 (Conv1D)           (None, 122, 100)          20100     \n",
            "_________________________________________________________________\n",
            "batch_normalization_21 (Batc (None, 122, 100)          400       \n",
            "_________________________________________________________________\n",
            "dropout_117 (Dropout)        (None, 122, 100)          0         \n",
            "_________________________________________________________________\n",
            "flatten_41 (Flatten)         (None, 12200)             0         \n",
            "_________________________________________________________________\n",
            "dense_82 (Dense)             (None, 100)               1220100   \n",
            "_________________________________________________________________\n",
            "dropout_118 (Dropout)        (None, 100)               0         \n",
            "_________________________________________________________________\n",
            "dense_83 (Dense)             (None, 3)                 303       \n",
            "=================================================================\n",
            "Total params: 1,246,023\n",
            "Trainable params: 1,245,823\n",
            "Non-trainable params: 200\n",
            "_________________________________________________________________\n",
            "None\n",
            "Epoch 1/30\n"
          ],
          "name": "stdout"
        },
        {
          "output_type": "stream",
          "text": [
            "/usr/local/lib/python3.7/dist-packages/tensorflow/python/keras/backend.py:4870: UserWarning: \"`categorical_crossentropy` received `from_logits=True`, but the `output` argument was produced by a sigmoid or softmax activation and thus does not represent logits. Was this intended?\"\n",
            "  '\"`categorical_crossentropy` received `from_logits=True`, but '\n"
          ],
          "name": "stderr"
        },
        {
          "output_type": "stream",
          "text": [
            "255/255 [==============================] - 2s 6ms/step - loss: 1.7422 - accuracy: 0.8094 - val_loss: 1.5868 - val_accuracy: 0.6744\n",
            "Epoch 2/30\n",
            "255/255 [==============================] - 1s 5ms/step - loss: 1.3807 - accuracy: 0.8739 - val_loss: 1.4570 - val_accuracy: 0.7090\n",
            "Epoch 3/30\n",
            "255/255 [==============================] - 1s 5ms/step - loss: 1.2563 - accuracy: 0.8881 - val_loss: 1.3921 - val_accuracy: 0.7429\n",
            "Epoch 4/30\n",
            "255/255 [==============================] - 1s 5ms/step - loss: 1.1903 - accuracy: 0.8844 - val_loss: 1.3072 - val_accuracy: 0.8365\n",
            "Epoch 5/30\n",
            "255/255 [==============================] - 1s 5ms/step - loss: 1.1111 - accuracy: 0.8948 - val_loss: 1.2500 - val_accuracy: 0.8006\n",
            "Epoch 6/30\n",
            "255/255 [==============================] - 1s 5ms/step - loss: 1.0343 - accuracy: 0.9012 - val_loss: 1.1372 - val_accuracy: 0.8603\n",
            "Epoch 7/30\n",
            "255/255 [==============================] - 1s 5ms/step - loss: 0.9774 - accuracy: 0.9041 - val_loss: 1.1013 - val_accuracy: 0.8141\n",
            "Epoch 8/30\n",
            "255/255 [==============================] - 1s 5ms/step - loss: 0.9136 - accuracy: 0.8962 - val_loss: 1.1547 - val_accuracy: 0.7462\n",
            "Epoch 9/30\n",
            "255/255 [==============================] - 1s 5ms/step - loss: 0.8594 - accuracy: 0.9004 - val_loss: 1.0314 - val_accuracy: 0.8321\n",
            "Epoch 10/30\n",
            "255/255 [==============================] - 1s 5ms/step - loss: 0.8023 - accuracy: 0.8989 - val_loss: 0.9795 - val_accuracy: 0.8404\n",
            "Epoch 11/30\n",
            "255/255 [==============================] - 1s 5ms/step - loss: 0.7367 - accuracy: 0.8992 - val_loss: 0.9161 - val_accuracy: 0.8404\n",
            "Epoch 12/30\n",
            "255/255 [==============================] - 1s 5ms/step - loss: 0.6947 - accuracy: 0.9036 - val_loss: 0.8710 - val_accuracy: 0.7731\n",
            "Epoch 13/30\n",
            "255/255 [==============================] - 1s 5ms/step - loss: 0.6552 - accuracy: 0.9068 - val_loss: 0.8499 - val_accuracy: 0.7718\n",
            "Epoch 14/30\n",
            "255/255 [==============================] - 1s 5ms/step - loss: 0.6123 - accuracy: 0.9088 - val_loss: 0.7779 - val_accuracy: 0.7994\n",
            "Epoch 15/30\n",
            "255/255 [==============================] - 1s 5ms/step - loss: 0.5736 - accuracy: 0.9039 - val_loss: 0.7623 - val_accuracy: 0.7865\n",
            "Epoch 16/30\n",
            "255/255 [==============================] - 1s 5ms/step - loss: 0.5317 - accuracy: 0.9120 - val_loss: 0.7689 - val_accuracy: 0.8224\n",
            "Epoch 17/30\n",
            "255/255 [==============================] - 1s 5ms/step - loss: 0.4977 - accuracy: 0.9127 - val_loss: 0.6872 - val_accuracy: 0.8295\n",
            "Epoch 18/30\n",
            "255/255 [==============================] - 1s 5ms/step - loss: 0.4689 - accuracy: 0.9075 - val_loss: 0.7195 - val_accuracy: 0.8173\n",
            "Epoch 19/30\n",
            "255/255 [==============================] - 1s 5ms/step - loss: 0.4400 - accuracy: 0.9083 - val_loss: 0.7158 - val_accuracy: 0.8006\n",
            "Epoch 20/30\n",
            "255/255 [==============================] - 1s 5ms/step - loss: 0.4109 - accuracy: 0.9164 - val_loss: 0.8226 - val_accuracy: 0.8090\n",
            "Epoch 21/30\n",
            "255/255 [==============================] - 1s 5ms/step - loss: 0.4010 - accuracy: 0.9120 - val_loss: 0.7091 - val_accuracy: 0.7910\n",
            "Epoch 22/30\n",
            "255/255 [==============================] - 1s 5ms/step - loss: 0.3824 - accuracy: 0.9125 - val_loss: 1.0793 - val_accuracy: 0.8532\n",
            "Epoch 23/30\n",
            "255/255 [==============================] - 1s 5ms/step - loss: 0.3641 - accuracy: 0.9127 - val_loss: 0.6605 - val_accuracy: 0.8622\n",
            "Epoch 24/30\n",
            "255/255 [==============================] - 1s 5ms/step - loss: 0.3449 - accuracy: 0.9120 - val_loss: 0.6607 - val_accuracy: 0.8615\n",
            "Epoch 25/30\n",
            "255/255 [==============================] - 1s 5ms/step - loss: 0.3309 - accuracy: 0.9179 - val_loss: 0.8108 - val_accuracy: 0.8301\n",
            "Epoch 26/30\n",
            "255/255 [==============================] - 1s 5ms/step - loss: 0.3220 - accuracy: 0.9144 - val_loss: 0.6271 - val_accuracy: 0.8006\n",
            "Epoch 27/30\n",
            "255/255 [==============================] - 1s 5ms/step - loss: 0.3136 - accuracy: 0.9149 - val_loss: 0.7936 - val_accuracy: 0.8756\n",
            "Epoch 28/30\n",
            "255/255 [==============================] - 1s 5ms/step - loss: 0.3087 - accuracy: 0.9162 - val_loss: 0.8734 - val_accuracy: 0.8622\n",
            "Epoch 29/30\n",
            "255/255 [==============================] - 1s 6ms/step - loss: 0.2979 - accuracy: 0.9198 - val_loss: 0.9538 - val_accuracy: 0.8756\n",
            "Epoch 30/30\n",
            "255/255 [==============================] - 1s 5ms/step - loss: 0.2909 - accuracy: 0.9198 - val_loss: 0.7551 - val_accuracy: 0.8865\n"
          ],
          "name": "stdout"
        },
        {
          "output_type": "execute_result",
          "data": {
            "text/plain": [
              "<tensorflow.python.keras.callbacks.History at 0x7fd7baa6df90>"
            ]
          },
          "metadata": {
            "tags": []
          },
          "execution_count": 163
        }
      ]
    },
    {
      "cell_type": "code",
      "metadata": {
        "id": "ybcswPBwGUCh"
      },
      "source": [
        "#save the model\n",
        "model_st.save('static.h5')"
      ],
      "execution_count": null,
      "outputs": []
    },
    {
      "cell_type": "code",
      "metadata": {
        "colab": {
          "base_uri": "https://localhost:8080/"
        },
        "id": "iAOGFMfZGrTQ",
        "outputId": "22fa147a-42f4-4857-da77-f7baff937501"
      },
      "source": [
        "# model for dynamic classes\n",
        "\n",
        "tf.random.set_seed(149)\n",
        "n_hidden1 = 64\n",
        "n_hidden2 = 32\n",
        "n_hidden3 = 16\n",
        "epochs = 30\n",
        "n_classes = 3\n",
        "# Initiliazing the sequential model_st\n",
        "model_dy = keras.Sequential()\n",
        "# Configuring the parameters\n",
        "model_dy.add(layers.Conv1D(n_hidden1, kernel_size= 3, activation='relu', input_shape=(timesteps, input_dim), kernel_initializer='glorot_normal' ))\n",
        "\n",
        "# Configuring the parameters\n",
        "model_dy.add(layers.Conv1D(n_hidden2, kernel_size= 3, activation='relu', kernel_initializer='glorot_normal'))\n",
        "\n",
        "\n",
        "\n",
        "# Adding a dropout layer\n",
        "model_dy.add(layers.Dropout(0.5))\n",
        "\n",
        "#MaxPool\n",
        "model_dy.add(layers.MaxPool1D(3))\n",
        "\n",
        "#flatten\n",
        "model_dy.add(layers.Flatten())\n",
        "\n",
        "# Adding a dense output layer with relu activation\n",
        "model_dy.add(layers.Dense(n_hidden3, activation='relu', kernel_initializer='glorot_normal'))\n",
        "\n",
        "\n",
        "# Adding a dropout layer\n",
        "model_dy.add(layers.Dropout(0.5))\n",
        "\n",
        "# Adding a dense output layer with softmax activation\n",
        "model_dy.add(layers.Dense(n_classes, activation='softmax'))\n",
        "\n",
        "print (model_dy.summary())\n",
        "\n",
        "opt =  tf.keras.optimizers.Adam(learning_rate=0.0004)\n",
        "\n",
        "# Compiling the model_dy\n",
        "model_dy.compile(loss=keras.losses.CategoricalCrossentropy(from_logits=True),\n",
        "              optimizer='rmsprop',\n",
        "              metrics=['accuracy'])\n",
        "\n",
        "# Training the model_dy\n",
        "model_dy.fit(X_train_dy,\n",
        "          Y_train_dy,\n",
        "          batch_size=batch_size,\n",
        "          validation_data=(X_test_dy, Y_test_dy),\n",
        "          epochs=epochs)\n"
      ],
      "execution_count": null,
      "outputs": [
        {
          "output_type": "stream",
          "name": "stdout",
          "text": [
            "Model: \"sequential_2\"\n",
            "_________________________________________________________________\n",
            "Layer (type)                 Output Shape              Param #   \n",
            "=================================================================\n",
            "conv1d_5 (Conv1D)            (None, 126, 64)           1792      \n",
            "_________________________________________________________________\n",
            "conv1d_6 (Conv1D)            (None, 124, 32)           6176      \n",
            "_________________________________________________________________\n",
            "dropout_6 (Dropout)          (None, 124, 32)           0         \n",
            "_________________________________________________________________\n",
            "max_pooling1d_1 (MaxPooling1 (None, 41, 32)            0         \n",
            "_________________________________________________________________\n",
            "flatten_2 (Flatten)          (None, 1312)              0         \n",
            "_________________________________________________________________\n",
            "dense_4 (Dense)              (None, 16)                21008     \n",
            "_________________________________________________________________\n",
            "dropout_7 (Dropout)          (None, 16)                0         \n",
            "_________________________________________________________________\n",
            "dense_5 (Dense)              (None, 3)                 51        \n",
            "=================================================================\n",
            "Total params: 29,027\n",
            "Trainable params: 29,027\n",
            "Non-trainable params: 0\n",
            "_________________________________________________________________\n",
            "None\n",
            "Epoch 1/30\n"
          ]
        },
        {
          "output_type": "stream",
          "name": "stderr",
          "text": [
            "/usr/local/lib/python3.7/dist-packages/keras/backend.py:4847: UserWarning: \"`categorical_crossentropy` received `from_logits=True`, but the `output` argument was produced by a sigmoid or softmax activation and thus does not represent logits. Was this intended?\"\n",
            "  '\"`categorical_crossentropy` received `from_logits=True`, but '\n"
          ]
        },
        {
          "output_type": "stream",
          "name": "stdout",
          "text": [
            "206/206 [==============================] - 3s 8ms/step - loss: 0.8262 - accuracy: 0.5927 - val_loss: 0.7320 - val_accuracy: 0.6698\n",
            "Epoch 2/30\n",
            "206/206 [==============================] - 1s 6ms/step - loss: 0.3448 - accuracy: 0.8746 - val_loss: 0.4613 - val_accuracy: 0.8118\n",
            "Epoch 3/30\n",
            "206/206 [==============================] - 1s 6ms/step - loss: 0.1895 - accuracy: 0.9275 - val_loss: 0.2401 - val_accuracy: 0.9236\n",
            "Epoch 4/30\n",
            "206/206 [==============================] - 1s 6ms/step - loss: 0.1300 - accuracy: 0.9449 - val_loss: 0.2059 - val_accuracy: 0.9329\n",
            "Epoch 5/30\n",
            "206/206 [==============================] - 1s 7ms/step - loss: 0.1103 - accuracy: 0.9531 - val_loss: 0.1965 - val_accuracy: 0.9402\n",
            "Epoch 6/30\n",
            "206/206 [==============================] - 1s 6ms/step - loss: 0.0917 - accuracy: 0.9607 - val_loss: 0.1726 - val_accuracy: 0.9517\n",
            "Epoch 7/30\n",
            "206/206 [==============================] - 1s 6ms/step - loss: 0.0793 - accuracy: 0.9638 - val_loss: 0.3244 - val_accuracy: 0.9315\n",
            "Epoch 8/30\n",
            "206/206 [==============================] - 1s 6ms/step - loss: 0.0708 - accuracy: 0.9665 - val_loss: 0.1820 - val_accuracy: 0.9423\n",
            "Epoch 9/30\n",
            "206/206 [==============================] - 1s 7ms/step - loss: 0.0619 - accuracy: 0.9702 - val_loss: 0.2489 - val_accuracy: 0.9402\n",
            "Epoch 10/30\n",
            "206/206 [==============================] - 1s 6ms/step - loss: 0.0696 - accuracy: 0.9693 - val_loss: 0.3363 - val_accuracy: 0.9416\n",
            "Epoch 11/30\n",
            "206/206 [==============================] - 1s 6ms/step - loss: 0.0553 - accuracy: 0.9760 - val_loss: 0.1640 - val_accuracy: 0.9582\n",
            "Epoch 12/30\n",
            "206/206 [==============================] - 1s 6ms/step - loss: 0.0597 - accuracy: 0.9729 - val_loss: 0.2543 - val_accuracy: 0.9430\n",
            "Epoch 13/30\n",
            "206/206 [==============================] - 1s 7ms/step - loss: 0.0626 - accuracy: 0.9717 - val_loss: 0.1432 - val_accuracy: 0.9603\n",
            "Epoch 14/30\n",
            "206/206 [==============================] - 1s 7ms/step - loss: 0.0556 - accuracy: 0.9763 - val_loss: 0.1359 - val_accuracy: 0.9517\n",
            "Epoch 15/30\n",
            "206/206 [==============================] - 1s 6ms/step - loss: 0.0480 - accuracy: 0.9784 - val_loss: 0.1204 - val_accuracy: 0.9603\n",
            "Epoch 16/30\n",
            "206/206 [==============================] - 1s 7ms/step - loss: 0.0567 - accuracy: 0.9753 - val_loss: 0.2406 - val_accuracy: 0.9459\n",
            "Epoch 17/30\n",
            "206/206 [==============================] - 1s 7ms/step - loss: 0.0581 - accuracy: 0.9756 - val_loss: 0.1803 - val_accuracy: 0.9618\n",
            "Epoch 18/30\n",
            "206/206 [==============================] - 1s 7ms/step - loss: 0.0500 - accuracy: 0.9778 - val_loss: 0.3784 - val_accuracy: 0.9445\n",
            "Epoch 19/30\n",
            "206/206 [==============================] - 1s 7ms/step - loss: 0.0484 - accuracy: 0.9784 - val_loss: 0.5215 - val_accuracy: 0.9315\n",
            "Epoch 20/30\n",
            "206/206 [==============================] - 1s 6ms/step - loss: 0.0504 - accuracy: 0.9781 - val_loss: 0.2988 - val_accuracy: 0.9517\n",
            "Epoch 21/30\n",
            "206/206 [==============================] - 1s 6ms/step - loss: 0.0551 - accuracy: 0.9796 - val_loss: 0.4890 - val_accuracy: 0.9546\n",
            "Epoch 22/30\n",
            "206/206 [==============================] - 1s 6ms/step - loss: 0.0490 - accuracy: 0.9802 - val_loss: 0.6778 - val_accuracy: 0.9293\n",
            "Epoch 23/30\n",
            "206/206 [==============================] - 1s 6ms/step - loss: 0.0544 - accuracy: 0.9787 - val_loss: 0.1601 - val_accuracy: 0.9596\n",
            "Epoch 24/30\n",
            "206/206 [==============================] - 1s 6ms/step - loss: 0.0559 - accuracy: 0.9833 - val_loss: 0.2466 - val_accuracy: 0.9647\n",
            "Epoch 25/30\n",
            "206/206 [==============================] - 1s 6ms/step - loss: 0.0497 - accuracy: 0.9805 - val_loss: 0.6129 - val_accuracy: 0.9553\n",
            "Epoch 26/30\n",
            "206/206 [==============================] - 1s 6ms/step - loss: 0.0560 - accuracy: 0.9814 - val_loss: 0.3169 - val_accuracy: 0.9654\n",
            "Epoch 27/30\n",
            "206/206 [==============================] - 1s 7ms/step - loss: 0.0611 - accuracy: 0.9817 - val_loss: 0.3308 - val_accuracy: 0.9582\n",
            "Epoch 28/30\n",
            "206/206 [==============================] - 1s 7ms/step - loss: 0.0463 - accuracy: 0.9817 - val_loss: 0.1860 - val_accuracy: 0.9683\n",
            "Epoch 29/30\n",
            "206/206 [==============================] - 1s 6ms/step - loss: 0.0459 - accuracy: 0.9833 - val_loss: 0.6723 - val_accuracy: 0.9358\n",
            "Epoch 30/30\n",
            "206/206 [==============================] - 1s 6ms/step - loss: 0.0745 - accuracy: 0.9790 - val_loss: 0.4222 - val_accuracy: 0.9466\n"
          ]
        },
        {
          "output_type": "execute_result",
          "data": {
            "text/plain": [
              "<keras.callbacks.History at 0x7f355d8dc050>"
            ]
          },
          "metadata": {},
          "execution_count": 38
        }
      ]
    },
    {
      "cell_type": "code",
      "metadata": {
        "id": "H6C_VVvbHGmF"
      },
      "source": [
        "#save the model\n",
        "model_dy.save('dynamic.h5')"
      ],
      "execution_count": null,
      "outputs": []
    },
    {
      "cell_type": "code",
      "metadata": {
        "id": "wJJVf8zvebkO"
      },
      "source": [
        "# Loading the Original train and test data set.\n",
        "X_train, X_test, Y_train, Y_test = load_data()"
      ],
      "execution_count": null,
      "outputs": []
    },
    {
      "cell_type": "code",
      "metadata": {
        "id": "yuSmtPO4wHzr"
      },
      "source": [
        "#Sharpening the test data before evaluation.\n",
        "#https://github.com/heeryoncho/sensors2018cnnhar/blob/master/har/process_data.py\n",
        "\n",
        "def sharpen(x_test, sigma, alpha):\n",
        "    r = x_test.shape[0]\n",
        "    c = x_test.shape[1]\n",
        "    container = np.empty((r, c))\n",
        "    i = 0\n",
        "\n",
        "    for row in x_test:\n",
        "        test = np.array([row])\n",
        "        blurred = ndimage.gaussian_filter(test, sigma)\n",
        "        sharpened = test + alpha * (test - blurred)\n",
        "        container[i] = sharpened\n",
        "        i = i + 1\n",
        "    return container"
      ],
      "execution_count": null,
      "outputs": []
    },
    {
      "cell_type": "markdown",
      "metadata": {
        "id": "QtXMkNpzhsET"
      },
      "source": [
        "### Model Evaluation"
      ]
    },
    {
      "cell_type": "code",
      "metadata": {
        "colab": {
          "base_uri": "https://localhost:8080/"
        },
        "id": "gtghJJXSnFWr",
        "outputId": "5429f9c7-9749-4656-c43c-7ed0ea2d1ea2"
      },
      "source": [
        "#Model Evaluation\n",
        "\n",
        "#counter to calculate accuracy\n",
        "count = 0\n",
        "\n",
        "#first stage = \n",
        "y_actual = np.zeros((len(Y_test),), dtype=int)\n",
        "\n",
        "for i in range(len(Y_test)):\n",
        "  y_actual[i] = np.argmax(Y_test[i])\n",
        "\n",
        "y_first = np.argmax(model.predict(X_test), axis = -1)\n",
        "\n",
        "\n",
        "\n",
        "# second stage: static model_st\n",
        "X_test_static = X_test[y_first == 1]\n",
        "\n",
        "for i in range(len(X_test_static)):\n",
        "  X_test_static[i] = sharpen( X_test_static[i], 8, 0.07)\n",
        "\n",
        "\n",
        "y_actual_static = y_actual[y_first == 1]\n",
        "y_predict_static = np.argmax(model_st.predict(X_test_static), axis=-1) + 3\n",
        "\n",
        "\n",
        "\n",
        "\n",
        "#calculate static accuracy\n",
        "for i in range(len(y_actual_static)):\n",
        "  if (y_actual_static[i] == y_predict_static[i]):\n",
        "    count = count+1      \n",
        "\n",
        "# seconds stage: dynamic \n",
        "X_test_dynamic = X_test[y_first == 0]\n",
        "\n",
        "\n",
        "for i in range(len(X_test_dynamic)):\n",
        "  X_test_dynamic[i] = sharpen( X_test_dynamic[i], 8, 0.07)\n",
        "\n",
        "y_actual_dynamic = y_actual[y_first == 0]\n",
        "y_predict_dynamic = np.argmax(model_dy.predict(X_test_dynamic), axis=-1)\n",
        "\n",
        "\n",
        "#calculate dynamic accuracy\n",
        "for i in range(len(y_actual_dynamic)):\n",
        "  if (y_actual_dynamic[i] == y_predict_dynamic[i]):\n",
        "    count = count+1    \n",
        "  \n",
        "print(\"Accuracy is:\")\n",
        "print((count)/len(Y_test))\n",
        "\n"
      ],
      "execution_count": null,
      "outputs": [
        {
          "output_type": "stream",
          "text": [
            "Accuracy is:\n",
            "0.9368849677638276\n"
          ],
          "name": "stdout"
        }
      ]
    },
    {
      "cell_type": "markdown",
      "metadata": {
        "id": "PZzAxZ27vOzT"
      },
      "source": [
        "## Conclusion"
      ]
    },
    {
      "cell_type": "code",
      "metadata": {
        "colab": {
          "base_uri": "https://localhost:8080/"
        },
        "id": "sh-gUJ3lO2Sf",
        "outputId": "0f21a2b7-c38e-434f-cb34-a3993d51577d"
      },
      "source": [
        "from prettytable import PrettyTable\n",
        "x = PrettyTable()\n",
        "\n",
        "x.field_names = [\"LSTM Layers\", \"Hiddens Cells\",\"Epochs\", \"Dropout\", \"Test Accuracy\"]\n",
        "x.add_row([\"1\", 32, 30, 0.5, 89.38])\n",
        "x.add_row([\"2\", 48, 20, 0.6, 91.21])\n",
        "\n",
        "y = PrettyTable()\n",
        "y.field_names = [\"Divide And Conquer CNN\", \"Accuracy = 93.68 %\"]\n",
        "\n",
        "print(\"Performance of LSTM Models\")\n",
        "print(x)\n",
        "\n",
        "print(\"\\n Performance of Divide and Conquer Model with Conv-1D\")\n",
        "print(y)"
      ],
      "execution_count": 58,
      "outputs": [
        {
          "output_type": "stream",
          "name": "stdout",
          "text": [
            "Performance of LSTM Models\n",
            "+-------------+---------------+--------+---------+---------------+\n",
            "| LSTM Layers | Hiddens Cells | Epochs | Dropout | Test Accuracy |\n",
            "+-------------+---------------+--------+---------+---------------+\n",
            "|      1      |       32      |   30   |   0.5   |     89.38     |\n",
            "|      2      |       48      |   20   |   0.6   |     91.21     |\n",
            "+-------------+---------------+--------+---------+---------------+\n",
            "\n",
            " Performance of Divide and Conquer Model with Conv-1D\n",
            "+------------------------+--------------------+\n",
            "| Divide And Conquer CNN | Accuracy = 93.68 % |\n",
            "+------------------------+--------------------+\n",
            "+------------------------+--------------------+\n"
          ]
        }
      ]
    },
    {
      "cell_type": "markdown",
      "metadata": {
        "id": "TmXORIhkRlcl"
      },
      "source": [
        "### The best result is obtained with the Divide and conquer approach with Accuracy = 93.68 %\n"
      ]
    },
    {
      "cell_type": "markdown",
      "metadata": {
        "id": "bRylJoG5cn9v"
      },
      "source": [
        "## Prediction"
      ]
    },
    {
      "cell_type": "code",
      "metadata": {
        "id": "Vvut-hlgcwH8"
      },
      "source": [
        "#Load the models\n",
        "from tensorflow.keras.models import load_model\n",
        "m1 = load_model('binary.h5')\n",
        "m2 = load_model('dynamic.h5')\n",
        "m3 = load_model('static.h5')"
      ],
      "execution_count": null,
      "outputs": []
    },
    {
      "cell_type": "code",
      "metadata": {
        "id": "r29cM6H1cpq3"
      },
      "source": [
        "#Lets take the first input X[0].\n",
        "infer_input = X_test[0]\n",
        "infer_input = infer_input.reshape((1,128,9))"
      ],
      "execution_count": null,
      "outputs": []
    },
    {
      "cell_type": "code",
      "metadata": {
        "colab": {
          "base_uri": "https://localhost:8080/"
        },
        "id": "heDNLwyPdAaU",
        "outputId": "acb8ae7f-96a9-42b6-ec58-393f37e3f56a"
      },
      "source": [
        "\n",
        "#First predict using the binary model\n",
        "y_binary = m1.predict(infer_input)\n",
        "\n",
        "#Pass the input to the static model if the binary model predics the above input as static\n",
        "if y_binary[0][1] > y_binary[0][0]:\n",
        "  y_static = m3.predict(tt)\n",
        "\n",
        "  if y_static[0][0] > y_static[0][1] and y_static[0][0] > y_static[0][2]:\n",
        "    prediction = \"SITTING\"\n",
        "  elif y_static[0][1] > y_static[0][0] and y_static[0][1] > y_static[0][2]:\n",
        "    prediction = \"STANDING\"\n",
        "  else:\n",
        "    prediction = \"LAYING\"\n",
        "  print(\"The input activity is:\")  \n",
        "  print(prediction)\n",
        "  \n",
        "\n",
        "#Else pass the input to the dynamic  model if the binary model predics the above input as dynamic  \n",
        "else:\n",
        "  y_dynamic = m2.predict(tt)\n",
        "\n",
        "  if y_dynamic[0][0] > y_dynamic[0][1] and y_dynamic[0][0] > y_dynamic[0][2]:\n",
        "    prediction = \"WALKING\"\n",
        "  elif y_dynamic[0][1] > y_dynamic[0][0] and y_dynamic[0][1] > y_dynamic[0][2]:\n",
        "    prediction = \"WALKING_UPSTAIRS\"\n",
        "  else:\n",
        "    prediction = \"WALKING_DOWNSTAIRS\"\n",
        "  print(\"The input activity is:\") \n",
        "  print(prediction)\n",
        "  "
      ],
      "execution_count": 60,
      "outputs": [
        {
          "output_type": "stream",
          "name": "stdout",
          "text": [
            "The input activity is:\n",
            "STANDING\n"
          ]
        }
      ]
    },
    {
      "cell_type": "markdown",
      "metadata": {
        "id": "0tjxeDVFh400"
      },
      "source": [
        "## Deployment"
      ]
    },
    {
      "cell_type": "markdown",
      "metadata": {
        "id": "IMYKyZVViGLf"
      },
      "source": [
        "### Deployed on AWS, here is the video: https://www.youtube.com/watch?v=PQBOJTRGhbE&feature=youtu.be"
      ]
    }
  ]
}