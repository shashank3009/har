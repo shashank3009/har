{
 "cells": [
  {
   "cell_type": "markdown",
   "metadata": {
    "id": "Nh6QTDm7R_vc"
   },
   "source": [
    "## Human Activity Detection\n",
    "### By: Shashank Gurnalkar"
   ]
  },
  {
   "cell_type": "markdown",
   "metadata": {
    "id": "FV_NvDJGNded"
   },
   "source": [
    "## Mounting Google Drive"
   ]
  },
  {
   "cell_type": "code",
   "execution_count": 1,
   "metadata": {
    "colab": {
     "base_uri": "https://localhost:8080/"
    },
    "id": "iYinOYGqMTmR",
    "outputId": "87d89760-6971-4be3-9fa0-cdc7dfc8b7be"
   },
   "outputs": [
    {
     "name": "stdout",
     "output_type": "stream",
     "text": [
      "Mounted at /content/drive\n"
     ]
    }
   ],
   "source": [
    "from google.colab import drive\n",
    "drive.mount('/content/drive', force_remount=True)"
   ]
  },
  {
   "cell_type": "code",
   "execution_count": 92,
   "metadata": {
    "colab": {
     "base_uri": "https://localhost:8080/",
     "height": 35
    },
    "id": "mVa4bi3JMmT3",
    "outputId": "5c502b29-c279-48d2-cd75-827aba51a442"
   },
   "outputs": [
    {
     "data": {
      "application/vnd.google.colaboratory.intrinsic+json": {
       "type": "string"
      },
      "text/plain": [
       "'/content/drive/My Drive/HAR'"
      ]
     },
     "execution_count": 92,
     "metadata": {
      "tags": []
     },
     "output_type": "execute_result"
    }
   ],
   "source": [
    "pwd"
   ]
  },
  {
   "cell_type": "code",
   "execution_count": 3,
   "metadata": {
    "colab": {
     "base_uri": "https://localhost:8080/"
    },
    "id": "SOTGV_wiEbPe",
    "outputId": "491d1454-b385-4622-dbf3-fe6a9c069938"
   },
   "outputs": [
    {
     "name": "stdout",
     "output_type": "stream",
     "text": [
      "/content/drive/MyDrive/HAR\n"
     ]
    }
   ],
   "source": [
    "cd drive/MyDrive/HAR/"
   ]
  },
  {
   "cell_type": "markdown",
   "metadata": {
    "id": "9TPPxsM7Nm-V"
   },
   "source": [
    "### Importing Libraries"
   ]
  },
  {
   "cell_type": "code",
   "execution_count": 5,
   "metadata": {
    "id": "mbrS97rgkN5H"
   },
   "outputs": [],
   "source": [
    "import numpy as np\n",
    "import pandas as pd\n"
   ]
  },
  {
   "cell_type": "code",
   "execution_count": 7,
   "metadata": {
    "colab": {
     "base_uri": "https://localhost:8080/"
    },
    "id": "H-UdGuj9Wh-m",
    "outputId": "ca1b2fbf-b9f0-4bba-cea2-dc2acd84cb33"
   },
   "outputs": [
    {
     "name": "stdout",
     "output_type": "stream",
     "text": [
      "2.5.0\n"
     ]
    }
   ],
   "source": [
    "# TensorFlow and tf.keras\n",
    "import tensorflow as tf\n",
    "from tensorflow import keras\n",
    "from tensorflow.keras import layers\n",
    "\n",
    "# Helper libraries\n",
    "import numpy as np\n",
    "import matplotlib.pyplot as plt\n",
    "\n",
    "print(tf.__version__)"
   ]
  },
  {
   "cell_type": "markdown",
   "metadata": {
    "id": "L1y79pAjNuKL"
   },
   "source": [
    "### Defining functions to load the data in required format"
   ]
  },
  {
   "cell_type": "code",
   "execution_count": 8,
   "metadata": {
    "id": "eLPGShOUgT4b"
   },
   "outputs": [],
   "source": [
    "SIGNALS = [\n",
    "    \"body_acc_x\",\n",
    "    \"body_acc_y\",\n",
    "    \"body_acc_z\",\n",
    "    \"body_gyro_x\",\n",
    "    \"body_gyro_y\",\n",
    "    \"body_gyro_z\",\n",
    "    \"total_acc_x\",\n",
    "    \"total_acc_y\",\n",
    "    \"total_acc_z\"\n",
    "]"
   ]
  },
  {
   "cell_type": "code",
   "execution_count": 9,
   "metadata": {
    "id": "K2VYcYbDc0UU"
   },
   "outputs": [],
   "source": [
    "# Utility function to read the data from csv file\n",
    "def _read_csv(filename):\n",
    "    return pd.read_csv(filename, delim_whitespace=True, header=None)\n",
    "\n",
    "# Utility function to load the load\n",
    "def load_signals(subset):\n",
    "    signals_data = []\n",
    "\n",
    "    for signal in SIGNALS:\n",
    "        filename = f'UCI_HAR_Dataset/{subset}/Inertial Signals/{signal}_{subset}.txt'\n",
    "        signals_data.append(\n",
    "            _read_csv(filename).values\n",
    "        ) \n",
    "\n",
    "    # Transpose is used to change the dimensionality of the output,\n",
    "    # aggregating the signals by combination of sample/timestep.\n",
    "    # Resultant shape is (7352 train/2947 test samples, 128 timesteps, 9 signals)\n",
    "    return np.transpose(signals_data, (1, 2, 0))"
   ]
  },
  {
   "cell_type": "code",
   "execution_count": 10,
   "metadata": {
    "id": "W2DbmQVxBr5X"
   },
   "outputs": [],
   "source": [
    "\n",
    "def load_y(subset):\n",
    "    \"\"\"\n",
    "    The objective that we are trying to predict is a integer, from 1 to 6,\n",
    "    that represents a human activity. We return a binary representation of \n",
    "    every sample objective as a 6 bits vector using One Hot Encoding\n",
    "    (https://pandas.pydata.org/pandas-docs/stable/generated/pandas.get_dummies.html)\n",
    "    \"\"\"\n",
    "    filename = f'UCI_HAR_Dataset/{subset}/y_{subset}.txt'\n",
    "    y = _read_csv(filename)[0]\n",
    "\n",
    "\n",
    "    return pd.get_dummies(y).values\n",
    "    #return y"
   ]
  },
  {
   "cell_type": "code",
   "execution_count": 11,
   "metadata": {
    "id": "Jp9iLF_7GE7v"
   },
   "outputs": [],
   "source": [
    "def load_data():\n",
    "    \"\"\"\n",
    "    Obtain the dataset from multiple files.\n",
    "    Returns: X_train, X_test, y_train, y_test\n",
    "    \"\"\"\n",
    "    X_train, X_test = load_signals('train'), load_signals('test')\n",
    "    y_train, y_test = load_y('train'), load_y('test')\n",
    "\n",
    "    return X_train, X_test, y_train, y_test"
   ]
  },
  {
   "cell_type": "code",
   "execution_count": 12,
   "metadata": {
    "id": "8qosOu32iH9d"
   },
   "outputs": [],
   "source": [
    "# Initializing parameters\n",
    "epochs = 30\n",
    "batch_size = 16\n",
    "n_hidden = 32"
   ]
  },
  {
   "cell_type": "code",
   "execution_count": 13,
   "metadata": {
    "id": "HiE5bnmKiaXd"
   },
   "outputs": [],
   "source": [
    "# Utility function to count the number of classes\n",
    "def _count_classes(y):\n",
    "    return len(set([tuple(category) for category in y]))"
   ]
  },
  {
   "cell_type": "code",
   "execution_count": 14,
   "metadata": {
    "id": "r4mVXkq1ia0e"
   },
   "outputs": [],
   "source": [
    "# Loading the train and test data\n",
    "X_train, X_test, Y_train, Y_test = load_data()"
   ]
  },
  {
   "cell_type": "code",
   "execution_count": 15,
   "metadata": {
    "colab": {
     "base_uri": "https://localhost:8080/"
    },
    "id": "YBgVMej-ibYh",
    "outputId": "a9926703-5a5c-47e2-a25a-c36e456b4731"
   },
   "outputs": [
    {
     "name": "stdout",
     "output_type": "stream",
     "text": [
      "128\n",
      "9\n",
      "7352\n"
     ]
    }
   ],
   "source": [
    "timesteps = len(X_train[0])\n",
    "input_dim = len(X_train[0][0])\n",
    "\n",
    "\n",
    "print(timesteps)\n",
    "print(input_dim)\n",
    "print(len(X_train))"
   ]
  },
  {
   "cell_type": "markdown",
   "metadata": {
    "id": "tIWJSXIcN39L"
   },
   "source": [
    "## Training Models"
   ]
  },
  {
   "cell_type": "markdown",
   "metadata": {
    "id": "RtV6ae_NOPxP"
   },
   "source": [
    "### One LSTM layer"
   ]
  },
  {
   "cell_type": "code",
   "execution_count": null,
   "metadata": {
    "colab": {
     "base_uri": "https://localhost:8080/"
    },
    "id": "nXwZKR2ykEb4",
    "outputId": "ae02ce5e-9e0a-4d35-e8d3-15a5d3960c68"
   },
   "outputs": [
    {
     "name": "stdout",
     "output_type": "stream",
     "text": [
      "Model: \"sequential\"\n",
      "_________________________________________________________________\n",
      "Layer (type)                 Output Shape              Param #   \n",
      "=================================================================\n",
      "lstm (LSTM)                  (None, 32)                5376      \n",
      "_________________________________________________________________\n",
      "dropout (Dropout)            (None, 32)                0         \n",
      "_________________________________________________________________\n",
      "dense (Dense)                (None, 6)                 198       \n",
      "=================================================================\n",
      "Total params: 5,574\n",
      "Trainable params: 5,574\n",
      "Non-trainable params: 0\n",
      "_________________________________________________________________\n"
     ]
    }
   ],
   "source": [
    "# Initiliazing the sequential model\n",
    "model = keras.Sequential()\n",
    "# Configuring the parameters\n",
    "model.add(layers.LSTM(n_hidden, input_shape=(timesteps, input_dim)))\n",
    "# Adding a dropout layer\n",
    "model.add(layers.Dropout(0.5))\n",
    "# Adding a dense output layer with sigmoid activation\n",
    "model.add(layers.Dense(n_classes, activation='softmax'))\n",
    "model.summary()"
   ]
  },
  {
   "cell_type": "code",
   "execution_count": null,
   "metadata": {
    "colab": {
     "base_uri": "https://localhost:8080/",
     "height": 422
    },
    "id": "nHE2NPhTkEsT",
    "outputId": "86438ade-ccb6-4241-dd3b-3d99fc485895"
   },
   "outputs": [
    {
     "data": {
      "image/png": "[encoded data removed]",
      "text/plain": [
       "<IPython.core.display.Image object>"
      ]
     },
     "execution_count": 94,
     "metadata": {
      "tags": []
     },
     "output_type": "execute_result"
    }
   ],
   "source": [
    "# To understand the flow.\n",
    "from tensorflow.keras.utils import plot_model\n",
    "\n",
    "plot_model(model, 'model.png', show_shapes=True)"
   ]
  },
  {
   "cell_type": "code",
   "execution_count": null,
   "metadata": {
    "id": "8XG920ePkE4f"
   },
   "outputs": [],
   "source": [
    "# Compiling the model\n",
    "model.compile(loss=keras.losses.CategoricalCrossentropy(from_logits=True),\n",
    "              optimizer='adam',\n",
    "              metrics=['accuracy'])"
   ]
  },
  {
   "cell_type": "code",
   "execution_count": null,
   "metadata": {
    "colab": {
     "base_uri": "https://localhost:8080/"
    },
    "id": "lTpFfSDGkFEq",
    "outputId": "a4a016c5-79bb-4a76-a1b1-20035b7bcaf7"
   },
   "outputs": [
    {
     "name": "stdout",
     "output_type": "stream",
     "text": [
      "Epoch 1/30\n",
      "460/460 [==============================] - 42s 25ms/step - loss: 1.3987 - accuracy: 0.3998 - val_loss: 1.2543 - val_accuracy: 0.4466\n",
      "Epoch 2/30\n",
      "460/460 [==============================] - 11s 24ms/step - loss: 1.0733 - accuracy: 0.5387 - val_loss: 0.8469 - val_accuracy: 0.6417\n",
      "Epoch 3/30\n",
      "460/460 [==============================] - 11s 24ms/step - loss: 0.7630 - accuracy: 0.6650 - val_loss: 0.7256 - val_accuracy: 0.7204\n",
      "Epoch 4/30\n",
      "460/460 [==============================] - 11s 24ms/step - loss: 0.7180 - accuracy: 0.7179 - val_loss: 0.7285 - val_accuracy: 0.7448\n",
      "Epoch 5/30\n",
      "460/460 [==============================] - 11s 23ms/step - loss: 0.6417 - accuracy: 0.7530 - val_loss: 0.6459 - val_accuracy: 0.7740\n",
      "Epoch 6/30\n",
      "460/460 [==============================] - 11s 23ms/step - loss: 0.6184 - accuracy: 0.7895 - val_loss: 0.8866 - val_accuracy: 0.6871\n",
      "Epoch 7/30\n",
      "460/460 [==============================] - 11s 23ms/step - loss: 0.6160 - accuracy: 0.7954 - val_loss: 0.5327 - val_accuracy: 0.8286\n",
      "Epoch 8/30\n",
      "460/460 [==============================] - 11s 23ms/step - loss: 0.3661 - accuracy: 0.8885 - val_loss: 0.4915 - val_accuracy: 0.8157\n",
      "Epoch 9/30\n",
      "460/460 [==============================] - 11s 23ms/step - loss: 0.3381 - accuracy: 0.8891 - val_loss: 0.4086 - val_accuracy: 0.8734\n",
      "Epoch 10/30\n",
      "460/460 [==============================] - 11s 23ms/step - loss: 0.2700 - accuracy: 0.9142 - val_loss: 0.4114 - val_accuracy: 0.8687\n",
      "Epoch 11/30\n",
      "460/460 [==============================] - 11s 24ms/step - loss: 0.2422 - accuracy: 0.9190 - val_loss: 0.5656 - val_accuracy: 0.8446\n",
      "Epoch 12/30\n",
      "460/460 [==============================] - 11s 24ms/step - loss: 0.2760 - accuracy: 0.9150 - val_loss: 0.3913 - val_accuracy: 0.8802\n",
      "Epoch 13/30\n",
      "460/460 [==============================] - 11s 23ms/step - loss: 0.2429 - accuracy: 0.9210 - val_loss: 0.4840 - val_accuracy: 0.7947\n",
      "Epoch 14/30\n",
      "460/460 [==============================] - 11s 23ms/step - loss: 0.3149 - accuracy: 0.8849 - val_loss: 0.4920 - val_accuracy: 0.8235\n",
      "Epoch 15/30\n",
      "460/460 [==============================] - 11s 23ms/step - loss: 0.2536 - accuracy: 0.9140 - val_loss: 0.4106 - val_accuracy: 0.8704\n",
      "Epoch 16/30\n",
      "460/460 [==============================] - 11s 23ms/step - loss: 0.1961 - accuracy: 0.9298 - val_loss: 0.4581 - val_accuracy: 0.8643\n",
      "Epoch 17/30\n",
      "460/460 [==============================] - 11s 24ms/step - loss: 0.1817 - accuracy: 0.9317 - val_loss: 0.4277 - val_accuracy: 0.8843\n",
      "Epoch 18/30\n",
      "460/460 [==============================] - 11s 23ms/step - loss: 0.1957 - accuracy: 0.9328 - val_loss: 0.4877 - val_accuracy: 0.8846\n",
      "Epoch 19/30\n",
      "460/460 [==============================] - 11s 23ms/step - loss: 0.1704 - accuracy: 0.9390 - val_loss: 0.4978 - val_accuracy: 0.8951\n",
      "Epoch 20/30\n",
      "460/460 [==============================] - 11s 24ms/step - loss: 0.2135 - accuracy: 0.9262 - val_loss: 0.8619 - val_accuracy: 0.7862\n",
      "Epoch 21/30\n",
      "460/460 [==============================] - 11s 23ms/step - loss: 0.3818 - accuracy: 0.8849 - val_loss: 0.5325 - val_accuracy: 0.8761\n",
      "Epoch 22/30\n",
      "460/460 [==============================] - 11s 24ms/step - loss: 0.1655 - accuracy: 0.9394 - val_loss: 0.5334 - val_accuracy: 0.8829\n",
      "Epoch 23/30\n",
      "460/460 [==============================] - 11s 24ms/step - loss: 0.1370 - accuracy: 0.9473 - val_loss: 0.4193 - val_accuracy: 0.8945\n",
      "Epoch 24/30\n",
      "460/460 [==============================] - 11s 23ms/step - loss: 0.1539 - accuracy: 0.9460 - val_loss: 0.4923 - val_accuracy: 0.8907\n",
      "Epoch 25/30\n",
      "460/460 [==============================] - 11s 23ms/step - loss: 0.2398 - accuracy: 0.9153 - val_loss: 0.3586 - val_accuracy: 0.8816\n",
      "Epoch 26/30\n",
      "460/460 [==============================] - 11s 24ms/step - loss: 0.1725 - accuracy: 0.9348 - val_loss: 0.2900 - val_accuracy: 0.9030\n",
      "Epoch 27/30\n",
      "460/460 [==============================] - 11s 24ms/step - loss: 0.1447 - accuracy: 0.9453 - val_loss: 0.4455 - val_accuracy: 0.8785\n",
      "Epoch 28/30\n",
      "460/460 [==============================] - 11s 24ms/step - loss: 0.1715 - accuracy: 0.9392 - val_loss: 0.4282 - val_accuracy: 0.8935\n",
      "Epoch 29/30\n",
      "460/460 [==============================] - 11s 24ms/step - loss: 0.1474 - accuracy: 0.9446 - val_loss: 0.3734 - val_accuracy: 0.8816\n",
      "Epoch 30/30\n",
      "460/460 [==============================] - 11s 24ms/step - loss: 0.1451 - accuracy: 0.9437 - val_loss: 0.4672 - val_accuracy: 0.8938\n"
     ]
    },
    {
     "data": {
      "text/plain": [
       "<tensorflow.python.keras.callbacks.History at 0x7f45306dd790>"
      ]
     },
     "execution_count": 96,
     "metadata": {
      "tags": []
     },
     "output_type": "execute_result"
    }
   ],
   "source": [
    "# Training the model\n",
    "model.fit(X_train,\n",
    "          Y_train,\n",
    "          batch_size=batch_size,\n",
    "          validation_data=(X_test, Y_test),\n",
    "          epochs=epochs)"
   ]
  },
  {
   "cell_type": "code",
   "execution_count": null,
   "metadata": {
    "colab": {
     "base_uri": "https://localhost:8080/"
    },
    "id": "CEGLer9lDrZx",
    "outputId": "db1a499f-1df7-4889-daa2-db4279e755f8"
   },
   "outputs": [
    {
     "name": "stdout",
     "output_type": "stream",
     "text": [
      "Model: \"sequential_1\"\n",
      "_________________________________________________________________\n",
      "Layer (type)                 Output Shape              Param #   \n",
      "=================================================================\n",
      "lstm_1 (LSTM)                (None, 48)                11136     \n",
      "_________________________________________________________________\n",
      "dropout_1 (Dropout)          (None, 48)                0         \n",
      "_________________________________________________________________\n",
      "dense_1 (Dense)              (None, 6)                 294       \n",
      "=================================================================\n",
      "Total params: 11,430\n",
      "Trainable params: 11,430\n",
      "Non-trainable params: 0\n",
      "_________________________________________________________________\n",
      "None\n",
      "Epoch 1/30\n",
      "460/460 [==============================] - 36s 8ms/step - loss: 1.3991 - accuracy: 0.3872 - val_loss: 1.0299 - val_accuracy: 0.5589\n",
      "Epoch 2/30\n",
      "460/460 [==============================] - 3s 7ms/step - loss: 0.9594 - accuracy: 0.6179 - val_loss: 1.1823 - val_accuracy: 0.5419\n",
      "Epoch 3/30\n",
      "460/460 [==============================] - 3s 7ms/step - loss: 0.7777 - accuracy: 0.7037 - val_loss: 0.7059 - val_accuracy: 0.7587\n",
      "Epoch 4/30\n",
      "460/460 [==============================] - 3s 7ms/step - loss: 0.4473 - accuracy: 0.8543 - val_loss: 0.5856 - val_accuracy: 0.8188\n",
      "Epoch 5/30\n",
      "460/460 [==============================] - 3s 7ms/step - loss: 0.4789 - accuracy: 0.8405 - val_loss: 0.5265 - val_accuracy: 0.8232\n",
      "Epoch 6/30\n",
      "460/460 [==============================] - 3s 7ms/step - loss: 0.3769 - accuracy: 0.8786 - val_loss: 0.3641 - val_accuracy: 0.8751\n",
      "Epoch 7/30\n",
      "460/460 [==============================] - 3s 7ms/step - loss: 0.2891 - accuracy: 0.9146 - val_loss: 0.3191 - val_accuracy: 0.8901\n",
      "Epoch 8/30\n",
      "460/460 [==============================] - 3s 7ms/step - loss: 0.3545 - accuracy: 0.8862 - val_loss: 0.4503 - val_accuracy: 0.8633\n",
      "Epoch 9/30\n",
      "460/460 [==============================] - 3s 7ms/step - loss: 0.3224 - accuracy: 0.8958 - val_loss: 0.4107 - val_accuracy: 0.8500\n",
      "Epoch 10/30\n",
      "460/460 [==============================] - 3s 7ms/step - loss: 0.3396 - accuracy: 0.8898 - val_loss: 0.4137 - val_accuracy: 0.8795\n",
      "Epoch 11/30\n",
      "460/460 [==============================] - 3s 7ms/step - loss: 0.2688 - accuracy: 0.9136 - val_loss: 0.3919 - val_accuracy: 0.8605\n",
      "Epoch 12/30\n",
      "460/460 [==============================] - 3s 7ms/step - loss: 0.2518 - accuracy: 0.9216 - val_loss: 1.0359 - val_accuracy: 0.6440\n",
      "Epoch 13/30\n",
      "460/460 [==============================] - 3s 7ms/step - loss: 0.4161 - accuracy: 0.8537 - val_loss: 0.3212 - val_accuracy: 0.8877\n",
      "Epoch 14/30\n",
      "460/460 [==============================] - 3s 7ms/step - loss: 0.2104 - accuracy: 0.9291 - val_loss: 0.3108 - val_accuracy: 0.8856\n",
      "Epoch 15/30\n",
      "460/460 [==============================] - 3s 7ms/step - loss: 0.2425 - accuracy: 0.9187 - val_loss: 0.3963 - val_accuracy: 0.8347\n",
      "Epoch 16/30\n",
      "460/460 [==============================] - 3s 8ms/step - loss: 0.2235 - accuracy: 0.9253 - val_loss: 0.2839 - val_accuracy: 0.8972\n",
      "Epoch 17/30\n",
      "460/460 [==============================] - 3s 7ms/step - loss: 0.1799 - accuracy: 0.9347 - val_loss: 0.2767 - val_accuracy: 0.8996\n",
      "Epoch 18/30\n",
      "460/460 [==============================] - 3s 7ms/step - loss: 0.1904 - accuracy: 0.9315 - val_loss: 0.2639 - val_accuracy: 0.8914\n",
      "Epoch 19/30\n",
      "460/460 [==============================] - 3s 7ms/step - loss: 0.1692 - accuracy: 0.9362 - val_loss: 0.2978 - val_accuracy: 0.8985\n",
      "Epoch 20/30\n",
      "460/460 [==============================] - 3s 7ms/step - loss: 0.1841 - accuracy: 0.9321 - val_loss: 0.3907 - val_accuracy: 0.8612\n",
      "Epoch 21/30\n",
      "460/460 [==============================] - 3s 7ms/step - loss: 0.1828 - accuracy: 0.9325 - val_loss: 0.2778 - val_accuracy: 0.9067\n",
      "Epoch 22/30\n",
      "460/460 [==============================] - 3s 7ms/step - loss: 0.1474 - accuracy: 0.9408 - val_loss: 0.3353 - val_accuracy: 0.8982\n",
      "Epoch 23/30\n",
      "460/460 [==============================] - 3s 7ms/step - loss: 0.1607 - accuracy: 0.9335 - val_loss: 0.8073 - val_accuracy: 0.8117\n",
      "Epoch 24/30\n",
      "460/460 [==============================] - 3s 7ms/step - loss: 0.2144 - accuracy: 0.9229 - val_loss: 0.3407 - val_accuracy: 0.9057\n",
      "Epoch 25/30\n",
      "460/460 [==============================] - 3s 7ms/step - loss: 0.1590 - accuracy: 0.9386 - val_loss: 0.2614 - val_accuracy: 0.9114\n",
      "Epoch 26/30\n",
      "460/460 [==============================] - 3s 7ms/step - loss: 0.1449 - accuracy: 0.9408 - val_loss: 0.4480 - val_accuracy: 0.8809\n",
      "Epoch 27/30\n",
      "460/460 [==============================] - 3s 7ms/step - loss: 0.1456 - accuracy: 0.9450 - val_loss: 0.3456 - val_accuracy: 0.8826\n",
      "Epoch 28/30\n",
      "460/460 [==============================] - 3s 7ms/step - loss: 0.1323 - accuracy: 0.9495 - val_loss: 0.2812 - val_accuracy: 0.9121\n",
      "Epoch 29/30\n",
      "460/460 [==============================] - 3s 7ms/step - loss: 0.1218 - accuracy: 0.9505 - val_loss: 0.2356 - val_accuracy: 0.9179\n",
      "Epoch 30/30\n",
      "460/460 [==============================] - 3s 7ms/step - loss: 0.1617 - accuracy: 0.9388 - val_loss: 0.2536 - val_accuracy: 0.9077\n"
     ]
    },
    {
     "data": {
      "text/plain": [
       "<tensorflow.python.keras.callbacks.History at 0x7f3556685910>"
      ]
     },
     "execution_count": 18,
     "metadata": {
      "tags": []
     },
     "output_type": "execute_result"
    }
   ],
   "source": [
    "tf.random.set_seed(103)\n",
    "n_hidden = 48\n",
    "# Initiliazing the sequential model\n",
    "model = keras.Sequential()\n",
    "# Configuring the parameters\n",
    "model.add(layers.LSTM(n_hidden, input_shape=(timesteps, input_dim)))\n",
    "# Adding a dropout layer\n",
    "model.add(layers.Dropout(0.6))\n",
    "# Adding a dense output layer with sigmoid activation\n",
    "model.add(layers.Dense(n_classes, activation='softmax'))\n",
    "\n",
    "print (model.summary())\n",
    "\n",
    "\n",
    "\n",
    "# Compiling the model\n",
    "model.compile(loss=keras.losses.CategoricalCrossentropy(from_logits=True),\n",
    "              optimizer='adam',\n",
    "              metrics=['accuracy'])\n",
    "\n",
    "# Training the model\n",
    "model.fit(X_train,\n",
    "          Y_train,\n",
    "          batch_size=batch_size,\n",
    "          validation_data=(X_test, Y_test),\n",
    "          epochs=epochs)"
   ]
  },
  {
   "cell_type": "code",
   "execution_count": null,
   "metadata": {
    "colab": {
     "base_uri": "https://localhost:8080/"
    },
    "id": "eLNKm6RVDrYT",
    "outputId": "ce4321df-b13a-45a7-e646-7891ed250d6c"
   },
   "outputs": [
    {
     "name": "stdout",
     "output_type": "stream",
     "text": [
      "Model: \"sequential_5\"\n",
      "_________________________________________________________________\n",
      "Layer (type)                 Output Shape              Param #   \n",
      "=================================================================\n",
      "lstm_6 (LSTM)                (None, 64)                18944     \n",
      "_________________________________________________________________\n",
      "dropout_6 (Dropout)          (None, 64)                0         \n",
      "_________________________________________________________________\n",
      "dense_5 (Dense)              (None, 6)                 390       \n",
      "=================================================================\n",
      "Total params: 19,334\n",
      "Trainable params: 19,334\n",
      "Non-trainable params: 0\n",
      "_________________________________________________________________\n",
      "None\n",
      "Epoch 1/20\n",
      "460/460 [==============================] - 5s 8ms/step - loss: 1.3044 - accuracy: 0.4549 - val_loss: 0.8524 - val_accuracy: 0.6237\n",
      "Epoch 2/20\n",
      "460/460 [==============================] - 3s 8ms/step - loss: 0.8282 - accuracy: 0.6517 - val_loss: 0.6592 - val_accuracy: 0.7679\n",
      "Epoch 3/20\n",
      "460/460 [==============================] - 3s 7ms/step - loss: 0.5689 - accuracy: 0.7918 - val_loss: 0.7888 - val_accuracy: 0.7021\n",
      "Epoch 4/20\n",
      "460/460 [==============================] - 3s 7ms/step - loss: 0.6101 - accuracy: 0.7839 - val_loss: 0.6184 - val_accuracy: 0.7662\n",
      "Epoch 5/20\n",
      "460/460 [==============================] - 3s 7ms/step - loss: 0.5141 - accuracy: 0.8180 - val_loss: 0.5522 - val_accuracy: 0.8280\n",
      "Epoch 6/20\n",
      "460/460 [==============================] - 3s 8ms/step - loss: 0.3719 - accuracy: 0.8861 - val_loss: 0.4070 - val_accuracy: 0.8639\n",
      "Epoch 7/20\n",
      "460/460 [==============================] - 3s 7ms/step - loss: 0.2588 - accuracy: 0.9166 - val_loss: 0.5461 - val_accuracy: 0.8144\n",
      "Epoch 8/20\n",
      "460/460 [==============================] - 3s 7ms/step - loss: 0.2877 - accuracy: 0.9060 - val_loss: 0.4120 - val_accuracy: 0.8846\n",
      "Epoch 9/20\n",
      "460/460 [==============================] - 3s 7ms/step - loss: 0.3090 - accuracy: 0.8969 - val_loss: 0.3321 - val_accuracy: 0.8775\n",
      "Epoch 10/20\n",
      "460/460 [==============================] - 3s 8ms/step - loss: 0.2661 - accuracy: 0.9209 - val_loss: 0.2317 - val_accuracy: 0.9016\n",
      "Epoch 11/20\n",
      "460/460 [==============================] - 4s 8ms/step - loss: 0.1694 - accuracy: 0.9431 - val_loss: 0.2593 - val_accuracy: 0.9019\n",
      "Epoch 12/20\n",
      "460/460 [==============================] - 4s 8ms/step - loss: 0.1845 - accuracy: 0.9406 - val_loss: 0.2534 - val_accuracy: 0.9097\n",
      "Epoch 13/20\n",
      "460/460 [==============================] - 4s 8ms/step - loss: 0.1668 - accuracy: 0.9407 - val_loss: 0.3317 - val_accuracy: 0.8901\n",
      "Epoch 14/20\n",
      "460/460 [==============================] - 4s 8ms/step - loss: 0.2205 - accuracy: 0.9253 - val_loss: 0.2663 - val_accuracy: 0.9097\n",
      "Epoch 15/20\n",
      "460/460 [==============================] - 4s 8ms/step - loss: 0.1779 - accuracy: 0.9405 - val_loss: 0.2554 - val_accuracy: 0.9067\n",
      "Epoch 16/20\n",
      "460/460 [==============================] - 3s 8ms/step - loss: 0.1562 - accuracy: 0.9436 - val_loss: 0.2127 - val_accuracy: 0.9101\n",
      "Epoch 17/20\n",
      "460/460 [==============================] - 4s 8ms/step - loss: 0.1687 - accuracy: 0.9397 - val_loss: 0.2610 - val_accuracy: 0.9033\n",
      "Epoch 18/20\n",
      "460/460 [==============================] - 4s 8ms/step - loss: 0.1825 - accuracy: 0.9364 - val_loss: 0.2294 - val_accuracy: 0.9084\n",
      "Epoch 19/20\n",
      "460/460 [==============================] - 4s 8ms/step - loss: 0.1540 - accuracy: 0.9424 - val_loss: 0.2476 - val_accuracy: 0.9094\n",
      "Epoch 20/20\n",
      "460/460 [==============================] - 4s 8ms/step - loss: 0.2414 - accuracy: 0.9212 - val_loss: 0.2225 - val_accuracy: 0.9182\n"
     ]
    },
    {
     "data": {
      "text/plain": [
       "<tensorflow.python.keras.callbacks.History at 0x7f354ffc2650>"
      ]
     },
     "execution_count": 22,
     "metadata": {
      "tags": []
     },
     "output_type": "execute_result"
    }
   ],
   "source": [
    "tf.random.set_seed(109)\n",
    "n_hidden = 64\n",
    "epochs=20\n",
    "# Initiliazing the sequential model\n",
    "model = keras.Sequential()\n",
    "# Configuring the parameters\n",
    "model.add(layers.LSTM(n_hidden, input_shape=(timesteps, input_dim)))\n",
    "# Adding a dropout layer\n",
    "model.add(layers.Dropout(0.7))\n",
    "# Adding a dense output layer with sigmoid activation\n",
    "model.add(layers.Dense(n_classes, activation='softmax'))\n",
    "\n",
    "print (model.summary())\n",
    "\n",
    "\n",
    "\n",
    "# Compiling the model\n",
    "model.compile(loss=keras.losses.CategoricalCrossentropy(from_logits=True),\n",
    "              optimizer='adam',\n",
    "              metrics=['accuracy'])\n",
    "\n",
    "# Training the model\n",
    "model.fit(X_train,\n",
    "          Y_train,\n",
    "          batch_size=batch_size,\n",
    "          validation_data=(X_test, Y_test),\n",
    "          epochs=epochs)"
   ]
  },
  {
   "cell_type": "markdown",
   "metadata": {
    "id": "v2g-QmlROgb1"
   },
   "source": [
    "### Two LSTM layers"
   ]
  },
  {
   "cell_type": "code",
   "execution_count": null,
   "metadata": {
    "colab": {
     "base_uri": "https://localhost:8080/"
    },
    "id": "s35gA-SiDLAj",
    "outputId": "bdae4fda-5f83-43ab-bca2-e5e93cf9f96e"
   },
   "outputs": [
    {
     "name": "stdout",
     "output_type": "stream",
     "text": [
      "Model: \"sequential_3\"\n",
      "_________________________________________________________________\n",
      "Layer (type)                 Output Shape              Param #   \n",
      "=================================================================\n",
      "lstm_3 (LSTM)                (None, 128, 16)           1664      \n",
      "_________________________________________________________________\n",
      "dropout_3 (Dropout)          (None, 128, 16)           0         \n",
      "_________________________________________________________________\n",
      "lstm_4 (LSTM)                (None, 16)                2112      \n",
      "_________________________________________________________________\n",
      "dropout_4 (Dropout)          (None, 16)                0         \n",
      "_________________________________________________________________\n",
      "dense_3 (Dense)              (None, 6)                 102       \n",
      "=================================================================\n",
      "Total params: 3,878\n",
      "Trainable params: 3,878\n",
      "Non-trainable params: 0\n",
      "_________________________________________________________________\n",
      "None\n",
      "Epoch 1/30\n",
      "460/460 [==============================] - 8s 14ms/step - loss: 1.4562 - accuracy: 0.4071 - val_loss: 0.8481 - val_accuracy: 0.6335\n",
      "Epoch 2/30\n",
      "460/460 [==============================] - 6s 12ms/step - loss: 0.8285 - accuracy: 0.6383 - val_loss: 0.7100 - val_accuracy: 0.6949\n",
      "Epoch 3/30\n",
      "460/460 [==============================] - 6s 12ms/step - loss: 0.6645 - accuracy: 0.7252 - val_loss: 0.6659 - val_accuracy: 0.7435\n",
      "Epoch 4/30\n",
      "460/460 [==============================] - 6s 12ms/step - loss: 0.5837 - accuracy: 0.7708 - val_loss: 0.5949 - val_accuracy: 0.7866\n",
      "Epoch 5/30\n",
      "460/460 [==============================] - 5s 12ms/step - loss: 0.4851 - accuracy: 0.8181 - val_loss: 0.4980 - val_accuracy: 0.8195\n",
      "Epoch 6/30\n",
      "460/460 [==============================] - 5s 12ms/step - loss: 0.4122 - accuracy: 0.8540 - val_loss: 0.4408 - val_accuracy: 0.8490\n",
      "Epoch 7/30\n",
      "460/460 [==============================] - 6s 12ms/step - loss: 0.4129 - accuracy: 0.8548 - val_loss: 0.4740 - val_accuracy: 0.8273\n",
      "Epoch 8/30\n",
      "460/460 [==============================] - 6s 12ms/step - loss: 0.3256 - accuracy: 0.8875 - val_loss: 0.4370 - val_accuracy: 0.8483\n",
      "Epoch 9/30\n",
      "460/460 [==============================] - 5s 12ms/step - loss: 0.3104 - accuracy: 0.8991 - val_loss: 0.4561 - val_accuracy: 0.8436\n",
      "Epoch 10/30\n",
      "460/460 [==============================] - 5s 12ms/step - loss: 0.2890 - accuracy: 0.9048 - val_loss: 0.4939 - val_accuracy: 0.8347\n",
      "Epoch 11/30\n",
      "460/460 [==============================] - 5s 12ms/step - loss: 0.2732 - accuracy: 0.9056 - val_loss: 0.3889 - val_accuracy: 0.8799\n",
      "Epoch 12/30\n",
      "460/460 [==============================] - 5s 12ms/step - loss: 0.2700 - accuracy: 0.9091 - val_loss: 0.4392 - val_accuracy: 0.8663\n",
      "Epoch 13/30\n",
      "460/460 [==============================] - 6s 12ms/step - loss: 0.2631 - accuracy: 0.9252 - val_loss: 0.3744 - val_accuracy: 0.8707\n",
      "Epoch 14/30\n",
      "460/460 [==============================] - 6s 12ms/step - loss: 0.2499 - accuracy: 0.9196 - val_loss: 0.6201 - val_accuracy: 0.8256\n",
      "Epoch 15/30\n",
      "460/460 [==============================] - 6s 12ms/step - loss: 0.2678 - accuracy: 0.9114 - val_loss: 0.4062 - val_accuracy: 0.8792\n",
      "Epoch 16/30\n",
      "460/460 [==============================] - 5s 12ms/step - loss: 0.1950 - accuracy: 0.9330 - val_loss: 0.4654 - val_accuracy: 0.8717\n",
      "Epoch 17/30\n",
      "460/460 [==============================] - 5s 12ms/step - loss: 0.2147 - accuracy: 0.9308 - val_loss: 0.3816 - val_accuracy: 0.8884\n",
      "Epoch 18/30\n",
      "460/460 [==============================] - 6s 12ms/step - loss: 0.2267 - accuracy: 0.9277 - val_loss: 0.4715 - val_accuracy: 0.8775\n",
      "Epoch 19/30\n",
      "460/460 [==============================] - 6s 12ms/step - loss: 0.2419 - accuracy: 0.9164 - val_loss: 0.6995 - val_accuracy: 0.8225\n",
      "Epoch 20/30\n",
      "460/460 [==============================] - 6s 12ms/step - loss: 0.3521 - accuracy: 0.8963 - val_loss: 0.4589 - val_accuracy: 0.8717\n",
      "Epoch 21/30\n",
      "460/460 [==============================] - 6s 12ms/step - loss: 0.2180 - accuracy: 0.9303 - val_loss: 0.3610 - val_accuracy: 0.8880\n",
      "Epoch 22/30\n",
      "460/460 [==============================] - 6s 12ms/step - loss: 0.1834 - accuracy: 0.9384 - val_loss: 0.3990 - val_accuracy: 0.8819\n",
      "Epoch 23/30\n",
      "460/460 [==============================] - 6s 12ms/step - loss: 0.1890 - accuracy: 0.9325 - val_loss: 0.4222 - val_accuracy: 0.8877\n",
      "Epoch 24/30\n",
      "460/460 [==============================] - 6s 12ms/step - loss: 0.1891 - accuracy: 0.9328 - val_loss: 0.4558 - val_accuracy: 0.8907\n",
      "Epoch 25/30\n",
      "460/460 [==============================] - 6s 12ms/step - loss: 0.1785 - accuracy: 0.9310 - val_loss: 0.4261 - val_accuracy: 0.8887\n",
      "Epoch 26/30\n",
      "460/460 [==============================] - 6s 12ms/step - loss: 0.1752 - accuracy: 0.9333 - val_loss: 0.3622 - val_accuracy: 0.8968\n",
      "Epoch 27/30\n",
      "460/460 [==============================] - 6s 12ms/step - loss: 0.1703 - accuracy: 0.9338 - val_loss: 0.3963 - val_accuracy: 0.8914\n",
      "Epoch 28/30\n",
      "460/460 [==============================] - 6s 12ms/step - loss: 0.1539 - accuracy: 0.9410 - val_loss: 0.4347 - val_accuracy: 0.8948\n",
      "Epoch 29/30\n",
      "460/460 [==============================] - 6s 12ms/step - loss: 0.1745 - accuracy: 0.9305 - val_loss: 0.4188 - val_accuracy: 0.8904\n",
      "Epoch 30/30\n",
      "460/460 [==============================] - 6s 12ms/step - loss: 0.1674 - accuracy: 0.9350 - val_loss: 0.3956 - val_accuracy: 0.8962\n"
     ]
    },
    {
     "data": {
      "text/plain": [
       "<tensorflow.python.keras.callbacks.History at 0x7f3551609650>"
      ]
     },
     "execution_count": 20,
     "metadata": {
      "tags": []
     },
     "output_type": "execute_result"
    }
   ],
   "source": [
    "tf.random.set_seed(105)\n",
    "n_hidden = 16\n",
    "# Initiliazing the sequential model\n",
    "model = keras.Sequential()\n",
    "# Configuring the parameters\n",
    "model.add(layers.LSTM(n_hidden, input_shape=(timesteps, input_dim), return_sequences=True))\n",
    "# Adding a dropout layer\n",
    "model.add(layers.Dropout(0.5))\n",
    "# Configuring the parameters\n",
    "model.add(layers.LSTM(n_hidden))\n",
    "# Adding a dropout layer\n",
    "model.add(layers.Dropout(0.5))\n",
    "# Adding a dense output layer with sigmoid activation\n",
    "model.add(layers.Dense(n_classes, activation='softmax'))\n",
    "print (model.summary())\n",
    "\n",
    "\n",
    "\n",
    "# Compiling the model\n",
    "model.compile(loss=keras.losses.CategoricalCrossentropy(from_logits=True),\n",
    "              optimizer='adam',\n",
    "              metrics=['accuracy'])\n",
    "\n",
    "# Training the model\n",
    "model.fit(X_train,\n",
    "          Y_train,\n",
    "          batch_size=batch_size,\n",
    "          validation_data=(X_test, Y_test),\n",
    "          epochs=epochs)"
   ]
  },
  {
   "cell_type": "code",
   "execution_count": null,
   "metadata": {
    "colab": {
     "base_uri": "https://localhost:8080/"
    },
    "id": "XVWmuuk-kFRE",
    "outputId": "e5b88fac-0769-48ec-f1fa-7b780f5df5c3"
   },
   "outputs": [
    {
     "name": "stdout",
     "output_type": "stream",
     "text": [
      "Model: \"sequential_6\"\n",
      "_________________________________________________________________\n",
      "Layer (type)                 Output Shape              Param #   \n",
      "=================================================================\n",
      "lstm_7 (LSTM)                (None, 128, 32)           5376      \n",
      "_________________________________________________________________\n",
      "dropout_7 (Dropout)          (None, 128, 32)           0         \n",
      "_________________________________________________________________\n",
      "lstm_8 (LSTM)                (None, 32)                8320      \n",
      "_________________________________________________________________\n",
      "dropout_8 (Dropout)          (None, 32)                0         \n",
      "_________________________________________________________________\n",
      "dense_6 (Dense)              (None, 6)                 198       \n",
      "=================================================================\n",
      "Total params: 13,894\n",
      "Trainable params: 13,894\n",
      "Non-trainable params: 0\n",
      "_________________________________________________________________\n",
      "None\n",
      "Epoch 1/20\n",
      "460/460 [==============================] - 9s 14ms/step - loss: 1.3543 - accuracy: 0.4306 - val_loss: 0.8440 - val_accuracy: 0.6481\n",
      "Epoch 2/20\n",
      "460/460 [==============================] - 6s 12ms/step - loss: 0.7487 - accuracy: 0.7005 - val_loss: 0.5933 - val_accuracy: 0.7665\n",
      "Epoch 3/20\n",
      "460/460 [==============================] - 6s 12ms/step - loss: 0.5445 - accuracy: 0.8047 - val_loss: 0.5548 - val_accuracy: 0.8083\n",
      "Epoch 4/20\n",
      "460/460 [==============================] - 6s 12ms/step - loss: 0.5592 - accuracy: 0.8193 - val_loss: 0.4683 - val_accuracy: 0.8436\n",
      "Epoch 5/20\n",
      "460/460 [==============================] - 6s 12ms/step - loss: 0.3951 - accuracy: 0.8860 - val_loss: 0.5617 - val_accuracy: 0.8107\n",
      "Epoch 6/20\n",
      "460/460 [==============================] - 6s 12ms/step - loss: 0.3002 - accuracy: 0.9087 - val_loss: 0.4009 - val_accuracy: 0.8687\n",
      "Epoch 7/20\n",
      "460/460 [==============================] - 6s 12ms/step - loss: 0.3111 - accuracy: 0.9082 - val_loss: 0.6213 - val_accuracy: 0.7272\n",
      "Epoch 8/20\n",
      "460/460 [==============================] - 6s 12ms/step - loss: 0.4426 - accuracy: 0.8356 - val_loss: 0.4142 - val_accuracy: 0.8687\n",
      "Epoch 9/20\n",
      "460/460 [==============================] - 6s 12ms/step - loss: 0.2571 - accuracy: 0.9232 - val_loss: 0.4545 - val_accuracy: 0.8690\n",
      "Epoch 10/20\n",
      "460/460 [==============================] - 6s 12ms/step - loss: 0.2397 - accuracy: 0.9279 - val_loss: 0.4799 - val_accuracy: 0.8687\n",
      "Epoch 11/20\n",
      "460/460 [==============================] - 6s 12ms/step - loss: 0.2123 - accuracy: 0.9311 - val_loss: 0.4748 - val_accuracy: 0.8795\n",
      "Epoch 12/20\n",
      "460/460 [==============================] - 6s 12ms/step - loss: 0.1759 - accuracy: 0.9395 - val_loss: 0.6229 - val_accuracy: 0.8398\n",
      "Epoch 13/20\n",
      "460/460 [==============================] - 6s 12ms/step - loss: 0.2266 - accuracy: 0.9255 - val_loss: 0.4875 - val_accuracy: 0.8751\n",
      "Epoch 14/20\n",
      "460/460 [==============================] - 6s 12ms/step - loss: 0.1700 - accuracy: 0.9419 - val_loss: 0.4741 - val_accuracy: 0.8931\n",
      "Epoch 15/20\n",
      "460/460 [==============================] - 6s 12ms/step - loss: 0.1504 - accuracy: 0.9470 - val_loss: 0.6224 - val_accuracy: 0.8510\n",
      "Epoch 16/20\n",
      "460/460 [==============================] - 6s 12ms/step - loss: 0.2204 - accuracy: 0.9216 - val_loss: 0.5398 - val_accuracy: 0.8816\n",
      "Epoch 17/20\n",
      "460/460 [==============================] - 6s 12ms/step - loss: 0.1676 - accuracy: 0.9397 - val_loss: 0.7823 - val_accuracy: 0.8531\n",
      "Epoch 18/20\n",
      "460/460 [==============================] - 6s 12ms/step - loss: 0.2878 - accuracy: 0.9197 - val_loss: 0.4913 - val_accuracy: 0.8941\n",
      "Epoch 19/20\n",
      "460/460 [==============================] - 6s 12ms/step - loss: 0.1619 - accuracy: 0.9389 - val_loss: 0.5693 - val_accuracy: 0.8768\n",
      "Epoch 20/20\n",
      "460/460 [==============================] - 6s 12ms/step - loss: 0.1432 - accuracy: 0.9484 - val_loss: 0.4331 - val_accuracy: 0.8958\n"
     ]
    },
    {
     "data": {
      "text/plain": [
       "<tensorflow.python.keras.callbacks.History at 0x7f354f9b3910>"
      ]
     },
     "execution_count": 23,
     "metadata": {
      "tags": []
     },
     "output_type": "execute_result"
    }
   ],
   "source": [
    "tf.random.set_seed(106)\n",
    "n_hidden = 32\n",
    "epochs=20\n",
    "# Initiliazing the sequential model\n",
    "model = keras.Sequential()\n",
    "# Configuring the parameters\n",
    "model.add(layers.LSTM(n_hidden, input_shape=(timesteps, input_dim), return_sequences=True))\n",
    "# Adding a dropout layer\n",
    "model.add(layers.Dropout(0.6))\n",
    "# Configuring the parameters\n",
    "model.add(layers.LSTM(n_hidden))\n",
    "# Adding a dropout layer\n",
    "model.add(layers.Dropout(0.6))\n",
    "# Adding a dense output layer with sigmoid activation\n",
    "model.add(layers.Dense(n_classes, activation='softmax'))\n",
    "print (model.summary())\n",
    "\n",
    "\n",
    "\n",
    "# Compiling the model\n",
    "model.compile(loss=keras.losses.CategoricalCrossentropy(from_logits=True),\n",
    "              optimizer='adam',\n",
    "              metrics=['accuracy'])\n",
    "\n",
    "# Training the model\n",
    "model.fit(X_train,\n",
    "          Y_train,\n",
    "          batch_size=batch_size,\n",
    "          validation_data=(X_test, Y_test),\n",
    "          epochs=epochs)"
   ]
  },
  {
   "cell_type": "code",
   "execution_count": null,
   "metadata": {
    "colab": {
     "base_uri": "https://localhost:8080/"
    },
    "id": "2zbAYhsuCqk-",
    "outputId": "0e5188ee-7d6b-4291-d5fe-248dc4e2dd47"
   },
   "outputs": [
    {
     "name": "stdout",
     "output_type": "stream",
     "text": [
      "Model: \"sequential_7\"\n",
      "_________________________________________________________________\n",
      "Layer (type)                 Output Shape              Param #   \n",
      "=================================================================\n",
      "lstm_9 (LSTM)                (None, 128, 48)           11136     \n",
      "_________________________________________________________________\n",
      "dropout_9 (Dropout)          (None, 128, 48)           0         \n",
      "_________________________________________________________________\n",
      "lstm_10 (LSTM)               (None, 48)                18624     \n",
      "_________________________________________________________________\n",
      "dropout_10 (Dropout)         (None, 48)                0         \n",
      "_________________________________________________________________\n",
      "dense_7 (Dense)              (None, 6)                 294       \n",
      "=================================================================\n",
      "Total params: 30,054\n",
      "Trainable params: 30,054\n",
      "Non-trainable params: 0\n",
      "_________________________________________________________________\n",
      "None\n",
      "Epoch 1/20\n",
      "460/460 [==============================] - 8s 13ms/step - loss: 1.2490 - accuracy: 0.4724 - val_loss: 0.6672 - val_accuracy: 0.7207\n",
      "Epoch 2/20\n",
      "460/460 [==============================] - 6s 12ms/step - loss: 0.6597 - accuracy: 0.7221 - val_loss: 0.4025 - val_accuracy: 0.8588\n",
      "Epoch 3/20\n",
      "460/460 [==============================] - 6s 12ms/step - loss: 0.4216 - accuracy: 0.8665 - val_loss: 0.3250 - val_accuracy: 0.8924\n",
      "Epoch 4/20\n",
      "460/460 [==============================] - 6s 12ms/step - loss: 0.3201 - accuracy: 0.8992 - val_loss: 0.2733 - val_accuracy: 0.9053\n",
      "Epoch 5/20\n",
      "460/460 [==============================] - 6s 12ms/step - loss: 0.1985 - accuracy: 0.9366 - val_loss: 0.3198 - val_accuracy: 0.8928\n",
      "Epoch 6/20\n",
      "460/460 [==============================] - 6s 12ms/step - loss: 0.1595 - accuracy: 0.9474 - val_loss: 0.2512 - val_accuracy: 0.9040\n",
      "Epoch 7/20\n",
      "460/460 [==============================] - 6s 12ms/step - loss: 0.2110 - accuracy: 0.9293 - val_loss: 0.2531 - val_accuracy: 0.9002\n",
      "Epoch 8/20\n",
      "460/460 [==============================] - 6s 12ms/step - loss: 0.1823 - accuracy: 0.9333 - val_loss: 0.2661 - val_accuracy: 0.9152\n",
      "Epoch 9/20\n",
      "460/460 [==============================] - 6s 12ms/step - loss: 0.2160 - accuracy: 0.9298 - val_loss: 1.4994 - val_accuracy: 0.6892\n",
      "Epoch 10/20\n",
      "460/460 [==============================] - 6s 12ms/step - loss: 0.6746 - accuracy: 0.8052 - val_loss: 0.2853 - val_accuracy: 0.9006\n",
      "Epoch 11/20\n",
      "460/460 [==============================] - 6s 12ms/step - loss: 0.2172 - accuracy: 0.9304 - val_loss: 0.3053 - val_accuracy: 0.9060\n",
      "Epoch 12/20\n",
      "460/460 [==============================] - 6s 12ms/step - loss: 0.1907 - accuracy: 0.9377 - val_loss: 0.2254 - val_accuracy: 0.9125\n",
      "Epoch 13/20\n",
      "460/460 [==============================] - 6s 12ms/step - loss: 0.1540 - accuracy: 0.9426 - val_loss: 0.2797 - val_accuracy: 0.9040\n",
      "Epoch 14/20\n",
      "460/460 [==============================] - 6s 12ms/step - loss: 0.1504 - accuracy: 0.9456 - val_loss: 0.2779 - val_accuracy: 0.9125\n",
      "Epoch 15/20\n",
      "460/460 [==============================] - 6s 12ms/step - loss: 0.1308 - accuracy: 0.9505 - val_loss: 0.3110 - val_accuracy: 0.8958\n",
      "Epoch 16/20\n",
      "460/460 [==============================] - 6s 12ms/step - loss: 0.1735 - accuracy: 0.9393 - val_loss: 0.3113 - val_accuracy: 0.9152\n",
      "Epoch 17/20\n",
      "460/460 [==============================] - 6s 12ms/step - loss: 0.1355 - accuracy: 0.9487 - val_loss: 0.3142 - val_accuracy: 0.8972\n",
      "Epoch 18/20\n",
      "460/460 [==============================] - 6s 12ms/step - loss: 0.1602 - accuracy: 0.9398 - val_loss: 0.2938 - val_accuracy: 0.9063\n",
      "Epoch 19/20\n",
      "460/460 [==============================] - 6s 12ms/step - loss: 0.1630 - accuracy: 0.9417 - val_loss: 0.3963 - val_accuracy: 0.8938\n",
      "Epoch 20/20\n",
      "460/460 [==============================] - 6s 12ms/step - loss: 0.1748 - accuracy: 0.9371 - val_loss: 0.2892 - val_accuracy: 0.9226\n"
     ]
    },
    {
     "data": {
      "text/plain": [
       "<tensorflow.python.keras.callbacks.History at 0x7f354f089090>"
      ]
     },
     "execution_count": 24,
     "metadata": {
      "tags": []
     },
     "output_type": "execute_result"
    }
   ],
   "source": [
    "tf.random.set_seed(107)\n",
    "epochs=20\n",
    "n_hidden = 48\n",
    "# Initiliazing the sequential model\n",
    "model = keras.Sequential()\n",
    "# Configuring the parameters\n",
    "model.add(layers.LSTM(n_hidden, input_shape=(timesteps, input_dim), return_sequences=True))\n",
    "# Adding a dropout layer\n",
    "model.add(layers.Dropout(0.6))\n",
    "# Configuring the parameters\n",
    "model.add(layers.LSTM(n_hidden))\n",
    "# Adding a dropout layer\n",
    "model.add(layers.Dropout(0.6))\n",
    "# Adding a dense output layer with sigmoid activation\n",
    "model.add(layers.Dense(n_classes, activation='softmax'))\n",
    "print (model.summary())\n",
    "\n",
    "\n",
    "\n",
    "# Compiling the model\n",
    "model.compile(loss=keras.losses.CategoricalCrossentropy(from_logits=True),\n",
    "              optimizer='adam',\n",
    "              metrics=['accuracy'])\n",
    "\n",
    "# Training the model\n",
    "model.fit(X_train,\n",
    "          Y_train,\n",
    "          batch_size=batch_size,\n",
    "          validation_data=(X_test, Y_test),\n",
    "          epochs=epochs)"
   ]
  },
  {
   "cell_type": "code",
   "execution_count": null,
   "metadata": {
    "colab": {
     "base_uri": "https://localhost:8080/"
    },
    "id": "GyGQW_FANHLr",
    "outputId": "aba92d40-e232-49db-a3fe-062d34f372a2"
   },
   "outputs": [
    {
     "name": "stdout",
     "output_type": "stream",
     "text": [
      "Model: \"sequential_10\"\n",
      "_________________________________________________________________\n",
      "Layer (type)                 Output Shape              Param #   \n",
      "=================================================================\n",
      "lstm_15 (LSTM)               (None, 128, 48)           11136     \n",
      "_________________________________________________________________\n",
      "dropout_15 (Dropout)         (None, 128, 48)           0         \n",
      "_________________________________________________________________\n",
      "lstm_16 (LSTM)               (None, 48)                18624     \n",
      "_________________________________________________________________\n",
      "dropout_16 (Dropout)         (None, 48)                0         \n",
      "_________________________________________________________________\n",
      "dense_10 (Dense)             (None, 6)                 294       \n",
      "=================================================================\n",
      "Total params: 30,054\n",
      "Trainable params: 30,054\n",
      "Non-trainable params: 0\n",
      "_________________________________________________________________\n",
      "None\n",
      "Epoch 1/30\n",
      "460/460 [==============================] - 9s 14ms/step - loss: 1.3070 - accuracy: 0.4398 - val_loss: 0.7529 - val_accuracy: 0.6770\n",
      "Epoch 2/30\n",
      "460/460 [==============================] - 6s 13ms/step - loss: 0.6721 - accuracy: 0.7012 - val_loss: 0.8682 - val_accuracy: 0.6780\n",
      "Epoch 3/30\n",
      "460/460 [==============================] - 6s 12ms/step - loss: 0.6308 - accuracy: 0.7548 - val_loss: 0.4938 - val_accuracy: 0.8375\n",
      "Epoch 4/30\n",
      "460/460 [==============================] - 6s 12ms/step - loss: 0.3050 - accuracy: 0.9039 - val_loss: 0.5745 - val_accuracy: 0.8341\n",
      "Epoch 5/30\n",
      "460/460 [==============================] - 6s 12ms/step - loss: 0.3119 - accuracy: 0.9033 - val_loss: 0.4024 - val_accuracy: 0.8775\n",
      "Epoch 6/30\n",
      "460/460 [==============================] - 6s 13ms/step - loss: 0.2615 - accuracy: 0.9171 - val_loss: 0.3932 - val_accuracy: 0.8924\n",
      "Epoch 7/30\n",
      "460/460 [==============================] - 6s 13ms/step - loss: 0.1631 - accuracy: 0.9457 - val_loss: 0.4516 - val_accuracy: 0.8677\n",
      "Epoch 8/30\n",
      "460/460 [==============================] - 6s 12ms/step - loss: 0.1525 - accuracy: 0.9430 - val_loss: 0.4753 - val_accuracy: 0.8772\n",
      "Epoch 9/30\n",
      "460/460 [==============================] - 6s 12ms/step - loss: 0.1588 - accuracy: 0.9377 - val_loss: 0.3934 - val_accuracy: 0.8965\n",
      "Epoch 10/30\n",
      "460/460 [==============================] - 6s 13ms/step - loss: 0.1448 - accuracy: 0.9467 - val_loss: 0.4070 - val_accuracy: 0.8975\n",
      "Epoch 11/30\n",
      "460/460 [==============================] - 6s 12ms/step - loss: 0.1581 - accuracy: 0.9430 - val_loss: 0.3998 - val_accuracy: 0.8901\n",
      "Epoch 12/30\n",
      "460/460 [==============================] - 6s 13ms/step - loss: 0.3176 - accuracy: 0.9002 - val_loss: 0.4336 - val_accuracy: 0.8829\n",
      "Epoch 13/30\n",
      "460/460 [==============================] - 6s 13ms/step - loss: 0.2097 - accuracy: 0.9338 - val_loss: 0.3866 - val_accuracy: 0.8894\n",
      "Epoch 14/30\n",
      "460/460 [==============================] - 6s 13ms/step - loss: 0.1483 - accuracy: 0.9474 - val_loss: 0.4334 - val_accuracy: 0.8863\n",
      "Epoch 15/30\n",
      "460/460 [==============================] - 6s 13ms/step - loss: 0.2350 - accuracy: 0.9194 - val_loss: 0.7013 - val_accuracy: 0.8575\n",
      "Epoch 16/30\n",
      "460/460 [==============================] - 6s 13ms/step - loss: 0.2200 - accuracy: 0.9330 - val_loss: 0.4410 - val_accuracy: 0.8918\n",
      "Epoch 17/30\n",
      "460/460 [==============================] - 6s 12ms/step - loss: 0.1517 - accuracy: 0.9448 - val_loss: 0.4036 - val_accuracy: 0.8958\n",
      "Epoch 18/30\n",
      "460/460 [==============================] - 6s 12ms/step - loss: 0.1150 - accuracy: 0.9523 - val_loss: 0.4538 - val_accuracy: 0.8999\n",
      "Epoch 19/30\n",
      "460/460 [==============================] - 6s 13ms/step - loss: 0.1729 - accuracy: 0.9339 - val_loss: 0.4046 - val_accuracy: 0.8578\n",
      "Epoch 20/30\n",
      "460/460 [==============================] - 6s 12ms/step - loss: 0.3484 - accuracy: 0.8803 - val_loss: 0.6745 - val_accuracy: 0.8110\n",
      "Epoch 21/30\n",
      "460/460 [==============================] - 6s 12ms/step - loss: 0.3367 - accuracy: 0.8957 - val_loss: 0.6603 - val_accuracy: 0.8242\n",
      "Epoch 22/30\n",
      "460/460 [==============================] - 6s 13ms/step - loss: 0.7944 - accuracy: 0.7838 - val_loss: 0.4639 - val_accuracy: 0.8480\n",
      "Epoch 23/30\n",
      "460/460 [==============================] - 6s 12ms/step - loss: 0.2509 - accuracy: 0.9187 - val_loss: 0.3841 - val_accuracy: 0.8748\n",
      "Epoch 24/30\n",
      "460/460 [==============================] - 6s 13ms/step - loss: 0.2108 - accuracy: 0.9297 - val_loss: 0.3113 - val_accuracy: 0.8935\n",
      "Epoch 25/30\n",
      "460/460 [==============================] - 6s 13ms/step - loss: 0.2262 - accuracy: 0.9229 - val_loss: 0.3383 - val_accuracy: 0.8941\n",
      "Epoch 26/30\n",
      "460/460 [==============================] - 6s 13ms/step - loss: 0.1680 - accuracy: 0.9383 - val_loss: 0.2864 - val_accuracy: 0.9009\n",
      "Epoch 27/30\n",
      "460/460 [==============================] - 6s 13ms/step - loss: 0.1376 - accuracy: 0.9470 - val_loss: 0.3395 - val_accuracy: 0.8996\n",
      "Epoch 28/30\n",
      "460/460 [==============================] - 6s 13ms/step - loss: 0.1411 - accuracy: 0.9437 - val_loss: 0.3153 - val_accuracy: 0.9074\n",
      "Epoch 29/30\n",
      "460/460 [==============================] - 6s 13ms/step - loss: 0.2009 - accuracy: 0.9339 - val_loss: 0.3148 - val_accuracy: 0.9006\n",
      "Epoch 30/30\n",
      "460/460 [==============================] - 6s 13ms/step - loss: 0.1566 - accuracy: 0.9359 - val_loss: 0.5464 - val_accuracy: 0.8656\n"
     ]
    },
    {
     "data": {
      "text/plain": [
       "<tensorflow.python.keras.callbacks.History at 0x7f35284e1090>"
      ]
     },
     "execution_count": 27,
     "metadata": {
      "tags": []
     },
     "output_type": "execute_result"
    }
   ],
   "source": [
    "tf.random.set_seed(111)\n",
    "n_hidden = 48\n",
    "epochs=30\n",
    "# Initiliazing the sequential model\n",
    "model = keras.Sequential()\n",
    "# Configuring the parameters\n",
    "model.add(layers.LSTM(n_hidden, input_shape=(timesteps, input_dim), return_sequences=True))\n",
    "# Adding a dropout layer\n",
    "model.add(layers.Dropout(0.6))\n",
    "# Configuring the parameters\n",
    "model.add(layers.LSTM(n_hidden))\n",
    "# Adding a dropout layer\n",
    "model.add(layers.Dropout(0.6))\n",
    "# Adding a dense output layer with sigmoid activation\n",
    "model.add(layers.Dense(n_classes, activation='softmax'))\n",
    "print (model.summary())\n",
    "\n",
    "\n",
    "\n",
    "# Compiling the model\n",
    "model.compile(loss=keras.losses.CategoricalCrossentropy(from_logits=True),\n",
    "              optimizer='adam',\n",
    "              metrics=['accuracy'])\n",
    "\n",
    "# Training the model\n",
    "model.fit(X_train,\n",
    "          Y_train,\n",
    "          batch_size=batch_size,\n",
    "          validation_data=(X_test, Y_test),\n",
    "          epochs=epochs)"
   ]
  },
  {
   "cell_type": "code",
   "execution_count": null,
   "metadata": {
    "colab": {
     "base_uri": "https://localhost:8080/"
    },
    "id": "7QiAtL95kFfr",
    "outputId": "55198a71-f6fc-49cb-df4e-bd12a70dcd6e"
   },
   "outputs": [
    {
     "name": "stdout",
     "output_type": "stream",
     "text": [
      "Model: \"sequential_8\"\n",
      "_________________________________________________________________\n",
      "Layer (type)                 Output Shape              Param #   \n",
      "=================================================================\n",
      "lstm_11 (LSTM)               (None, 128, 64)           18944     \n",
      "_________________________________________________________________\n",
      "dropout_11 (Dropout)         (None, 128, 64)           0         \n",
      "_________________________________________________________________\n",
      "lstm_12 (LSTM)               (None, 64)                33024     \n",
      "_________________________________________________________________\n",
      "dropout_12 (Dropout)         (None, 64)                0         \n",
      "_________________________________________________________________\n",
      "dense_8 (Dense)              (None, 6)                 390       \n",
      "=================================================================\n",
      "Total params: 52,358\n",
      "Trainable params: 52,358\n",
      "Non-trainable params: 0\n",
      "_________________________________________________________________\n",
      "None\n",
      "Epoch 1/20\n",
      "460/460 [==============================] - 9s 14ms/step - loss: 1.2828 - accuracy: 0.4654 - val_loss: 0.7759 - val_accuracy: 0.6936\n",
      "Epoch 2/20\n",
      "460/460 [==============================] - 6s 13ms/step - loss: 0.7182 - accuracy: 0.7130 - val_loss: 0.6664 - val_accuracy: 0.7625\n",
      "Epoch 3/20\n",
      "460/460 [==============================] - 6s 12ms/step - loss: 0.5348 - accuracy: 0.8094 - val_loss: 0.4067 - val_accuracy: 0.8612\n",
      "Epoch 4/20\n",
      "460/460 [==============================] - 6s 12ms/step - loss: 0.3406 - accuracy: 0.8936 - val_loss: 0.2903 - val_accuracy: 0.9016\n",
      "Epoch 5/20\n",
      "460/460 [==============================] - 6s 12ms/step - loss: 0.3202 - accuracy: 0.8931 - val_loss: 0.3052 - val_accuracy: 0.9023\n",
      "Epoch 6/20\n",
      "460/460 [==============================] - 6s 13ms/step - loss: 0.2111 - accuracy: 0.9341 - val_loss: 0.3482 - val_accuracy: 0.9040\n",
      "Epoch 7/20\n",
      "460/460 [==============================] - 6s 12ms/step - loss: 0.2127 - accuracy: 0.9284 - val_loss: 0.3108 - val_accuracy: 0.8965\n",
      "Epoch 8/20\n",
      "460/460 [==============================] - 6s 12ms/step - loss: 0.1634 - accuracy: 0.9467 - val_loss: 0.3615 - val_accuracy: 0.8931\n",
      "Epoch 9/20\n",
      "460/460 [==============================] - 6s 12ms/step - loss: 0.1702 - accuracy: 0.9406 - val_loss: 0.3472 - val_accuracy: 0.9091\n",
      "Epoch 10/20\n",
      "460/460 [==============================] - 6s 12ms/step - loss: 0.1513 - accuracy: 0.9486 - val_loss: 0.4331 - val_accuracy: 0.8880\n",
      "Epoch 11/20\n",
      "460/460 [==============================] - 6s 13ms/step - loss: 0.1506 - accuracy: 0.9444 - val_loss: 0.3045 - val_accuracy: 0.9111\n",
      "Epoch 12/20\n",
      "460/460 [==============================] - 6s 12ms/step - loss: 0.3094 - accuracy: 0.8939 - val_loss: 0.3151 - val_accuracy: 0.9050\n",
      "Epoch 13/20\n",
      "460/460 [==============================] - 6s 13ms/step - loss: 0.2103 - accuracy: 0.9331 - val_loss: 0.3264 - val_accuracy: 0.9043\n",
      "Epoch 14/20\n",
      "460/460 [==============================] - 6s 12ms/step - loss: 0.2037 - accuracy: 0.9292 - val_loss: 0.2983 - val_accuracy: 0.9169\n",
      "Epoch 15/20\n",
      "460/460 [==============================] - 6s 13ms/step - loss: 0.1797 - accuracy: 0.9398 - val_loss: 0.3169 - val_accuracy: 0.9091\n",
      "Epoch 16/20\n",
      "460/460 [==============================] - 6s 12ms/step - loss: 0.1370 - accuracy: 0.9455 - val_loss: 0.3393 - val_accuracy: 0.9165\n",
      "Epoch 17/20\n",
      "460/460 [==============================] - 6s 13ms/step - loss: 0.1395 - accuracy: 0.9422 - val_loss: 0.3167 - val_accuracy: 0.9141\n",
      "Epoch 18/20\n",
      "460/460 [==============================] - 6s 13ms/step - loss: 0.1391 - accuracy: 0.9500 - val_loss: 0.2944 - val_accuracy: 0.9226\n",
      "Epoch 19/20\n",
      "460/460 [==============================] - 6s 12ms/step - loss: 0.1513 - accuracy: 0.9472 - val_loss: 0.6193 - val_accuracy: 0.8846\n",
      "Epoch 20/20\n",
      "460/460 [==============================] - 6s 12ms/step - loss: 0.2063 - accuracy: 0.9348 - val_loss: 0.4920 - val_accuracy: 0.9074\n"
     ]
    },
    {
     "data": {
      "text/plain": [
       "<tensorflow.python.keras.callbacks.History at 0x7f35df38cdd0>"
      ]
     },
     "execution_count": 25,
     "metadata": {
      "tags": []
     },
     "output_type": "execute_result"
    }
   ],
   "source": [
    "tf.random.set_seed(108)\n",
    "n_hidden = 64\n",
    "# Initiliazing the sequential model\n",
    "model = keras.Sequential()\n",
    "# Configuring the parameters\n",
    "model.add(layers.LSTM(n_hidden, input_shape=(timesteps, input_dim), return_sequences=True))\n",
    "# Adding a dropout layer\n",
    "model.add(layers.Dropout(0.7))\n",
    "# Configuring the parameters\n",
    "model.add(layers.LSTM(n_hidden))\n",
    "# Adding a dropout layer\n",
    "model.add(layers.Dropout(0.7))\n",
    "# Adding a dense output layer with sigmoid activation\n",
    "model.add(layers.Dense(n_classes, activation='softmax'))\n",
    "print (model.summary())\n",
    "\n",
    "\n",
    "\n",
    "# Compiling the model\n",
    "model.compile(loss=keras.losses.CategoricalCrossentropy(from_logits=True),\n",
    "              optimizer='adam',\n",
    "              metrics=['accuracy'])\n",
    "\n",
    "# Training the model\n",
    "model.fit(X_train,\n",
    "          Y_train,\n",
    "          batch_size=batch_size,\n",
    "          validation_data=(X_test, Y_test),\n",
    "          epochs=epochs)"
   ]
  },
  {
   "cell_type": "markdown",
   "metadata": {
    "id": "0m71vbNbOysU"
   },
   "source": [
    "## Changes\n"
   ]
  },
  {
   "cell_type": "code",
   "execution_count": null,
   "metadata": {
    "id": "2dTTb00Qng_C"
   },
   "outputs": [],
   "source": [
    "\"\"\"\n",
    "1.0 hidden1 = 48, hidden2 = 64, dp = 06, 0.7  NO\n",
    "1.1 hidden1 = 48, hidden2 = 64, dp = 0.6, 0.6 epochs=30 YES\n",
    "1.2 hidden1 = 48, hidden2 = 64, dp = 0.6, 0.6 epochs=40 NO\n",
    "1.3 hidden1 = 32, hidden2 = 48, dp = 0.6, 0.6 epochs=30 No\n",
    "1.4 hidden1 = 32, hidden2 = 64, dp = 0.6, 0.6 epochs=30 NO\n",
    "1.5 hidden1 = 16, hidden2 = 32, dp = 0.2, 0.5 epochs=30 YES\n",
    "1.6 hidden1 = 32, hidden2 = 64, dp = 0.5, 0.5 epochs=30 NO\n",
    "1.5 hidden1 = 16, hidden2 = 32, dp = 0.2, 0.2 epochs=30 \n",
    "1.5 hidden1 = 16, hidden2 = 32, dp = 0.2, 0.3 epochs=30 NO\n",
    "\n",
    "2.0 hidden1 = 16, hidden2 = 32, hidden3 = 48, dp = 0.3, 0.5, 0.6, epochs=30 NO\n",
    "\"\"\""
   ]
  },
  {
   "cell_type": "code",
   "execution_count": null,
   "metadata": {
    "id": "L7ehUjYwrLS1"
   },
   "outputs": [],
   "source": [
    "from keras.layers.wrappers import TimeDistributed\n",
    "\n",
    "\n",
    "from tensorflow.keras.utils import plot_model"
   ]
  },
  {
   "cell_type": "code",
   "execution_count": null,
   "metadata": {
    "colab": {
     "base_uri": "https://localhost:8080/",
     "height": 754
    },
    "id": "3Kl-VDsptVVl",
    "outputId": "8eb7d152-c7df-4b45-8e98-418f71b97347"
   },
   "outputs": [
    {
     "data": {
      "image/png": "[encoded data removed]",
      "text/plain": [
       "<IPython.core.display.Image object>"
      ]
     },
     "execution_count": 22,
     "metadata": {
      "tags": []
     },
     "output_type": "execute_result"
    }
   ],
   "source": [
    "# functional API\n",
    "\n",
    "\n",
    "tf.random.set_seed(128)\n",
    "n_hidden_x = 32\n",
    "n_hidden_y = 16\n",
    "n_hidden2 = 32\n",
    "n_hidden3 = 48\n",
    "\n",
    "inputs = keras.Input(shape = (timesteps, input_dim))\n",
    "\n",
    "x = layers.LSTM(n_hidden_x, return_sequences=True)(inputs)\n",
    "block_x = layers.LSTM(n_hidden2)(x)\n",
    "\n",
    "y = layers.LSTM(n_hidden_y, return_sequences=True)(inputs)\n",
    "block_y = layers.LSTM(n_hidden2)(y)\n",
    "\n",
    "x = layers.concatenate([block_x,block_y])\n",
    "\n",
    "x = layers.Dense(n_hidden3, kernel_initializer='he_normal', activation='relu')(x)\n",
    "x = layers.Dense(n_hidden2, kernel_initializer='he_normal', activation='relu')(x)\n",
    "\n",
    "\n",
    "\n",
    "outputs = layers.Dense(n_classes, activation = 'softmax')(x)\n",
    "\n",
    "model = keras.Model(inputs, outputs)\n",
    "\n",
    "keras.utils.plot_model(model, 'lstm_resnet.png', show_shapes=True)"
   ]
  },
  {
   "cell_type": "code",
   "execution_count": null,
   "metadata": {
    "colab": {
     "base_uri": "https://localhost:8080/"
    },
    "id": "sHf2QjFRtVFG",
    "outputId": "430feaa4-52c0-4374-bf7f-b8fab56980ed"
   },
   "outputs": [
    {
     "name": "stdout",
     "output_type": "stream",
     "text": [
      "Model: \"model_5\"\n",
      "__________________________________________________________________________________________________\n",
      "Layer (type)                    Output Shape         Param #     Connected to                     \n",
      "==================================================================================================\n",
      "input_6 (InputLayer)            [(None, 128, 9)]     0                                            \n",
      "__________________________________________________________________________________________________\n",
      "lstm_14 (LSTM)                  (None, 128, 32)      5376        input_6[0][0]                    \n",
      "__________________________________________________________________________________________________\n",
      "lstm_16 (LSTM)                  (None, 128, 16)      1664        input_6[0][0]                    \n",
      "__________________________________________________________________________________________________\n",
      "lstm_15 (LSTM)                  (None, 32)           8320        lstm_14[0][0]                    \n",
      "__________________________________________________________________________________________________\n",
      "lstm_17 (LSTM)                  (None, 32)           6272        lstm_16[0][0]                    \n",
      "__________________________________________________________________________________________________\n",
      "concatenate_3 (Concatenate)     (None, 64)           0           lstm_15[0][0]                    \n",
      "                                                                 lstm_17[0][0]                    \n",
      "__________________________________________________________________________________________________\n",
      "dense_15 (Dense)                (None, 48)           3120        concatenate_3[0][0]              \n",
      "__________________________________________________________________________________________________\n",
      "dense_16 (Dense)                (None, 32)           1568        dense_15[0][0]                   \n",
      "__________________________________________________________________________________________________\n",
      "dense_17 (Dense)                (None, 6)            198         dense_16[0][0]                   \n",
      "==================================================================================================\n",
      "Total params: 26,518\n",
      "Trainable params: 26,518\n",
      "Non-trainable params: 0\n",
      "__________________________________________________________________________________________________\n",
      "None\n",
      "Epoch 1/30\n"
     ]
    },
    {
     "name": "stderr",
     "output_type": "stream",
     "text": [
      "/usr/local/lib/python3.7/dist-packages/tensorflow/python/keras/backend.py:4870: UserWarning: \"`categorical_crossentropy` received `from_logits=True`, but the `output` argument was produced by a sigmoid or softmax activation and thus does not represent logits. Was this intended?\"\n",
      "  '\"`categorical_crossentropy` received `from_logits=True`, but '\n"
     ]
    },
    {
     "name": "stdout",
     "output_type": "stream",
     "text": [
      "460/460 [==============================] - 15s 24ms/step - loss: 0.6391 - accuracy: 0.7383 - val_loss: 0.6000 - val_accuracy: 0.8310\n",
      "Epoch 2/30\n",
      "460/460 [==============================] - 10s 22ms/step - loss: 0.5000 - accuracy: 0.7775 - val_loss: 0.6617 - val_accuracy: 0.7716\n",
      "Epoch 3/30\n",
      "460/460 [==============================] - 10s 21ms/step - loss: 0.3069 - accuracy: 0.8864 - val_loss: 0.5650 - val_accuracy: 0.8344\n",
      "Epoch 4/30\n",
      "460/460 [==============================] - 10s 22ms/step - loss: 0.2160 - accuracy: 0.9221 - val_loss: 0.4822 - val_accuracy: 0.8768\n",
      "Epoch 5/30\n",
      "460/460 [==============================] - 10s 22ms/step - loss: 0.1582 - accuracy: 0.9391 - val_loss: 0.5135 - val_accuracy: 0.8514\n",
      "Epoch 6/30\n",
      "460/460 [==============================] - 10s 21ms/step - loss: 0.2019 - accuracy: 0.9270 - val_loss: 0.3907 - val_accuracy: 0.8775\n",
      "Epoch 7/30\n",
      "460/460 [==============================] - 10s 22ms/step - loss: 0.1637 - accuracy: 0.9410 - val_loss: 0.3597 - val_accuracy: 0.8914\n",
      "Epoch 8/30\n",
      "460/460 [==============================] - 10s 21ms/step - loss: 0.1445 - accuracy: 0.9423 - val_loss: 0.3684 - val_accuracy: 0.8901\n",
      "Epoch 9/30\n",
      "460/460 [==============================] - 10s 22ms/step - loss: 0.2572 - accuracy: 0.9082 - val_loss: 0.5019 - val_accuracy: 0.8409\n",
      "Epoch 10/30\n",
      "460/460 [==============================] - 10s 22ms/step - loss: 0.2229 - accuracy: 0.9183 - val_loss: 0.3602 - val_accuracy: 0.8843\n",
      "Epoch 11/30\n",
      "460/460 [==============================] - 10s 22ms/step - loss: 0.2600 - accuracy: 0.8966 - val_loss: 0.5049 - val_accuracy: 0.8375\n",
      "Epoch 12/30\n",
      "460/460 [==============================] - 11s 23ms/step - loss: 0.2032 - accuracy: 0.9297 - val_loss: 0.3961 - val_accuracy: 0.8649\n",
      "Epoch 13/30\n",
      "460/460 [==============================] - 11s 23ms/step - loss: 0.1568 - accuracy: 0.9444 - val_loss: 0.3950 - val_accuracy: 0.8907\n",
      "Epoch 14/30\n",
      "460/460 [==============================] - 10s 23ms/step - loss: 0.1190 - accuracy: 0.9524 - val_loss: 0.4038 - val_accuracy: 0.8853\n",
      "Epoch 15/30\n",
      "460/460 [==============================] - 10s 22ms/step - loss: 0.1154 - accuracy: 0.9535 - val_loss: 0.4199 - val_accuracy: 0.8877\n",
      "Epoch 16/30\n",
      "460/460 [==============================] - 10s 22ms/step - loss: 0.1602 - accuracy: 0.9410 - val_loss: 0.5322 - val_accuracy: 0.8432\n",
      "Epoch 17/30\n",
      "460/460 [==============================] - 10s 22ms/step - loss: 0.1935 - accuracy: 0.9310 - val_loss: 0.4933 - val_accuracy: 0.8785\n",
      "Epoch 18/30\n",
      "460/460 [==============================] - 10s 22ms/step - loss: 0.1777 - accuracy: 0.9350 - val_loss: 0.4347 - val_accuracy: 0.8839\n",
      "Epoch 19/30\n",
      "460/460 [==============================] - 10s 22ms/step - loss: 0.1529 - accuracy: 0.9397 - val_loss: 0.4450 - val_accuracy: 0.8914\n",
      "Epoch 20/30\n",
      "460/460 [==============================] - 10s 22ms/step - loss: 0.1425 - accuracy: 0.9414 - val_loss: 0.3952 - val_accuracy: 0.8965\n",
      "Epoch 21/30\n",
      "460/460 [==============================] - 10s 22ms/step - loss: 0.1343 - accuracy: 0.9508 - val_loss: 0.5074 - val_accuracy: 0.8755\n",
      "Epoch 22/30\n",
      "460/460 [==============================] - 10s 21ms/step - loss: 0.1417 - accuracy: 0.9408 - val_loss: 0.4343 - val_accuracy: 0.8924\n",
      "Epoch 23/30\n",
      "460/460 [==============================] - 10s 22ms/step - loss: 0.1126 - accuracy: 0.9509 - val_loss: 0.5034 - val_accuracy: 0.8962\n",
      "Epoch 24/30\n",
      "460/460 [==============================] - 10s 22ms/step - loss: 0.1597 - accuracy: 0.9400 - val_loss: 0.3474 - val_accuracy: 0.8962\n",
      "Epoch 25/30\n",
      "460/460 [==============================] - 10s 21ms/step - loss: 0.1272 - accuracy: 0.9493 - val_loss: 0.4398 - val_accuracy: 0.8890\n",
      "Epoch 26/30\n",
      "460/460 [==============================] - 10s 22ms/step - loss: 0.1188 - accuracy: 0.9509 - val_loss: 0.5284 - val_accuracy: 0.8907\n",
      "Epoch 27/30\n",
      "460/460 [==============================] - 10s 23ms/step - loss: 0.1301 - accuracy: 0.9504 - val_loss: 0.5296 - val_accuracy: 0.8802\n",
      "Epoch 28/30\n",
      "460/460 [==============================] - 10s 23ms/step - loss: 0.1101 - accuracy: 0.9535 - val_loss: 0.3930 - val_accuracy: 0.9036\n",
      "Epoch 29/30\n",
      "460/460 [==============================] - 10s 23ms/step - loss: 0.1101 - accuracy: 0.9535 - val_loss: 0.4278 - val_accuracy: 0.9009\n",
      "Epoch 30/30\n",
      "460/460 [==============================] - 10s 22ms/step - loss: 0.1521 - accuracy: 0.9429 - val_loss: 0.4415 - val_accuracy: 0.8836\n"
     ]
    },
    {
     "data": {
      "text/plain": [
       "<tensorflow.python.keras.callbacks.History at 0x7f552eaf0dd0>"
      ]
     },
     "execution_count": 23,
     "metadata": {
      "tags": []
     },
     "output_type": "execute_result"
    }
   ],
   "source": [
    "print(model.summary())\n",
    "\n",
    "opt =  tf.keras.optimizers.Adam(learning_rate=0.002)\n",
    "\n",
    "# Compiling the model\n",
    "model.compile(loss=keras.losses.CategoricalCrossentropy(from_logits=True),\n",
    "              optimizer=opt,\n",
    "              metrics=['accuracy'])\n",
    "\n",
    "# Training the model\n",
    "model.fit(X_train,\n",
    "          Y_train,\n",
    "          batch_size=batch_size,\n",
    "          validation_data=(X_test, Y_test),\n",
    "          epochs=epochs)"
   ]
  },
  {
   "cell_type": "code",
   "execution_count": null,
   "metadata": {
    "colab": {
     "base_uri": "https://localhost:8080/",
     "height": 754
    },
    "id": "c9AlCFdC5r5q",
    "outputId": "aca2e6a2-0e8c-4803-a2df-d2ec2ce36569"
   },
   "outputs": [
    {
     "data": {
      "image/png": "[encoded data removed]",
      "text/plain": [
       "<IPython.core.display.Image object>"
      ]
     },
     "execution_count": 17,
     "metadata": {
      "tags": []
     },
     "output_type": "execute_result"
    }
   ],
   "source": [
    "# functional API\n",
    "\n",
    "\n",
    "tf.random.set_seed(127)\n",
    "n_hidden1 = 32\n",
    "n_hidden2 = 32\n",
    "n_hidden3 = 48\n",
    "\n",
    "inputs = keras.Input(shape = (timesteps, input_dim))\n",
    "\n",
    "x = layers.LSTM(n_hidden1, return_sequences=True)(inputs)\n",
    "block_1 = layers.LSTM(n_hidden2)(x)\n",
    "\n",
    "x = layers.Dense(n_hidden3, kernel_initializer='he_normal', activation='relu')(block_1)\n",
    "x = layers.Dense(n_hidden2, kernel_initializer='he_normal', activation='relu')(x)\n",
    "\n",
    "x = layers.concatenate([x,block_1])\n",
    "\n",
    "outputs = layers.Dense(n_classes, activation = 'softmax')(x)\n",
    "\n",
    "model = keras.Model(inputs, outputs)\n",
    "\n",
    "keras.utils.plot_model(model, 'lstm_resnet.png', show_shapes=True)"
   ]
  },
  {
   "cell_type": "code",
   "execution_count": null,
   "metadata": {
    "colab": {
     "base_uri": "https://localhost:8080/"
    },
    "id": "cVt4dQ4R_6ZC",
    "outputId": "1e58705b-581f-4b85-8af3-992c2893c333"
   },
   "outputs": [
    {
     "name": "stdout",
     "output_type": "stream",
     "text": [
      "Model: \"model_2\"\n",
      "__________________________________________________________________________________________________\n",
      "Layer (type)                    Output Shape         Param #     Connected to                     \n",
      "==================================================================================================\n",
      "input_3 (InputLayer)            [(None, 128, 9)]     0                                            \n",
      "__________________________________________________________________________________________________\n",
      "lstm_4 (LSTM)                   (None, 128, 32)      5376        input_3[0][0]                    \n",
      "__________________________________________________________________________________________________\n",
      "lstm_5 (LSTM)                   (None, 32)           8320        lstm_4[0][0]                     \n",
      "__________________________________________________________________________________________________\n",
      "dense_6 (Dense)                 (None, 48)           1584        lstm_5[0][0]                     \n",
      "__________________________________________________________________________________________________\n",
      "dense_7 (Dense)                 (None, 32)           1568        dense_6[0][0]                    \n",
      "__________________________________________________________________________________________________\n",
      "concatenate (Concatenate)       (None, 64)           0           dense_7[0][0]                    \n",
      "                                                                 lstm_5[0][0]                     \n",
      "__________________________________________________________________________________________________\n",
      "dense_8 (Dense)                 (None, 6)            390         concatenate[0][0]                \n",
      "==================================================================================================\n",
      "Total params: 17,238\n",
      "Trainable params: 17,238\n",
      "Non-trainable params: 0\n",
      "__________________________________________________________________________________________________\n",
      "None\n",
      "Epoch 1/30\n"
     ]
    },
    {
     "name": "stderr",
     "output_type": "stream",
     "text": [
      "/usr/local/lib/python3.7/dist-packages/tensorflow/python/keras/backend.py:4870: UserWarning: \"`categorical_crossentropy` received `from_logits=True`, but the `output` argument was produced by a sigmoid or softmax activation and thus does not represent logits. Was this intended?\"\n",
      "  '\"`categorical_crossentropy` received `from_logits=True`, but '\n"
     ]
    },
    {
     "name": "stdout",
     "output_type": "stream",
     "text": [
      "460/460 [==============================] - 8s 13ms/step - loss: 0.8286 - accuracy: 0.6574 - val_loss: 0.7262 - val_accuracy: 0.7129\n",
      "Epoch 2/30\n",
      "460/460 [==============================] - 6s 12ms/step - loss: 0.4545 - accuracy: 0.8332 - val_loss: 0.5255 - val_accuracy: 0.8276\n",
      "Epoch 3/30\n",
      "460/460 [==============================] - 6s 12ms/step - loss: 0.2448 - accuracy: 0.9142 - val_loss: 0.4963 - val_accuracy: 0.8368\n",
      "Epoch 4/30\n",
      "460/460 [==============================] - 6s 12ms/step - loss: 0.2160 - accuracy: 0.9202 - val_loss: 0.4190 - val_accuracy: 0.8602\n",
      "Epoch 5/30\n",
      "460/460 [==============================] - 5s 12ms/step - loss: 0.1609 - accuracy: 0.9365 - val_loss: 0.3441 - val_accuracy: 0.8962\n",
      "Epoch 6/30\n",
      "460/460 [==============================] - 5s 12ms/step - loss: 0.1625 - accuracy: 0.9347 - val_loss: 0.3341 - val_accuracy: 0.8884\n",
      "Epoch 7/30\n",
      "460/460 [==============================] - 5s 12ms/step - loss: 0.1528 - accuracy: 0.9392 - val_loss: 0.3949 - val_accuracy: 0.8958\n",
      "Epoch 8/30\n",
      "460/460 [==============================] - 5s 12ms/step - loss: 0.1552 - accuracy: 0.9370 - val_loss: 0.3317 - val_accuracy: 0.8989\n",
      "Epoch 9/30\n",
      "460/460 [==============================] - 5s 12ms/step - loss: 0.1288 - accuracy: 0.9452 - val_loss: 0.4422 - val_accuracy: 0.8873\n",
      "Epoch 10/30\n",
      "460/460 [==============================] - 5s 12ms/step - loss: 0.1316 - accuracy: 0.9468 - val_loss: 0.3488 - val_accuracy: 0.8996\n",
      "Epoch 11/30\n",
      "460/460 [==============================] - 5s 12ms/step - loss: 0.1172 - accuracy: 0.9517 - val_loss: 0.9642 - val_accuracy: 0.8090\n",
      "Epoch 12/30\n",
      "460/460 [==============================] - 5s 12ms/step - loss: 0.1888 - accuracy: 0.9339 - val_loss: 0.4575 - val_accuracy: 0.8901\n",
      "Epoch 13/30\n",
      "460/460 [==============================] - 5s 12ms/step - loss: 0.1447 - accuracy: 0.9416 - val_loss: 0.4154 - val_accuracy: 0.9026\n",
      "Epoch 14/30\n",
      "460/460 [==============================] - 5s 12ms/step - loss: 0.1207 - accuracy: 0.9512 - val_loss: 0.3799 - val_accuracy: 0.9074\n",
      "Epoch 15/30\n",
      "460/460 [==============================] - 6s 12ms/step - loss: 0.1148 - accuracy: 0.9536 - val_loss: 0.4302 - val_accuracy: 0.9104\n",
      "Epoch 16/30\n",
      "460/460 [==============================] - 5s 12ms/step - loss: 0.1089 - accuracy: 0.9548 - val_loss: 0.4717 - val_accuracy: 0.9016\n",
      "Epoch 17/30\n",
      "460/460 [==============================] - 5s 12ms/step - loss: 0.1449 - accuracy: 0.9442 - val_loss: 0.4300 - val_accuracy: 0.9060\n",
      "Epoch 18/30\n",
      "460/460 [==============================] - 5s 12ms/step - loss: 0.1342 - accuracy: 0.9505 - val_loss: 0.5073 - val_accuracy: 0.8870\n",
      "Epoch 19/30\n",
      "460/460 [==============================] - 6s 12ms/step - loss: 0.1125 - accuracy: 0.9551 - val_loss: 0.5659 - val_accuracy: 0.8941\n",
      "Epoch 20/30\n",
      "460/460 [==============================] - 5s 12ms/step - loss: 0.1165 - accuracy: 0.9561 - val_loss: 0.4333 - val_accuracy: 0.9009\n",
      "Epoch 21/30\n",
      "460/460 [==============================] - 5s 12ms/step - loss: 0.1135 - accuracy: 0.9542 - val_loss: 0.5378 - val_accuracy: 0.8731\n",
      "Epoch 22/30\n",
      "460/460 [==============================] - 5s 12ms/step - loss: 0.1107 - accuracy: 0.9532 - val_loss: 0.4069 - val_accuracy: 0.8901\n",
      "Epoch 23/30\n",
      "460/460 [==============================] - 5s 12ms/step - loss: 0.1150 - accuracy: 0.9535 - val_loss: 0.3794 - val_accuracy: 0.9046\n",
      "Epoch 24/30\n",
      "460/460 [==============================] - 6s 12ms/step - loss: 0.1078 - accuracy: 0.9573 - val_loss: 0.4169 - val_accuracy: 0.9036\n",
      "Epoch 25/30\n",
      "460/460 [==============================] - 6s 12ms/step - loss: 0.1031 - accuracy: 0.9585 - val_loss: 0.3644 - val_accuracy: 0.9189\n",
      "Epoch 26/30\n",
      "460/460 [==============================] - 5s 12ms/step - loss: 0.1416 - accuracy: 0.9483 - val_loss: 0.8396 - val_accuracy: 0.8534\n",
      "Epoch 27/30\n",
      "460/460 [==============================] - 5s 12ms/step - loss: 0.1237 - accuracy: 0.9521 - val_loss: 0.4146 - val_accuracy: 0.8985\n",
      "Epoch 28/30\n",
      "460/460 [==============================] - 6s 12ms/step - loss: 0.1036 - accuracy: 0.9584 - val_loss: 0.5252 - val_accuracy: 0.9108\n",
      "Epoch 29/30\n",
      "460/460 [==============================] - 6s 12ms/step - loss: 0.1052 - accuracy: 0.9577 - val_loss: 0.5059 - val_accuracy: 0.9060\n",
      "Epoch 30/30\n",
      "460/460 [==============================] - 6s 12ms/step - loss: 0.1029 - accuracy: 0.9570 - val_loss: 0.5144 - val_accuracy: 0.9013\n"
     ]
    },
    {
     "data": {
      "text/plain": [
       "<tensorflow.python.keras.callbacks.History at 0x7f552f47aad0>"
      ]
     },
     "execution_count": 18,
     "metadata": {
      "tags": []
     },
     "output_type": "execute_result"
    }
   ],
   "source": [
    "print(model.summary())\n",
    "\n",
    "# Compiling the model\n",
    "model.compile(loss=keras.losses.CategoricalCrossentropy(from_logits=True),\n",
    "              optimizer='adam',\n",
    "              metrics=['accuracy'])\n",
    "\n",
    "# Training the model\n",
    "model.fit(X_train,\n",
    "          Y_train,\n",
    "          batch_size=batch_size,\n",
    "          validation_data=(X_test, Y_test),\n",
    "          epochs=epochs)"
   ]
  },
  {
   "cell_type": "code",
   "execution_count": null,
   "metadata": {
    "colab": {
     "base_uri": "https://localhost:8080/"
    },
    "id": "ajyvuKk12XuZ",
    "outputId": "50fdc06e-0808-460b-ff61-edc4f404c299"
   },
   "outputs": [
    {
     "name": "stdout",
     "output_type": "stream",
     "text": [
      "Model: \"sequential_1\"\n",
      "_________________________________________________________________\n",
      "Layer (type)                 Output Shape              Param #   \n",
      "=================================================================\n",
      "lstm_1 (LSTM)                (None, 128, 16)           1664      \n",
      "_________________________________________________________________\n",
      "dropout_1 (Dropout)          (None, 128, 16)           0         \n",
      "_________________________________________________________________\n",
      "lstm_2 (LSTM)                (None, 128, 32)           6272      \n",
      "_________________________________________________________________\n",
      "dropout_2 (Dropout)          (None, 128, 32)           0         \n",
      "_________________________________________________________________\n",
      "lstm_3 (LSTM)                (None, 48)                15552     \n",
      "_________________________________________________________________\n",
      "dropout_3 (Dropout)          (None, 48)                0         \n",
      "_________________________________________________________________\n",
      "dense_1 (Dense)              (None, 6)                 294       \n",
      "=================================================================\n",
      "Total params: 23,782\n",
      "Trainable params: 23,782\n",
      "Non-trainable params: 0\n",
      "_________________________________________________________________\n",
      "None\n",
      "Epoch 1/30\n"
     ]
    },
    {
     "name": "stderr",
     "output_type": "stream",
     "text": [
      "/usr/local/lib/python3.7/dist-packages/tensorflow/python/keras/backend.py:4870: UserWarning: \"`categorical_crossentropy` received `from_logits=True`, but the `output` argument was produced by a sigmoid or softmax activation and thus does not represent logits. Was this intended?\"\n",
      "  '\"`categorical_crossentropy` received `from_logits=True`, but '\n"
     ]
    },
    {
     "name": "stdout",
     "output_type": "stream",
     "text": [
      "460/460 [==============================] - 50s 87ms/step - loss: 0.9438 - accuracy: 0.6085 - val_loss: 0.7481 - val_accuracy: 0.7248\n",
      "Epoch 2/30\n",
      "460/460 [==============================] - 39s 84ms/step - loss: 0.4667 - accuracy: 0.8477 - val_loss: 0.5460 - val_accuracy: 0.8283\n",
      "Epoch 3/30\n",
      "460/460 [==============================] - 39s 85ms/step - loss: 0.3491 - accuracy: 0.8900 - val_loss: 0.5823 - val_accuracy: 0.8263\n",
      "Epoch 4/30\n",
      "460/460 [==============================] - 39s 85ms/step - loss: 0.2548 - accuracy: 0.9154 - val_loss: 0.6281 - val_accuracy: 0.8548\n",
      "Epoch 5/30\n",
      "460/460 [==============================] - 39s 84ms/step - loss: 0.2284 - accuracy: 0.9237 - val_loss: 0.4795 - val_accuracy: 0.8873\n",
      "Epoch 6/30\n",
      "460/460 [==============================] - 39s 84ms/step - loss: 0.1943 - accuracy: 0.9358 - val_loss: 0.4350 - val_accuracy: 0.8928\n",
      "Epoch 7/30\n",
      "460/460 [==============================] - 39s 84ms/step - loss: 0.1914 - accuracy: 0.9387 - val_loss: 0.3490 - val_accuracy: 0.9036\n",
      "Epoch 8/30\n",
      "460/460 [==============================] - 39s 85ms/step - loss: 0.1755 - accuracy: 0.9429 - val_loss: 0.4916 - val_accuracy: 0.8901\n",
      "Epoch 9/30\n",
      "460/460 [==============================] - 39s 85ms/step - loss: 0.1726 - accuracy: 0.9404 - val_loss: 0.5412 - val_accuracy: 0.8873\n",
      "Epoch 10/30\n",
      "460/460 [==============================] - 39s 85ms/step - loss: 0.1583 - accuracy: 0.9440 - val_loss: 0.3877 - val_accuracy: 0.9043\n",
      "Epoch 11/30\n",
      "460/460 [==============================] - 39s 85ms/step - loss: 0.1441 - accuracy: 0.9434 - val_loss: 0.5003 - val_accuracy: 0.8975\n",
      "Epoch 12/30\n",
      "460/460 [==============================] - 39s 85ms/step - loss: 0.1384 - accuracy: 0.9460 - val_loss: 0.3921 - val_accuracy: 0.9148\n",
      "Epoch 13/30\n",
      "460/460 [==============================] - 39s 84ms/step - loss: 0.1381 - accuracy: 0.9472 - val_loss: 0.8445 - val_accuracy: 0.8748\n",
      "Epoch 14/30\n",
      "460/460 [==============================] - 39s 84ms/step - loss: 0.1416 - accuracy: 0.9465 - val_loss: 0.3969 - val_accuracy: 0.9182\n",
      "Epoch 15/30\n",
      "460/460 [==============================] - 39s 85ms/step - loss: 0.1337 - accuracy: 0.9521 - val_loss: 0.4395 - val_accuracy: 0.9087\n",
      "Epoch 16/30\n",
      "460/460 [==============================] - 39s 84ms/step - loss: 0.1393 - accuracy: 0.9506 - val_loss: 0.5075 - val_accuracy: 0.9016\n",
      "Epoch 17/30\n",
      "460/460 [==============================] - 39s 84ms/step - loss: 0.1397 - accuracy: 0.9461 - val_loss: 0.4621 - val_accuracy: 0.9125\n",
      "Epoch 18/30\n",
      "460/460 [==============================] - 39s 84ms/step - loss: 0.1412 - accuracy: 0.9491 - val_loss: 0.3140 - val_accuracy: 0.9138\n",
      "Epoch 19/30\n",
      "460/460 [==============================] - 39s 84ms/step - loss: 0.1458 - accuracy: 0.9459 - val_loss: 0.5864 - val_accuracy: 0.9023\n",
      "Epoch 20/30\n",
      "460/460 [==============================] - 39s 85ms/step - loss: 0.1546 - accuracy: 0.9461 - val_loss: 0.4014 - val_accuracy: 0.9125\n",
      "Epoch 21/30\n",
      "460/460 [==============================] - 39s 84ms/step - loss: 0.1355 - accuracy: 0.9493 - val_loss: 0.4807 - val_accuracy: 0.9097\n",
      "Epoch 22/30\n",
      "460/460 [==============================] - 39s 85ms/step - loss: 0.1399 - accuracy: 0.9480 - val_loss: 0.5647 - val_accuracy: 0.9033\n",
      "Epoch 23/30\n",
      "460/460 [==============================] - 39s 85ms/step - loss: 0.1324 - accuracy: 0.9509 - val_loss: 0.6144 - val_accuracy: 0.8985\n",
      "Epoch 24/30\n",
      "460/460 [==============================] - 39s 85ms/step - loss: 0.1402 - accuracy: 0.9505 - val_loss: 0.6319 - val_accuracy: 0.9101\n",
      "Epoch 25/30\n",
      "460/460 [==============================] - 39s 84ms/step - loss: 0.1448 - accuracy: 0.9455 - val_loss: 0.5566 - val_accuracy: 0.9125\n",
      "Epoch 26/30\n",
      "460/460 [==============================] - 39s 84ms/step - loss: 0.1262 - accuracy: 0.9510 - val_loss: 0.5068 - val_accuracy: 0.9145\n",
      "Epoch 27/30\n",
      "460/460 [==============================] - 39s 84ms/step - loss: 0.1371 - accuracy: 0.9498 - val_loss: 0.5268 - val_accuracy: 0.9036\n",
      "Epoch 28/30\n",
      "460/460 [==============================] - 39s 85ms/step - loss: 0.1379 - accuracy: 0.9495 - val_loss: 0.4094 - val_accuracy: 0.9141\n",
      "Epoch 29/30\n",
      "460/460 [==============================] - 39s 85ms/step - loss: 0.1323 - accuracy: 0.9480 - val_loss: 0.4027 - val_accuracy: 0.9145\n",
      "Epoch 30/30\n",
      "460/460 [==============================] - 39s 85ms/step - loss: 0.1452 - accuracy: 0.9487 - val_loss: 0.5753 - val_accuracy: 0.9002\n"
     ]
    },
    {
     "data": {
      "text/plain": [
       "<tensorflow.python.keras.callbacks.History at 0x7fcfc035b490>"
      ]
     },
     "execution_count": 16,
     "metadata": {
      "tags": []
     },
     "output_type": "execute_result"
    }
   ],
   "source": [
    "tf.random.set_seed(120)\n",
    "n_hidden1 = 16\n",
    "n_hidden2 = 32\n",
    "n_hidden3 = 48\n",
    "epochs = 30\n",
    "# Initiliazing the sequential model\n",
    "model = keras.Sequential()\n",
    "# Configuring the parameters\n",
    "model.add(layers.LSTM(n_hidden1, input_shape=(timesteps, input_dim), return_sequences=True))\n",
    "# Adding a dropout layer\n",
    "model.add(layers.Dropout(0.3))\n",
    "# Configuring the parameters\n",
    "model.add(layers.LSTM(n_hidden2, return_sequences=True))\n",
    "# Adding a dropout layer\n",
    "model.add(layers.Dropout(0.5))\n",
    "# Configuring the parameters\n",
    "model.add(layers.LSTM(n_hidden3))\n",
    "# Adding a dropout layer\n",
    "model.add(layers.Dropout(0.6))\n",
    "# Adding a dense output layer with sigmoid activation\n",
    "model.add(layers.Dense(n_classes, activation='sigmoid'))\n",
    "print (model.summary())\n",
    "\n",
    "\n",
    "\n",
    "# Compiling the model\n",
    "model.compile(loss=keras.losses.CategoricalCrossentropy(from_logits=True),\n",
    "              optimizer='rmsprop',\n",
    "              metrics=['accuracy'])\n",
    "\n",
    "# Training the model\n",
    "model.fit(X_train,\n",
    "          Y_train,\n",
    "          batch_size=batch_size,\n",
    "          validation_data=(X_test, Y_test),\n",
    "          epochs=epochs)"
   ]
  },
  {
   "cell_type": "code",
   "execution_count": null,
   "metadata": {
    "colab": {
     "base_uri": "https://localhost:8080/"
    },
    "id": "aTn-qo0Xn_fq",
    "outputId": "fb4133fc-2332-477b-d063-8d58ff8930e4"
   },
   "outputs": [
    {
     "name": "stdout",
     "output_type": "stream",
     "text": [
      "Model: \"sequential_1\"\n",
      "_________________________________________________________________\n",
      "Layer (type)                 Output Shape              Param #   \n",
      "=================================================================\n",
      "lstm_2 (LSTM)                (None, 128, 48)           11136     \n",
      "_________________________________________________________________\n",
      "dropout_2 (Dropout)          (None, 128, 48)           0         \n",
      "_________________________________________________________________\n",
      "lstm_3 (LSTM)                (None, 64)                28928     \n",
      "_________________________________________________________________\n",
      "dropout_3 (Dropout)          (None, 64)                0         \n",
      "_________________________________________________________________\n",
      "dense_1 (Dense)              (None, 6)                 390       \n",
      "=================================================================\n",
      "Total params: 40,454\n",
      "Trainable params: 40,454\n",
      "Non-trainable params: 0\n",
      "_________________________________________________________________\n",
      "None\n",
      "Epoch 1/30\n",
      "460/460 [==============================] - 9s 14ms/step - loss: 1.2252 - accuracy: 0.4765 - val_loss: 0.8090 - val_accuracy: 0.6630\n",
      "Epoch 2/30\n",
      "460/460 [==============================] - 6s 12ms/step - loss: 0.6664 - accuracy: 0.7285 - val_loss: 0.6472 - val_accuracy: 0.7520\n",
      "Epoch 3/30\n",
      "460/460 [==============================] - 6s 12ms/step - loss: 0.4536 - accuracy: 0.8277 - val_loss: 0.3822 - val_accuracy: 0.8714\n",
      "Epoch 4/30\n",
      "460/460 [==============================] - 6s 13ms/step - loss: 0.2510 - accuracy: 0.9177 - val_loss: 0.4202 - val_accuracy: 0.8612\n",
      "Epoch 5/30\n",
      "460/460 [==============================] - 6s 12ms/step - loss: 0.3500 - accuracy: 0.8853 - val_loss: 0.4111 - val_accuracy: 0.8738\n",
      "Epoch 6/30\n",
      "460/460 [==============================] - 6s 12ms/step - loss: 0.1923 - accuracy: 0.9380 - val_loss: 0.5279 - val_accuracy: 0.7859\n",
      "Epoch 7/30\n",
      "460/460 [==============================] - 6s 12ms/step - loss: 0.3694 - accuracy: 0.8411 - val_loss: 0.3488 - val_accuracy: 0.8816\n",
      "Epoch 8/30\n",
      "460/460 [==============================] - 6s 12ms/step - loss: 0.2296 - accuracy: 0.9234 - val_loss: 0.3397 - val_accuracy: 0.8979\n",
      "Epoch 9/30\n",
      "460/460 [==============================] - 6s 12ms/step - loss: 0.2147 - accuracy: 0.9385 - val_loss: 0.3445 - val_accuracy: 0.8996\n",
      "Epoch 10/30\n",
      "460/460 [==============================] - 6s 12ms/step - loss: 0.2859 - accuracy: 0.9190 - val_loss: 0.3059 - val_accuracy: 0.9009\n",
      "Epoch 11/30\n",
      "460/460 [==============================] - 6s 12ms/step - loss: 0.1527 - accuracy: 0.9439 - val_loss: 0.2829 - val_accuracy: 0.9135\n",
      "Epoch 12/30\n",
      "460/460 [==============================] - 6s 13ms/step - loss: 0.2338 - accuracy: 0.9237 - val_loss: 0.2803 - val_accuracy: 0.8982\n",
      "Epoch 13/30\n",
      "460/460 [==============================] - 6s 12ms/step - loss: 0.1681 - accuracy: 0.9419 - val_loss: 0.3329 - val_accuracy: 0.9019\n",
      "Epoch 14/30\n",
      "460/460 [==============================] - 6s 13ms/step - loss: 0.1427 - accuracy: 0.9518 - val_loss: 0.3035 - val_accuracy: 0.9108\n",
      "Epoch 15/30\n",
      "460/460 [==============================] - 6s 12ms/step - loss: 0.1482 - accuracy: 0.9489 - val_loss: 0.3155 - val_accuracy: 0.8860\n",
      "Epoch 16/30\n",
      "460/460 [==============================] - 6s 12ms/step - loss: 0.1391 - accuracy: 0.9428 - val_loss: 0.2825 - val_accuracy: 0.9094\n",
      "Epoch 17/30\n",
      "460/460 [==============================] - 6s 13ms/step - loss: 0.1628 - accuracy: 0.9410 - val_loss: 0.2447 - val_accuracy: 0.9155\n",
      "Epoch 18/30\n",
      "460/460 [==============================] - 6s 13ms/step - loss: 0.1367 - accuracy: 0.9473 - val_loss: 0.2633 - val_accuracy: 0.9108\n",
      "Epoch 19/30\n",
      "460/460 [==============================] - 6s 13ms/step - loss: 0.1315 - accuracy: 0.9501 - val_loss: 0.2252 - val_accuracy: 0.9277\n",
      "Epoch 20/30\n",
      "460/460 [==============================] - 6s 12ms/step - loss: 0.1229 - accuracy: 0.9555 - val_loss: 0.2149 - val_accuracy: 0.9260\n",
      "Epoch 21/30\n",
      "460/460 [==============================] - 6s 12ms/step - loss: 0.1398 - accuracy: 0.9485 - val_loss: 0.3939 - val_accuracy: 0.8992\n",
      "Epoch 22/30\n",
      "460/460 [==============================] - 6s 13ms/step - loss: 0.1840 - accuracy: 0.9309 - val_loss: 0.2901 - val_accuracy: 0.9101\n",
      "Epoch 23/30\n",
      "460/460 [==============================] - 6s 12ms/step - loss: 0.1365 - accuracy: 0.9424 - val_loss: 0.3701 - val_accuracy: 0.9006\n",
      "Epoch 24/30\n",
      "460/460 [==============================] - 6s 13ms/step - loss: 0.1432 - accuracy: 0.9440 - val_loss: 0.2624 - val_accuracy: 0.9226\n",
      "Epoch 25/30\n",
      "460/460 [==============================] - 6s 13ms/step - loss: 0.0983 - accuracy: 0.9636 - val_loss: 0.2829 - val_accuracy: 0.9169\n",
      "Epoch 26/30\n",
      "460/460 [==============================] - 6s 12ms/step - loss: 0.1193 - accuracy: 0.9514 - val_loss: 0.2984 - val_accuracy: 0.9240\n",
      "Epoch 27/30\n",
      "460/460 [==============================] - 6s 13ms/step - loss: 0.1146 - accuracy: 0.9507 - val_loss: 0.2845 - val_accuracy: 0.9223\n",
      "Epoch 28/30\n",
      "460/460 [==============================] - 6s 12ms/step - loss: 0.1110 - accuracy: 0.9576 - val_loss: 0.3014 - val_accuracy: 0.9264\n",
      "Epoch 29/30\n",
      "460/460 [==============================] - 6s 13ms/step - loss: 0.1524 - accuracy: 0.9459 - val_loss: 0.3141 - val_accuracy: 0.9057\n",
      "Epoch 30/30\n",
      "460/460 [==============================] - 6s 12ms/step - loss: 0.1568 - accuracy: 0.9490 - val_loss: 0.2699 - val_accuracy: 0.9274\n"
     ]
    },
    {
     "data": {
      "text/plain": [
       "<tensorflow.python.keras.callbacks.History at 0x7f00460ecb10>"
      ]
     },
     "execution_count": 16,
     "metadata": {
      "tags": []
     },
     "output_type": "execute_result"
    }
   ],
   "source": [
    "tf.random.set_seed(112)\n",
    "n_hidden1 = 48\n",
    "n_hidden2 = 64\n",
    "# Initiliazing the sequential model\n",
    "model = keras.Sequential()\n",
    "# Configuring the parameters\n",
    "model.add(layers.LSTM(n_hidden1, input_shape=(timesteps, input_dim), return_sequences=True))\n",
    "# Adding a dropout layer\n",
    "model.add(layers.Dropout(0.6))\n",
    "# Configuring the parameters\n",
    "model.add(layers.LSTM(n_hidden2))\n",
    "# Adding a dropout layer\n",
    "model.add(layers.Dropout(0.6))\n",
    "# Adding a dense output layer with sigmoid activation\n",
    "model.add(layers.Dense(n_classes, activation='softmax'))\n",
    "print (model.summary())\n",
    "\n",
    "\n",
    "\n",
    "# Compiling the model\n",
    "model.compile(loss=keras.losses.CategoricalCrossentropy(from_logits=True),\n",
    "              optimizer='adam',\n",
    "              metrics=['accuracy'])\n",
    "\n",
    "# Training the model\n",
    "model.fit(X_train,\n",
    "          Y_train,\n",
    "          batch_size=batch_size,\n",
    "          validation_data=(X_test, Y_test),\n",
    "          epochs=epochs)"
   ]
  },
  {
   "cell_type": "code",
   "execution_count": null,
   "metadata": {
    "colab": {
     "base_uri": "https://localhost:8080/",
     "height": 1000
    },
    "id": "anetglYJqqlH",
    "outputId": "95d797d5-b4b6-4c24-d424-44c0749e8804"
   },
   "outputs": [
    {
     "name": "stdout",
     "output_type": "stream",
     "text": [
      "Model: \"sequential_20\"\n",
      "_________________________________________________________________\n",
      "Layer (type)                 Output Shape              Param #   \n",
      "=================================================================\n",
      "lstm_8 (LSTM)                (None, 128, 48)           11136     \n",
      "_________________________________________________________________\n",
      "dropout_40 (Dropout)         (None, 128, 48)           0         \n",
      "_________________________________________________________________\n",
      "lstm_9 (LSTM)                (None, 64)                28928     \n",
      "_________________________________________________________________\n",
      "dropout_41 (Dropout)         (None, 64)                0         \n",
      "_________________________________________________________________\n",
      "dense_36 (Dense)             (None, 3)                 195       \n",
      "=================================================================\n",
      "Total params: 40,259\n",
      "Trainable params: 40,259\n",
      "Non-trainable params: 0\n",
      "_________________________________________________________________\n",
      "None\n",
      "Epoch 1/30\n"
     ]
    },
    {
     "ename": "ValueError",
     "evalue": "ignored",
     "output_type": "error",
     "traceback": [
      "\u001b[0;31m---------------------------------------------------------------------------\u001b[0m",
      "\u001b[0;31mValueError\u001b[0m                                Traceback (most recent call last)",
      "\u001b[0;32m<ipython-input-86-08e2a1229946>\u001b[0m in \u001b[0;36m<module>\u001b[0;34m()\u001b[0m\n\u001b[1;32m     33\u001b[0m           \u001b[0mbatch_size\u001b[0m\u001b[0;34m=\u001b[0m\u001b[0mbatch_size\u001b[0m\u001b[0;34m,\u001b[0m\u001b[0;34m\u001b[0m\u001b[0;34m\u001b[0m\u001b[0m\n\u001b[1;32m     34\u001b[0m           \u001b[0mvalidation_data\u001b[0m\u001b[0;34m=\u001b[0m\u001b[0;34m(\u001b[0m\u001b[0mX_test\u001b[0m\u001b[0;34m,\u001b[0m \u001b[0mY_test\u001b[0m\u001b[0;34m)\u001b[0m\u001b[0;34m,\u001b[0m\u001b[0;34m\u001b[0m\u001b[0;34m\u001b[0m\u001b[0m\n\u001b[0;32m---> 35\u001b[0;31m           epochs=epochs)\n\u001b[0m",
      "\u001b[0;32m/usr/local/lib/python3.7/dist-packages/tensorflow/python/keras/engine/training.py\u001b[0m in \u001b[0;36mfit\u001b[0;34m(self, x, y, batch_size, epochs, verbose, callbacks, validation_split, validation_data, shuffle, class_weight, sample_weight, initial_epoch, steps_per_epoch, validation_steps, validation_batch_size, validation_freq, max_queue_size, workers, use_multiprocessing)\u001b[0m\n\u001b[1;32m   1181\u001b[0m                 _r=1):\n\u001b[1;32m   1182\u001b[0m               \u001b[0mcallbacks\u001b[0m\u001b[0;34m.\u001b[0m\u001b[0mon_train_batch_begin\u001b[0m\u001b[0;34m(\u001b[0m\u001b[0mstep\u001b[0m\u001b[0;34m)\u001b[0m\u001b[0;34m\u001b[0m\u001b[0;34m\u001b[0m\u001b[0m\n\u001b[0;32m-> 1183\u001b[0;31m               \u001b[0mtmp_logs\u001b[0m \u001b[0;34m=\u001b[0m \u001b[0mself\u001b[0m\u001b[0;34m.\u001b[0m\u001b[0mtrain_function\u001b[0m\u001b[0;34m(\u001b[0m\u001b[0miterator\u001b[0m\u001b[0;34m)\u001b[0m\u001b[0;34m\u001b[0m\u001b[0;34m\u001b[0m\u001b[0m\n\u001b[0m\u001b[1;32m   1184\u001b[0m               \u001b[0;32mif\u001b[0m \u001b[0mdata_handler\u001b[0m\u001b[0;34m.\u001b[0m\u001b[0mshould_sync\u001b[0m\u001b[0;34m:\u001b[0m\u001b[0;34m\u001b[0m\u001b[0;34m\u001b[0m\u001b[0m\n\u001b[1;32m   1185\u001b[0m                 \u001b[0mcontext\u001b[0m\u001b[0;34m.\u001b[0m\u001b[0masync_wait\u001b[0m\u001b[0;34m(\u001b[0m\u001b[0;34m)\u001b[0m\u001b[0;34m\u001b[0m\u001b[0;34m\u001b[0m\u001b[0m\n",
      "\u001b[0;32m/usr/local/lib/python3.7/dist-packages/tensorflow/python/eager/def_function.py\u001b[0m in \u001b[0;36m__call__\u001b[0;34m(self, *args, **kwds)\u001b[0m\n\u001b[1;32m    887\u001b[0m \u001b[0;34m\u001b[0m\u001b[0m\n\u001b[1;32m    888\u001b[0m       \u001b[0;32mwith\u001b[0m \u001b[0mOptionalXlaContext\u001b[0m\u001b[0;34m(\u001b[0m\u001b[0mself\u001b[0m\u001b[0;34m.\u001b[0m\u001b[0m_jit_compile\u001b[0m\u001b[0;34m)\u001b[0m\u001b[0;34m:\u001b[0m\u001b[0;34m\u001b[0m\u001b[0;34m\u001b[0m\u001b[0m\n\u001b[0;32m--> 889\u001b[0;31m         \u001b[0mresult\u001b[0m \u001b[0;34m=\u001b[0m \u001b[0mself\u001b[0m\u001b[0;34m.\u001b[0m\u001b[0m_call\u001b[0m\u001b[0;34m(\u001b[0m\u001b[0;34m*\u001b[0m\u001b[0margs\u001b[0m\u001b[0;34m,\u001b[0m \u001b[0;34m**\u001b[0m\u001b[0mkwds\u001b[0m\u001b[0;34m)\u001b[0m\u001b[0;34m\u001b[0m\u001b[0;34m\u001b[0m\u001b[0m\n\u001b[0m\u001b[1;32m    890\u001b[0m \u001b[0;34m\u001b[0m\u001b[0m\n\u001b[1;32m    891\u001b[0m       \u001b[0mnew_tracing_count\u001b[0m \u001b[0;34m=\u001b[0m \u001b[0mself\u001b[0m\u001b[0;34m.\u001b[0m\u001b[0mexperimental_get_tracing_count\u001b[0m\u001b[0;34m(\u001b[0m\u001b[0;34m)\u001b[0m\u001b[0;34m\u001b[0m\u001b[0;34m\u001b[0m\u001b[0m\n",
      "\u001b[0;32m/usr/local/lib/python3.7/dist-packages/tensorflow/python/eager/def_function.py\u001b[0m in \u001b[0;36m_call\u001b[0;34m(self, *args, **kwds)\u001b[0m\n\u001b[1;32m    931\u001b[0m       \u001b[0;31m# This is the first call of __call__, so we have to initialize.\u001b[0m\u001b[0;34m\u001b[0m\u001b[0;34m\u001b[0m\u001b[0;34m\u001b[0m\u001b[0m\n\u001b[1;32m    932\u001b[0m       \u001b[0minitializers\u001b[0m \u001b[0;34m=\u001b[0m \u001b[0;34m[\u001b[0m\u001b[0;34m]\u001b[0m\u001b[0;34m\u001b[0m\u001b[0;34m\u001b[0m\u001b[0m\n\u001b[0;32m--> 933\u001b[0;31m       \u001b[0mself\u001b[0m\u001b[0;34m.\u001b[0m\u001b[0m_initialize\u001b[0m\u001b[0;34m(\u001b[0m\u001b[0margs\u001b[0m\u001b[0;34m,\u001b[0m \u001b[0mkwds\u001b[0m\u001b[0;34m,\u001b[0m \u001b[0madd_initializers_to\u001b[0m\u001b[0;34m=\u001b[0m\u001b[0minitializers\u001b[0m\u001b[0;34m)\u001b[0m\u001b[0;34m\u001b[0m\u001b[0;34m\u001b[0m\u001b[0m\n\u001b[0m\u001b[1;32m    934\u001b[0m     \u001b[0;32mfinally\u001b[0m\u001b[0;34m:\u001b[0m\u001b[0;34m\u001b[0m\u001b[0;34m\u001b[0m\u001b[0m\n\u001b[1;32m    935\u001b[0m       \u001b[0;31m# At this point we know that the initialization is complete (or less\u001b[0m\u001b[0;34m\u001b[0m\u001b[0;34m\u001b[0m\u001b[0;34m\u001b[0m\u001b[0m\n",
      "\u001b[0;32m/usr/local/lib/python3.7/dist-packages/tensorflow/python/eager/def_function.py\u001b[0m in \u001b[0;36m_initialize\u001b[0;34m(self, args, kwds, add_initializers_to)\u001b[0m\n\u001b[1;32m    762\u001b[0m     self._concrete_stateful_fn = (\n\u001b[1;32m    763\u001b[0m         self._stateful_fn._get_concrete_function_internal_garbage_collected(  # pylint: disable=protected-access\n\u001b[0;32m--> 764\u001b[0;31m             *args, **kwds))\n\u001b[0m\u001b[1;32m    765\u001b[0m \u001b[0;34m\u001b[0m\u001b[0m\n\u001b[1;32m    766\u001b[0m     \u001b[0;32mdef\u001b[0m \u001b[0minvalid_creator_scope\u001b[0m\u001b[0;34m(\u001b[0m\u001b[0;34m*\u001b[0m\u001b[0munused_args\u001b[0m\u001b[0;34m,\u001b[0m \u001b[0;34m**\u001b[0m\u001b[0munused_kwds\u001b[0m\u001b[0;34m)\u001b[0m\u001b[0;34m:\u001b[0m\u001b[0;34m\u001b[0m\u001b[0;34m\u001b[0m\u001b[0m\n",
      "\u001b[0;32m/usr/local/lib/python3.7/dist-packages/tensorflow/python/eager/function.py\u001b[0m in \u001b[0;36m_get_concrete_function_internal_garbage_collected\u001b[0;34m(self, *args, **kwargs)\u001b[0m\n\u001b[1;32m   3048\u001b[0m       \u001b[0margs\u001b[0m\u001b[0;34m,\u001b[0m \u001b[0mkwargs\u001b[0m \u001b[0;34m=\u001b[0m \u001b[0;32mNone\u001b[0m\u001b[0;34m,\u001b[0m \u001b[0;32mNone\u001b[0m\u001b[0;34m\u001b[0m\u001b[0;34m\u001b[0m\u001b[0m\n\u001b[1;32m   3049\u001b[0m     \u001b[0;32mwith\u001b[0m \u001b[0mself\u001b[0m\u001b[0;34m.\u001b[0m\u001b[0m_lock\u001b[0m\u001b[0;34m:\u001b[0m\u001b[0;34m\u001b[0m\u001b[0;34m\u001b[0m\u001b[0m\n\u001b[0;32m-> 3050\u001b[0;31m       \u001b[0mgraph_function\u001b[0m\u001b[0;34m,\u001b[0m \u001b[0m_\u001b[0m \u001b[0;34m=\u001b[0m \u001b[0mself\u001b[0m\u001b[0;34m.\u001b[0m\u001b[0m_maybe_define_function\u001b[0m\u001b[0;34m(\u001b[0m\u001b[0margs\u001b[0m\u001b[0;34m,\u001b[0m \u001b[0mkwargs\u001b[0m\u001b[0;34m)\u001b[0m\u001b[0;34m\u001b[0m\u001b[0;34m\u001b[0m\u001b[0m\n\u001b[0m\u001b[1;32m   3051\u001b[0m     \u001b[0;32mreturn\u001b[0m \u001b[0mgraph_function\u001b[0m\u001b[0;34m\u001b[0m\u001b[0;34m\u001b[0m\u001b[0m\n\u001b[1;32m   3052\u001b[0m \u001b[0;34m\u001b[0m\u001b[0m\n",
      "\u001b[0;32m/usr/local/lib/python3.7/dist-packages/tensorflow/python/eager/function.py\u001b[0m in \u001b[0;36m_maybe_define_function\u001b[0;34m(self, args, kwargs)\u001b[0m\n\u001b[1;32m   3442\u001b[0m \u001b[0;34m\u001b[0m\u001b[0m\n\u001b[1;32m   3443\u001b[0m           \u001b[0mself\u001b[0m\u001b[0;34m.\u001b[0m\u001b[0m_function_cache\u001b[0m\u001b[0;34m.\u001b[0m\u001b[0mmissed\u001b[0m\u001b[0;34m.\u001b[0m\u001b[0madd\u001b[0m\u001b[0;34m(\u001b[0m\u001b[0mcall_context_key\u001b[0m\u001b[0;34m)\u001b[0m\u001b[0;34m\u001b[0m\u001b[0;34m\u001b[0m\u001b[0m\n\u001b[0;32m-> 3444\u001b[0;31m           \u001b[0mgraph_function\u001b[0m \u001b[0;34m=\u001b[0m \u001b[0mself\u001b[0m\u001b[0;34m.\u001b[0m\u001b[0m_create_graph_function\u001b[0m\u001b[0;34m(\u001b[0m\u001b[0margs\u001b[0m\u001b[0;34m,\u001b[0m \u001b[0mkwargs\u001b[0m\u001b[0;34m)\u001b[0m\u001b[0;34m\u001b[0m\u001b[0;34m\u001b[0m\u001b[0m\n\u001b[0m\u001b[1;32m   3445\u001b[0m           \u001b[0mself\u001b[0m\u001b[0;34m.\u001b[0m\u001b[0m_function_cache\u001b[0m\u001b[0;34m.\u001b[0m\u001b[0mprimary\u001b[0m\u001b[0;34m[\u001b[0m\u001b[0mcache_key\u001b[0m\u001b[0;34m]\u001b[0m \u001b[0;34m=\u001b[0m \u001b[0mgraph_function\u001b[0m\u001b[0;34m\u001b[0m\u001b[0;34m\u001b[0m\u001b[0m\n\u001b[1;32m   3446\u001b[0m \u001b[0;34m\u001b[0m\u001b[0m\n",
      "\u001b[0;32m/usr/local/lib/python3.7/dist-packages/tensorflow/python/eager/function.py\u001b[0m in \u001b[0;36m_create_graph_function\u001b[0;34m(self, args, kwargs, override_flat_arg_shapes)\u001b[0m\n\u001b[1;32m   3287\u001b[0m             \u001b[0marg_names\u001b[0m\u001b[0;34m=\u001b[0m\u001b[0marg_names\u001b[0m\u001b[0;34m,\u001b[0m\u001b[0;34m\u001b[0m\u001b[0;34m\u001b[0m\u001b[0m\n\u001b[1;32m   3288\u001b[0m             \u001b[0moverride_flat_arg_shapes\u001b[0m\u001b[0;34m=\u001b[0m\u001b[0moverride_flat_arg_shapes\u001b[0m\u001b[0;34m,\u001b[0m\u001b[0;34m\u001b[0m\u001b[0;34m\u001b[0m\u001b[0m\n\u001b[0;32m-> 3289\u001b[0;31m             capture_by_value=self._capture_by_value),\n\u001b[0m\u001b[1;32m   3290\u001b[0m         \u001b[0mself\u001b[0m\u001b[0;34m.\u001b[0m\u001b[0m_function_attributes\u001b[0m\u001b[0;34m,\u001b[0m\u001b[0;34m\u001b[0m\u001b[0;34m\u001b[0m\u001b[0m\n\u001b[1;32m   3291\u001b[0m         \u001b[0mfunction_spec\u001b[0m\u001b[0;34m=\u001b[0m\u001b[0mself\u001b[0m\u001b[0;34m.\u001b[0m\u001b[0mfunction_spec\u001b[0m\u001b[0;34m,\u001b[0m\u001b[0;34m\u001b[0m\u001b[0;34m\u001b[0m\u001b[0m\n",
      "\u001b[0;32m/usr/local/lib/python3.7/dist-packages/tensorflow/python/framework/func_graph.py\u001b[0m in \u001b[0;36mfunc_graph_from_py_func\u001b[0;34m(name, python_func, args, kwargs, signature, func_graph, autograph, autograph_options, add_control_dependencies, arg_names, op_return_value, collections, capture_by_value, override_flat_arg_shapes)\u001b[0m\n\u001b[1;32m    997\u001b[0m         \u001b[0m_\u001b[0m\u001b[0;34m,\u001b[0m \u001b[0moriginal_func\u001b[0m \u001b[0;34m=\u001b[0m \u001b[0mtf_decorator\u001b[0m\u001b[0;34m.\u001b[0m\u001b[0munwrap\u001b[0m\u001b[0;34m(\u001b[0m\u001b[0mpython_func\u001b[0m\u001b[0;34m)\u001b[0m\u001b[0;34m\u001b[0m\u001b[0;34m\u001b[0m\u001b[0m\n\u001b[1;32m    998\u001b[0m \u001b[0;34m\u001b[0m\u001b[0m\n\u001b[0;32m--> 999\u001b[0;31m       \u001b[0mfunc_outputs\u001b[0m \u001b[0;34m=\u001b[0m \u001b[0mpython_func\u001b[0m\u001b[0;34m(\u001b[0m\u001b[0;34m*\u001b[0m\u001b[0mfunc_args\u001b[0m\u001b[0;34m,\u001b[0m \u001b[0;34m**\u001b[0m\u001b[0mfunc_kwargs\u001b[0m\u001b[0;34m)\u001b[0m\u001b[0;34m\u001b[0m\u001b[0;34m\u001b[0m\u001b[0m\n\u001b[0m\u001b[1;32m   1000\u001b[0m \u001b[0;34m\u001b[0m\u001b[0m\n\u001b[1;32m   1001\u001b[0m       \u001b[0;31m# invariant: `func_outputs` contains only Tensors, CompositeTensors,\u001b[0m\u001b[0;34m\u001b[0m\u001b[0;34m\u001b[0m\u001b[0;34m\u001b[0m\u001b[0m\n",
      "\u001b[0;32m/usr/local/lib/python3.7/dist-packages/tensorflow/python/eager/def_function.py\u001b[0m in \u001b[0;36mwrapped_fn\u001b[0;34m(*args, **kwds)\u001b[0m\n\u001b[1;32m    670\u001b[0m         \u001b[0;31m# the function a weak reference to itself to avoid a reference cycle.\u001b[0m\u001b[0;34m\u001b[0m\u001b[0;34m\u001b[0m\u001b[0;34m\u001b[0m\u001b[0m\n\u001b[1;32m    671\u001b[0m         \u001b[0;32mwith\u001b[0m \u001b[0mOptionalXlaContext\u001b[0m\u001b[0;34m(\u001b[0m\u001b[0mcompile_with_xla\u001b[0m\u001b[0;34m)\u001b[0m\u001b[0;34m:\u001b[0m\u001b[0;34m\u001b[0m\u001b[0;34m\u001b[0m\u001b[0m\n\u001b[0;32m--> 672\u001b[0;31m           \u001b[0mout\u001b[0m \u001b[0;34m=\u001b[0m \u001b[0mweak_wrapped_fn\u001b[0m\u001b[0;34m(\u001b[0m\u001b[0;34m)\u001b[0m\u001b[0;34m.\u001b[0m\u001b[0m__wrapped__\u001b[0m\u001b[0;34m(\u001b[0m\u001b[0;34m*\u001b[0m\u001b[0margs\u001b[0m\u001b[0;34m,\u001b[0m \u001b[0;34m**\u001b[0m\u001b[0mkwds\u001b[0m\u001b[0;34m)\u001b[0m\u001b[0;34m\u001b[0m\u001b[0;34m\u001b[0m\u001b[0m\n\u001b[0m\u001b[1;32m    673\u001b[0m         \u001b[0;32mreturn\u001b[0m \u001b[0mout\u001b[0m\u001b[0;34m\u001b[0m\u001b[0;34m\u001b[0m\u001b[0m\n\u001b[1;32m    674\u001b[0m \u001b[0;34m\u001b[0m\u001b[0m\n",
      "\u001b[0;32m/usr/local/lib/python3.7/dist-packages/tensorflow/python/framework/func_graph.py\u001b[0m in \u001b[0;36mwrapper\u001b[0;34m(*args, **kwargs)\u001b[0m\n\u001b[1;32m    984\u001b[0m           \u001b[0;32mexcept\u001b[0m \u001b[0mException\u001b[0m \u001b[0;32mas\u001b[0m \u001b[0me\u001b[0m\u001b[0;34m:\u001b[0m  \u001b[0;31m# pylint:disable=broad-except\u001b[0m\u001b[0;34m\u001b[0m\u001b[0;34m\u001b[0m\u001b[0m\n\u001b[1;32m    985\u001b[0m             \u001b[0;32mif\u001b[0m \u001b[0mhasattr\u001b[0m\u001b[0;34m(\u001b[0m\u001b[0me\u001b[0m\u001b[0;34m,\u001b[0m \u001b[0;34m\"ag_error_metadata\"\u001b[0m\u001b[0;34m)\u001b[0m\u001b[0;34m:\u001b[0m\u001b[0;34m\u001b[0m\u001b[0;34m\u001b[0m\u001b[0m\n\u001b[0;32m--> 986\u001b[0;31m               \u001b[0;32mraise\u001b[0m \u001b[0me\u001b[0m\u001b[0;34m.\u001b[0m\u001b[0mag_error_metadata\u001b[0m\u001b[0;34m.\u001b[0m\u001b[0mto_exception\u001b[0m\u001b[0;34m(\u001b[0m\u001b[0me\u001b[0m\u001b[0;34m)\u001b[0m\u001b[0;34m\u001b[0m\u001b[0;34m\u001b[0m\u001b[0m\n\u001b[0m\u001b[1;32m    987\u001b[0m             \u001b[0;32melse\u001b[0m\u001b[0;34m:\u001b[0m\u001b[0;34m\u001b[0m\u001b[0;34m\u001b[0m\u001b[0m\n\u001b[1;32m    988\u001b[0m               \u001b[0;32mraise\u001b[0m\u001b[0;34m\u001b[0m\u001b[0;34m\u001b[0m\u001b[0m\n",
      "\u001b[0;31mValueError\u001b[0m: in user code:\n\n    /usr/local/lib/python3.7/dist-packages/tensorflow/python/keras/engine/training.py:855 train_function  *\n        return step_function(self, iterator)\n    /usr/local/lib/python3.7/dist-packages/tensorflow/python/keras/engine/training.py:845 step_function  **\n        outputs = model.distribute_strategy.run(run_step, args=(data,))\n    /usr/local/lib/python3.7/dist-packages/tensorflow/python/distribute/distribute_lib.py:1285 run\n        return self._extended.call_for_each_replica(fn, args=args, kwargs=kwargs)\n    /usr/local/lib/python3.7/dist-packages/tensorflow/python/distribute/distribute_lib.py:2833 call_for_each_replica\n        return self._call_for_each_replica(fn, args, kwargs)\n    /usr/local/lib/python3.7/dist-packages/tensorflow/python/distribute/distribute_lib.py:3608 _call_for_each_replica\n        return fn(*args, **kwargs)\n    /usr/local/lib/python3.7/dist-packages/tensorflow/python/keras/engine/training.py:838 run_step  **\n        outputs = model.train_step(data)\n    /usr/local/lib/python3.7/dist-packages/tensorflow/python/keras/engine/training.py:797 train_step\n        y, y_pred, sample_weight, regularization_losses=self.losses)\n    /usr/local/lib/python3.7/dist-packages/tensorflow/python/keras/engine/compile_utils.py:204 __call__\n        loss_value = loss_obj(y_t, y_p, sample_weight=sw)\n    /usr/local/lib/python3.7/dist-packages/tensorflow/python/keras/losses.py:155 __call__\n        losses = call_fn(y_true, y_pred)\n    /usr/local/lib/python3.7/dist-packages/tensorflow/python/keras/losses.py:259 call  **\n        return ag_fn(y_true, y_pred, **self._fn_kwargs)\n    /usr/local/lib/python3.7/dist-packages/tensorflow/python/util/dispatch.py:206 wrapper\n        return target(*args, **kwargs)\n    /usr/local/lib/python3.7/dist-packages/tensorflow/python/keras/losses.py:1644 categorical_crossentropy\n        y_true, y_pred, from_logits=from_logits)\n    /usr/local/lib/python3.7/dist-packages/tensorflow/python/util/dispatch.py:206 wrapper\n        return target(*args, **kwargs)\n    /usr/local/lib/python3.7/dist-packages/tensorflow/python/keras/backend.py:4862 categorical_crossentropy\n        target.shape.assert_is_compatible_with(output.shape)\n    /usr/local/lib/python3.7/dist-packages/tensorflow/python/framework/tensor_shape.py:1161 assert_is_compatible_with\n        raise ValueError(\"Shapes %s and %s are incompatible\" % (self, other))\n\n    ValueError: Shapes (None, 6) and (None, 3) are incompatible\n"
     ]
    }
   ],
   "source": [
    "tf.random.set_seed(112)\n",
    "n_hidden1 = 48\n",
    "n_hidden2 = 64\n",
    "epochs = 30\n",
    "\n",
    "# Initiliazing the sequential model\n",
    "model = keras.Sequential()\n",
    "# Configuring the parameters\n",
    "model.add(layers.LSTM(n_hidden1, input_shape=(timesteps, input_dim), return_sequences=True))\n",
    "# Adding a dropout layer\n",
    "model.add(layers.Dropout(0.6))\n",
    "# Configuring the parameters\n",
    "model.add(layers.LSTM(n_hidden2))\n",
    "\n",
    "\n",
    "\n",
    "# Adding a dropout layer\n",
    "model.add(layers.Dropout(0.6))\n",
    "# Adding a dense output layer with sigmoid activation\n",
    "model.add(layers.Dense(n_classes, activation='softmax'))\n",
    "print (model.summary())\n",
    "\n",
    "\n",
    "\n",
    "# Compiling the model\n",
    "model.compile(loss=keras.losses.CategoricalCrossentropy(from_logits=True),\n",
    "              optimizer='adam',\n",
    "              metrics=['accuracy'])\n",
    "\n",
    "# Training the model\n",
    "model.fit(X_train,\n",
    "          Y_train,\n",
    "          batch_size=batch_size,\n",
    "          validation_data=(X_test, Y_test),\n",
    "          epochs=epochs)"
   ]
  },
  {
   "cell_type": "code",
   "execution_count": null,
   "metadata": {
    "colab": {
     "base_uri": "https://localhost:8080/"
    },
    "id": "191RwIkWp-QU",
    "outputId": "5c628a17-8fa4-4ca4-ffab-413d28f5cd20"
   },
   "outputs": [
    {
     "name": "stdout",
     "output_type": "stream",
     "text": [
      "Model: \"sequential_7\"\n",
      "_________________________________________________________________\n",
      "Layer (type)                 Output Shape              Param #   \n",
      "=================================================================\n",
      "lstm_14 (LSTM)               (None, 128, 16)           1664      \n",
      "_________________________________________________________________\n",
      "dropout_14 (Dropout)         (None, 128, 16)           0         \n",
      "_________________________________________________________________\n",
      "lstm_15 (LSTM)               (None, 32)                6272      \n",
      "_________________________________________________________________\n",
      "dropout_15 (Dropout)         (None, 32)                0         \n",
      "_________________________________________________________________\n",
      "dense_7 (Dense)              (None, 6)                 198       \n",
      "=================================================================\n",
      "Total params: 8,134\n",
      "Trainable params: 8,134\n",
      "Non-trainable params: 0\n",
      "_________________________________________________________________\n",
      "None\n",
      "Epoch 1/30\n",
      "460/460 [==============================] - 9s 14ms/step - loss: 1.3917 - accuracy: 0.4128 - val_loss: 0.8941 - val_accuracy: 0.5976\n",
      "Epoch 2/30\n",
      "460/460 [==============================] - 6s 12ms/step - loss: 0.7569 - accuracy: 0.6595 - val_loss: 0.7269 - val_accuracy: 0.6997\n",
      "Epoch 3/30\n",
      "460/460 [==============================] - 6s 12ms/step - loss: 0.6602 - accuracy: 0.6931 - val_loss: 0.6747 - val_accuracy: 0.7197\n",
      "Epoch 4/30\n",
      "460/460 [==============================] - 6s 12ms/step - loss: 0.5866 - accuracy: 0.7458 - val_loss: 0.5792 - val_accuracy: 0.7774\n",
      "Epoch 5/30\n",
      "460/460 [==============================] - 6s 12ms/step - loss: 0.4188 - accuracy: 0.8472 - val_loss: 0.5867 - val_accuracy: 0.7642\n",
      "Epoch 6/30\n",
      "460/460 [==============================] - 6s 12ms/step - loss: 0.3975 - accuracy: 0.8338 - val_loss: 0.5977 - val_accuracy: 0.8127\n",
      "Epoch 7/30\n",
      "460/460 [==============================] - 6s 12ms/step - loss: 0.3070 - accuracy: 0.8975 - val_loss: 0.4201 - val_accuracy: 0.8741\n",
      "Epoch 8/30\n",
      "460/460 [==============================] - 6s 12ms/step - loss: 0.2534 - accuracy: 0.9191 - val_loss: 0.3916 - val_accuracy: 0.8863\n",
      "Epoch 9/30\n",
      "460/460 [==============================] - 6s 12ms/step - loss: 0.2054 - accuracy: 0.9319 - val_loss: 0.3707 - val_accuracy: 0.8836\n",
      "Epoch 10/30\n",
      "460/460 [==============================] - 6s 12ms/step - loss: 0.1936 - accuracy: 0.9324 - val_loss: 0.4141 - val_accuracy: 0.8901\n",
      "Epoch 11/30\n",
      "460/460 [==============================] - 6s 12ms/step - loss: 0.2077 - accuracy: 0.9363 - val_loss: 0.3892 - val_accuracy: 0.8890\n",
      "Epoch 12/30\n",
      "460/460 [==============================] - 6s 12ms/step - loss: 0.1546 - accuracy: 0.9457 - val_loss: 0.3957 - val_accuracy: 0.8890\n",
      "Epoch 13/30\n",
      "460/460 [==============================] - 6s 12ms/step - loss: 0.1998 - accuracy: 0.9320 - val_loss: 0.4537 - val_accuracy: 0.8850\n",
      "Epoch 14/30\n",
      "460/460 [==============================] - 6s 12ms/step - loss: 0.1932 - accuracy: 0.9330 - val_loss: 0.3846 - val_accuracy: 0.8968\n",
      "Epoch 15/30\n",
      "460/460 [==============================] - 6s 12ms/step - loss: 0.1506 - accuracy: 0.9412 - val_loss: 0.3846 - val_accuracy: 0.9060\n",
      "Epoch 16/30\n",
      "460/460 [==============================] - 6s 12ms/step - loss: 0.1586 - accuracy: 0.9447 - val_loss: 0.3387 - val_accuracy: 0.9023\n",
      "Epoch 17/30\n",
      "460/460 [==============================] - 6s 12ms/step - loss: 0.1922 - accuracy: 0.9311 - val_loss: 0.3302 - val_accuracy: 0.9026\n",
      "Epoch 18/30\n",
      "460/460 [==============================] - 6s 12ms/step - loss: 0.1780 - accuracy: 0.9396 - val_loss: 0.3695 - val_accuracy: 0.9060\n",
      "Epoch 19/30\n",
      "460/460 [==============================] - 6s 12ms/step - loss: 0.1768 - accuracy: 0.9374 - val_loss: 0.3098 - val_accuracy: 0.9040\n",
      "Epoch 20/30\n",
      "460/460 [==============================] - 6s 12ms/step - loss: 0.1491 - accuracy: 0.9457 - val_loss: 0.3451 - val_accuracy: 0.8965\n",
      "Epoch 21/30\n",
      "460/460 [==============================] - 6s 12ms/step - loss: 0.1711 - accuracy: 0.9379 - val_loss: 0.2756 - val_accuracy: 0.9080\n",
      "Epoch 22/30\n",
      "460/460 [==============================] - 6s 12ms/step - loss: 0.1407 - accuracy: 0.9436 - val_loss: 0.2710 - val_accuracy: 0.9118\n",
      "Epoch 23/30\n",
      "460/460 [==============================] - 6s 12ms/step - loss: 0.1494 - accuracy: 0.9427 - val_loss: 0.3179 - val_accuracy: 0.9125\n",
      "Epoch 24/30\n",
      "460/460 [==============================] - 6s 12ms/step - loss: 0.1256 - accuracy: 0.9508 - val_loss: 0.3604 - val_accuracy: 0.9087\n",
      "Epoch 25/30\n",
      "460/460 [==============================] - 6s 12ms/step - loss: 0.1316 - accuracy: 0.9455 - val_loss: 0.2941 - val_accuracy: 0.9155\n",
      "Epoch 26/30\n",
      "460/460 [==============================] - 6s 12ms/step - loss: 0.1697 - accuracy: 0.9434 - val_loss: 0.2682 - val_accuracy: 0.9226\n",
      "Epoch 27/30\n",
      "460/460 [==============================] - 6s 12ms/step - loss: 0.1358 - accuracy: 0.9475 - val_loss: 0.3454 - val_accuracy: 0.9091\n",
      "Epoch 28/30\n",
      "460/460 [==============================] - 6s 12ms/step - loss: 0.1201 - accuracy: 0.9521 - val_loss: 0.3546 - val_accuracy: 0.9128\n",
      "Epoch 29/30\n",
      "460/460 [==============================] - 6s 12ms/step - loss: 0.1145 - accuracy: 0.9543 - val_loss: 0.3613 - val_accuracy: 0.9158\n",
      "Epoch 30/30\n",
      "460/460 [==============================] - 6s 12ms/step - loss: 0.1197 - accuracy: 0.9520 - val_loss: 0.3068 - val_accuracy: 0.9250\n"
     ]
    },
    {
     "data": {
      "text/plain": [
       "<tensorflow.python.keras.callbacks.History at 0x7f00321dd690>"
      ]
     },
     "execution_count": 22,
     "metadata": {
      "tags": []
     },
     "output_type": "execute_result"
    }
   ],
   "source": [
    "tf.random.set_seed(118)\n",
    "n_hidden1 = 16\n",
    "n_hidden2 = 32\n",
    "epochs = 30\n",
    "# Initiliazing the sequential model\n",
    "model = keras.Sequential()\n",
    "# Configuring the parameters\n",
    "model.add(layers.LSTM(n_hidden1, input_shape=(timesteps, input_dim), return_sequences=True))\n",
    "# Adding a dropout layer\n",
    "model.add(layers.Dropout(0.2))\n",
    "# Configuring the parameters\n",
    "model.add(layers.LSTM(n_hidden2))\n",
    "# Adding a dropout layer\n",
    "model.add(layers.Dropout(0.5))\n",
    "# Adding a dense output layer with sigmoid activation\n",
    "model.add(layers.Dense(n_classes, activation='softmax'))\n",
    "print (model.summary())\n",
    "\n",
    "\n",
    "\n",
    "# Compiling the model\n",
    "model.compile(loss=keras.losses.CategoricalCrossentropy(from_logits=True),\n",
    "              optimizer='adam',\n",
    "              metrics=['accuracy'])\n",
    "\n",
    "# Training the model\n",
    "model.fit(X_train,\n",
    "          Y_train,\n",
    "          batch_size=batch_size,\n",
    "          validation_data=(X_test, Y_test),\n",
    "          epochs=epochs)"
   ]
  },
  {
   "cell_type": "markdown",
   "metadata": {
    "id": "3cIfaLGJn_JS"
   },
   "source": [
    "##Divide and conquer"
   ]
  },
  {
   "cell_type": "code",
   "execution_count": 16,
   "metadata": {
    "id": "btgnM77Mn-Zr"
   },
   "outputs": [],
   "source": [
    "from scipy import ndimage"
   ]
  },
  {
   "cell_type": "code",
   "execution_count": 18,
   "metadata": {
    "id": "jjHEOfDzIvrH"
   },
   "outputs": [],
   "source": [
    "\n",
    "def load_y_first(subset):\n",
    "    \"\"\"\n",
    "    The objective that we are trying to predict is a integer, from 1 to 6,\n",
    "    that represents a human activity. We return a binary representation of \n",
    "    every sample objective as a 6 bits vector using One Hot Encoding\n",
    "    (https://pandas.pydata.org/pandas-docs/stable/generated/pandas.get_dummies.html)\n",
    "    \"\"\"\n",
    "    filename = f'UCI_HAR_Dataset/{subset}/y_{subset}.txt'\n",
    "    y = _read_csv(filename)[0]\n",
    "\n",
    "    # for two divide and conquer CNN\n",
    "    for i in range(len(y)):\n",
    "      if y[i] <4:\n",
    "        y[i] = 0\n",
    "      else:\n",
    "        y[i] = 1    \n",
    "\n",
    "\n",
    "    return pd.get_dummies(y).values\n",
    "    #return y"
   ]
  },
  {
   "cell_type": "code",
   "execution_count": 19,
   "metadata": {
    "id": "s0FXWlKEJeMn"
   },
   "outputs": [],
   "source": [
    "def load_data_first():\n",
    "    \"\"\"\n",
    "    Obtain the dataset from multiple files.\n",
    "    Returns: X_train, X_test, y_train, y_test\n",
    "    \"\"\"\n",
    "    X_train, X_test = load_signals('train'), load_signals('test')\n",
    "    y_train, y_test = load_y_first('train'), load_y_first('test')\n",
    "\n",
    "    return X_train, X_test, y_train, y_test"
   ]
  },
  {
   "cell_type": "code",
   "execution_count": 20,
   "metadata": {
    "id": "xzJ9QMMm4DUw"
   },
   "outputs": [],
   "source": [
    "# Loading the train and test data\n",
    "X_train, X_test, Y_train, Y_test = load_data_first()"
   ]
  },
  {
   "cell_type": "code",
   "execution_count": 21,
   "metadata": {
    "colab": {
     "base_uri": "https://localhost:8080/"
    },
    "id": "G8fFiOS_-hBA",
    "outputId": "5ac55cd4-61d3-4aab-e2bb-1afc5b0d84ab"
   },
   "outputs": [
    {
     "name": "stdout",
     "output_type": "stream",
     "text": [
      "Model: \"sequential\"\n",
      "_________________________________________________________________\n",
      "Layer (type)                 Output Shape              Param #   \n",
      "=================================================================\n",
      "conv1d (Conv1D)              (None, 126, 32)           896       \n",
      "_________________________________________________________________\n",
      "conv1d_1 (Conv1D)            (None, 124, 32)           3104      \n",
      "_________________________________________________________________\n",
      "dropout (Dropout)            (None, 124, 32)           0         \n",
      "_________________________________________________________________\n",
      "max_pooling1d (MaxPooling1D) (None, 62, 32)            0         \n",
      "_________________________________________________________________\n",
      "flatten (Flatten)            (None, 1984)              0         \n",
      "_________________________________________________________________\n",
      "dense (Dense)                (None, 64)                127040    \n",
      "_________________________________________________________________\n",
      "dropout_1 (Dropout)          (None, 64)                0         \n",
      "_________________________________________________________________\n",
      "dense_1 (Dense)              (None, 2)                 130       \n",
      "=================================================================\n",
      "Total params: 131,170\n",
      "Trainable params: 131,170\n",
      "Non-trainable params: 0\n",
      "_________________________________________________________________\n",
      "None\n",
      "Epoch 1/30\n"
     ]
    },
    {
     "name": "stderr",
     "output_type": "stream",
     "text": [
      "/usr/local/lib/python3.7/dist-packages/tensorflow/python/keras/backend.py:4870: UserWarning: \"`categorical_crossentropy` received `from_logits=True`, but the `output` argument was produced by a sigmoid or softmax activation and thus does not represent logits. Was this intended?\"\n",
      "  '\"`categorical_crossentropy` received `from_logits=True`, but '\n"
     ]
    },
    {
     "name": "stdout",
     "output_type": "stream",
     "text": [
      "460/460 [==============================] - 34s 5ms/step - loss: 0.2582 - accuracy: 0.9845 - val_loss: 0.1285 - val_accuracy: 0.9946\n",
      "Epoch 2/30\n",
      "460/460 [==============================] - 2s 4ms/step - loss: 0.0822 - accuracy: 0.9980 - val_loss: 0.0789 - val_accuracy: 0.9912\n",
      "Epoch 3/30\n",
      "460/460 [==============================] - 2s 4ms/step - loss: 0.0453 - accuracy: 0.9981 - val_loss: 0.0696 - val_accuracy: 0.9902\n",
      "Epoch 4/30\n",
      "460/460 [==============================] - 2s 4ms/step - loss: 0.0316 - accuracy: 0.9985 - val_loss: 0.0368 - val_accuracy: 0.9956\n",
      "Epoch 5/30\n",
      "460/460 [==============================] - 2s 4ms/step - loss: 0.0240 - accuracy: 0.9989 - val_loss: 0.0302 - val_accuracy: 0.9963\n",
      "Epoch 6/30\n",
      "460/460 [==============================] - 2s 4ms/step - loss: 0.0192 - accuracy: 0.9982 - val_loss: 0.1054 - val_accuracy: 0.9752\n",
      "Epoch 7/30\n",
      "460/460 [==============================] - 2s 4ms/step - loss: 0.0185 - accuracy: 0.9990 - val_loss: 0.0352 - val_accuracy: 0.9908\n",
      "Epoch 8/30\n",
      "460/460 [==============================] - 2s 4ms/step - loss: 0.0137 - accuracy: 0.9992 - val_loss: 0.0306 - val_accuracy: 0.9949\n",
      "Epoch 9/30\n",
      "460/460 [==============================] - 2s 4ms/step - loss: 0.0145 - accuracy: 0.9984 - val_loss: 0.0181 - val_accuracy: 0.9969\n",
      "Epoch 10/30\n",
      "460/460 [==============================] - 2s 4ms/step - loss: 0.0145 - accuracy: 0.9986 - val_loss: 0.0122 - val_accuracy: 0.9990\n",
      "Epoch 11/30\n",
      "460/460 [==============================] - 2s 4ms/step - loss: 0.0105 - accuracy: 0.9990 - val_loss: 0.0189 - val_accuracy: 0.9973\n",
      "Epoch 12/30\n",
      "460/460 [==============================] - 2s 4ms/step - loss: 0.0120 - accuracy: 0.9992 - val_loss: 0.0205 - val_accuracy: 0.9963\n",
      "Epoch 13/30\n",
      "460/460 [==============================] - 2s 4ms/step - loss: 0.0110 - accuracy: 0.9995 - val_loss: 0.0119 - val_accuracy: 0.9986\n",
      "Epoch 14/30\n",
      "460/460 [==============================] - 2s 4ms/step - loss: 0.0081 - accuracy: 0.9997 - val_loss: 0.0077 - val_accuracy: 0.9993\n",
      "Epoch 15/30\n",
      "460/460 [==============================] - 2s 4ms/step - loss: 0.0078 - accuracy: 0.9988 - val_loss: 0.0095 - val_accuracy: 1.0000\n",
      "Epoch 16/30\n",
      "460/460 [==============================] - 2s 4ms/step - loss: 0.0074 - accuracy: 0.9999 - val_loss: 0.0073 - val_accuracy: 0.9993\n",
      "Epoch 17/30\n",
      "460/460 [==============================] - 2s 4ms/step - loss: 0.0096 - accuracy: 0.9992 - val_loss: 0.0079 - val_accuracy: 0.9993\n",
      "Epoch 18/30\n",
      "460/460 [==============================] - 2s 4ms/step - loss: 0.0072 - accuracy: 0.9995 - val_loss: 0.0082 - val_accuracy: 0.9997\n",
      "Epoch 19/30\n",
      "460/460 [==============================] - 2s 4ms/step - loss: 0.0063 - accuracy: 0.9996 - val_loss: 0.0082 - val_accuracy: 0.9990\n",
      "Epoch 20/30\n",
      "460/460 [==============================] - 2s 4ms/step - loss: 0.0052 - accuracy: 0.9999 - val_loss: 0.0049 - val_accuracy: 1.0000\n",
      "Epoch 21/30\n",
      "460/460 [==============================] - 2s 4ms/step - loss: 0.0074 - accuracy: 0.9990 - val_loss: 0.0088 - val_accuracy: 0.9997\n",
      "Epoch 22/30\n",
      "460/460 [==============================] - 2s 4ms/step - loss: 0.0091 - accuracy: 0.9990 - val_loss: 0.0065 - val_accuracy: 1.0000\n",
      "Epoch 23/30\n",
      "460/460 [==============================] - 2s 4ms/step - loss: 0.0054 - accuracy: 1.0000 - val_loss: 0.0046 - val_accuracy: 1.0000\n",
      "Epoch 24/30\n",
      "460/460 [==============================] - 2s 4ms/step - loss: 0.0055 - accuracy: 0.9996 - val_loss: 0.0075 - val_accuracy: 0.9993\n",
      "Epoch 25/30\n",
      "460/460 [==============================] - 2s 4ms/step - loss: 0.0057 - accuracy: 0.9997 - val_loss: 0.0044 - val_accuracy: 1.0000\n",
      "Epoch 26/30\n",
      "460/460 [==============================] - 2s 4ms/step - loss: 0.0057 - accuracy: 0.9995 - val_loss: 0.0072 - val_accuracy: 0.9990\n",
      "Epoch 27/30\n",
      "460/460 [==============================] - 2s 4ms/step - loss: 0.0047 - accuracy: 1.0000 - val_loss: 0.0045 - val_accuracy: 1.0000\n",
      "Epoch 28/30\n",
      "460/460 [==============================] - 2s 4ms/step - loss: 0.0036 - accuracy: 1.0000 - val_loss: 0.0032 - val_accuracy: 1.0000\n",
      "Epoch 29/30\n",
      "460/460 [==============================] - 2s 4ms/step - loss: 0.0081 - accuracy: 0.9992 - val_loss: 0.0050 - val_accuracy: 1.0000\n",
      "Epoch 30/30\n",
      "460/460 [==============================] - 2s 4ms/step - loss: 0.0048 - accuracy: 0.9997 - val_loss: 0.0076 - val_accuracy: 0.9997\n"
     ]
    },
    {
     "data": {
      "text/plain": [
       "<tensorflow.python.keras.callbacks.History at 0x7fd9102b1810>"
      ]
     },
     "execution_count": 21,
     "metadata": {
      "tags": []
     },
     "output_type": "execute_result"
    }
   ],
   "source": [
    "#First stage model (To predict if the datapoint is static or dynamic)\n",
    "\n",
    "tf.random.set_seed(140)\n",
    "n_hidden1 = 64\n",
    "n_hidden2 = 32\n",
    "epochs = 30\n",
    "n_classes = 2\n",
    "# Initiliazing the sequential model\n",
    "model = keras.Sequential()\n",
    "# Configuring the parameters\n",
    "model.add(layers.Conv1D(n_hidden2, kernel_size= 3, activation='relu', input_shape=(timesteps, input_dim), kernel_initializer='glorot_normal', kernel_regularizer='l2'))\n",
    "\n",
    "# Configuring the parameters\n",
    "model.add(layers.Conv1D(n_hidden2, kernel_size= 3, activation='relu', kernel_initializer='glorot_normal', kernel_regularizer='l2'))\n",
    "\n",
    "# Adding a dropout layer\n",
    "model.add(layers.Dropout(0.5))\n",
    "\n",
    "#MaxPool\n",
    "model.add(layers.MaxPool1D(2))\n",
    "\n",
    "#flatten\n",
    "model.add(layers.Flatten())\n",
    "\n",
    "# Adding a dense output layer with relu activation\n",
    "model.add(layers.Dense(n_hidden1, activation='relu', kernel_initializer='he_normal'))\n",
    "\n",
    "# Adding a dropout layer\n",
    "model.add(layers.Dropout(0.5))\n",
    "\n",
    "# Adding a dense output layer with softmax activation\n",
    "model.add(layers.Dense(n_classes, activation='softmax'))\n",
    "\n",
    "print (model.summary())\n",
    "\n",
    "opt =  tf.keras.optimizers.Adam(learning_rate=0.0001)\n",
    "\n",
    "# Compiling the model\n",
    "model.compile(loss=keras.losses.CategoricalCrossentropy(from_logits=True),\n",
    "              optimizer='adam',\n",
    "              metrics=['accuracy'])\n",
    "\n",
    "# Training the model\n",
    "model.fit(X_train,\n",
    "          Y_train,\n",
    "          batch_size=batch_size,\n",
    "          validation_data=(X_test, Y_test),\n",
    "          epochs=epochs)"
   ]
  },
  {
   "cell_type": "code",
   "execution_count": 24,
   "metadata": {
    "id": "MS_P9YXF-Rnn"
   },
   "outputs": [],
   "source": [
    "def load_data_second():\n",
    "    \"\"\"\n",
    "    Obtain the dataset from multiple files.\n",
    "    Returns: X_train, X_test, y_train, y_test\n",
    "    \"\"\"\n",
    "    X_train, X_test = load_signals('train'), load_signals('test')\n",
    "\n",
    "    y_train_st, y_train_dy, y = load_y_second('train')\n",
    "\n",
    "    y_test_st, y_test_dy, y_ = load_y_second('test')\n",
    "\n",
    "    X_train_st = X_train[y > 3]\n",
    "    X_train_dy = X_train[y < 4]\n",
    "\n",
    "    X_test_st = X_test[y_ > 3]\n",
    "    X_test_dy = X_test[y_ < 4]    \n",
    "\n",
    "    return X_train_st, X_train_dy, X_test_st, X_test_dy, y_train_st, y_train_dy, y_test_st, y_test_dy"
   ]
  },
  {
   "cell_type": "code",
   "execution_count": 25,
   "metadata": {
    "id": "vfoA_xf_EblA"
   },
   "outputs": [],
   "source": [
    "# Loading the train and test data (for Static and dynamic model)\n",
    "X_train_st, X_train_dy, X_test_st, X_test_dy, Y_train_st, Y_train_dy, Y_test_st, Y_test_dy = load_data_second()"
   ]
  },
  {
   "cell_type": "code",
   "execution_count": 26,
   "metadata": {
    "colab": {
     "base_uri": "https://localhost:8080/"
    },
    "id": "VqcyUZawiTa4",
    "outputId": "2b95b2e3-0f32-4f12-d06a-1804897d7884"
   },
   "outputs": [
    {
     "name": "stdout",
     "output_type": "stream",
     "text": [
      "128\n",
      "9\n",
      "4067\n"
     ]
    }
   ],
   "source": [
    "timesteps = len(X_train_st[0])\n",
    "input_dim = len(X_train_st[0][0])\n",
    "\n",
    "\n",
    "print(timesteps)\n",
    "print(input_dim)\n",
    "print(len(X_train_st))"
   ]
  },
  {
   "cell_type": "code",
   "execution_count": 163,
   "metadata": {
    "colab": {
     "base_uri": "https://localhost:8080/"
    },
    "id": "NZXkxQEbE7-I",
    "outputId": "0ed0024b-1e9d-443f-87de-b310ac695e93"
   },
   "outputs": [
    {
     "name": "stdout",
     "output_type": "stream",
     "text": [
      "Model: \"sequential_41\"\n",
      "_________________________________________________________________\n",
      "Layer (type)                 Output Shape              Param #   \n",
      "=================================================================\n",
      "conv1d_94 (Conv1D)           (None, 127, 30)           570       \n",
      "_________________________________________________________________\n",
      "dropout_115 (Dropout)        (None, 127, 30)           0         \n",
      "_________________________________________________________________\n",
      "conv1d_95 (Conv1D)           (None, 125, 50)           4550      \n",
      "_________________________________________________________________\n",
      "dropout_116 (Dropout)        (None, 125, 50)           0         \n",
      "_________________________________________________________________\n",
      "conv1d_96 (Conv1D)           (None, 122, 100)          20100     \n",
      "_________________________________________________________________\n",
      "batch_normalization_21 (Batc (None, 122, 100)          400       \n",
      "_________________________________________________________________\n",
      "dropout_117 (Dropout)        (None, 122, 100)          0         \n",
      "_________________________________________________________________\n",
      "flatten_41 (Flatten)         (None, 12200)             0         \n",
      "_________________________________________________________________\n",
      "dense_82 (Dense)             (None, 100)               1220100   \n",
      "_________________________________________________________________\n",
      "dropout_118 (Dropout)        (None, 100)               0         \n",
      "_________________________________________________________________\n",
      "dense_83 (Dense)             (None, 3)                 303       \n",
      "=================================================================\n",
      "Total params: 1,246,023\n",
      "Trainable params: 1,245,823\n",
      "Non-trainable params: 200\n",
      "_________________________________________________________________\n",
      "None\n",
      "Epoch 1/30\n"
     ]
    },
    {
     "name": "stderr",
     "output_type": "stream",
     "text": [
      "/usr/local/lib/python3.7/dist-packages/tensorflow/python/keras/backend.py:4870: UserWarning: \"`categorical_crossentropy` received `from_logits=True`, but the `output` argument was produced by a sigmoid or softmax activation and thus does not represent logits. Was this intended?\"\n",
      "  '\"`categorical_crossentropy` received `from_logits=True`, but '\n"
     ]
    },
    {
     "name": "stdout",
     "output_type": "stream",
     "text": [
      "255/255 [==============================] - 2s 6ms/step - loss: 1.7422 - accuracy: 0.8094 - val_loss: 1.5868 - val_accuracy: 0.6744\n",
      "Epoch 2/30\n",
      "255/255 [==============================] - 1s 5ms/step - loss: 1.3807 - accuracy: 0.8739 - val_loss: 1.4570 - val_accuracy: 0.7090\n",
      "Epoch 3/30\n",
      "255/255 [==============================] - 1s 5ms/step - loss: 1.2563 - accuracy: 0.8881 - val_loss: 1.3921 - val_accuracy: 0.7429\n",
      "Epoch 4/30\n",
      "255/255 [==============================] - 1s 5ms/step - loss: 1.1903 - accuracy: 0.8844 - val_loss: 1.3072 - val_accuracy: 0.8365\n",
      "Epoch 5/30\n",
      "255/255 [==============================] - 1s 5ms/step - loss: 1.1111 - accuracy: 0.8948 - val_loss: 1.2500 - val_accuracy: 0.8006\n",
      "Epoch 6/30\n",
      "255/255 [==============================] - 1s 5ms/step - loss: 1.0343 - accuracy: 0.9012 - val_loss: 1.1372 - val_accuracy: 0.8603\n",
      "Epoch 7/30\n",
      "255/255 [==============================] - 1s 5ms/step - loss: 0.9774 - accuracy: 0.9041 - val_loss: 1.1013 - val_accuracy: 0.8141\n",
      "Epoch 8/30\n",
      "255/255 [==============================] - 1s 5ms/step - loss: 0.9136 - accuracy: 0.8962 - val_loss: 1.1547 - val_accuracy: 0.7462\n",
      "Epoch 9/30\n",
      "255/255 [==============================] - 1s 5ms/step - loss: 0.8594 - accuracy: 0.9004 - val_loss: 1.0314 - val_accuracy: 0.8321\n",
      "Epoch 10/30\n",
      "255/255 [==============================] - 1s 5ms/step - loss: 0.8023 - accuracy: 0.8989 - val_loss: 0.9795 - val_accuracy: 0.8404\n",
      "Epoch 11/30\n",
      "255/255 [==============================] - 1s 5ms/step - loss: 0.7367 - accuracy: 0.8992 - val_loss: 0.9161 - val_accuracy: 0.8404\n",
      "Epoch 12/30\n",
      "255/255 [==============================] - 1s 5ms/step - loss: 0.6947 - accuracy: 0.9036 - val_loss: 0.8710 - val_accuracy: 0.7731\n",
      "Epoch 13/30\n",
      "255/255 [==============================] - 1s 5ms/step - loss: 0.6552 - accuracy: 0.9068 - val_loss: 0.8499 - val_accuracy: 0.7718\n",
      "Epoch 14/30\n",
      "255/255 [==============================] - 1s 5ms/step - loss: 0.6123 - accuracy: 0.9088 - val_loss: 0.7779 - val_accuracy: 0.7994\n",
      "Epoch 15/30\n",
      "255/255 [==============================] - 1s 5ms/step - loss: 0.5736 - accuracy: 0.9039 - val_loss: 0.7623 - val_accuracy: 0.7865\n",
      "Epoch 16/30\n",
      "255/255 [==============================] - 1s 5ms/step - loss: 0.5317 - accuracy: 0.9120 - val_loss: 0.7689 - val_accuracy: 0.8224\n",
      "Epoch 17/30\n",
      "255/255 [==============================] - 1s 5ms/step - loss: 0.4977 - accuracy: 0.9127 - val_loss: 0.6872 - val_accuracy: 0.8295\n",
      "Epoch 18/30\n",
      "255/255 [==============================] - 1s 5ms/step - loss: 0.4689 - accuracy: 0.9075 - val_loss: 0.7195 - val_accuracy: 0.8173\n",
      "Epoch 19/30\n",
      "255/255 [==============================] - 1s 5ms/step - loss: 0.4400 - accuracy: 0.9083 - val_loss: 0.7158 - val_accuracy: 0.8006\n",
      "Epoch 20/30\n",
      "255/255 [==============================] - 1s 5ms/step - loss: 0.4109 - accuracy: 0.9164 - val_loss: 0.8226 - val_accuracy: 0.8090\n",
      "Epoch 21/30\n",
      "255/255 [==============================] - 1s 5ms/step - loss: 0.4010 - accuracy: 0.9120 - val_loss: 0.7091 - val_accuracy: 0.7910\n",
      "Epoch 22/30\n",
      "255/255 [==============================] - 1s 5ms/step - loss: 0.3824 - accuracy: 0.9125 - val_loss: 1.0793 - val_accuracy: 0.8532\n",
      "Epoch 23/30\n",
      "255/255 [==============================] - 1s 5ms/step - loss: 0.3641 - accuracy: 0.9127 - val_loss: 0.6605 - val_accuracy: 0.8622\n",
      "Epoch 24/30\n",
      "255/255 [==============================] - 1s 5ms/step - loss: 0.3449 - accuracy: 0.9120 - val_loss: 0.6607 - val_accuracy: 0.8615\n",
      "Epoch 25/30\n",
      "255/255 [==============================] - 1s 5ms/step - loss: 0.3309 - accuracy: 0.9179 - val_loss: 0.8108 - val_accuracy: 0.8301\n",
      "Epoch 26/30\n",
      "255/255 [==============================] - 1s 5ms/step - loss: 0.3220 - accuracy: 0.9144 - val_loss: 0.6271 - val_accuracy: 0.8006\n",
      "Epoch 27/30\n",
      "255/255 [==============================] - 1s 5ms/step - loss: 0.3136 - accuracy: 0.9149 - val_loss: 0.7936 - val_accuracy: 0.8756\n",
      "Epoch 28/30\n",
      "255/255 [==============================] - 1s 5ms/step - loss: 0.3087 - accuracy: 0.9162 - val_loss: 0.8734 - val_accuracy: 0.8622\n",
      "Epoch 29/30\n",
      "255/255 [==============================] - 1s 6ms/step - loss: 0.2979 - accuracy: 0.9198 - val_loss: 0.9538 - val_accuracy: 0.8756\n",
      "Epoch 30/30\n",
      "255/255 [==============================] - 1s 5ms/step - loss: 0.2909 - accuracy: 0.9198 - val_loss: 0.7551 - val_accuracy: 0.8865\n"
     ]
    },
    {
     "data": {
      "text/plain": [
       "<tensorflow.python.keras.callbacks.History at 0x7fd7baa6df90>"
      ]
     },
     "execution_count": 163,
     "metadata": {
      "tags": []
     },
     "output_type": "execute_result"
    }
   ],
   "source": [
    "#model for static classes\n",
    "\n",
    "tf.random.set_seed(142)\n",
    "n_hidden1 = 100\n",
    "n_hidden2 = 50\n",
    "n_hidden3 = 30\n",
    "epochs = 30\n",
    "n_classes = 3\n",
    "\n",
    "# Initiliazing the sequential model_st\n",
    "model_st = keras.Sequential()\n",
    "# Configuring the parameters\n",
    "model_st.add(layers.Conv1D(n_hidden3, kernel_size= 2, activation='relu', input_shape=(timesteps, input_dim), kernel_initializer='glorot_normal', kernel_regularizer='l2'))\n",
    "\n",
    "# Adding a dropout layer\n",
    "model_st.add(layers.Dropout(0.5))\n",
    "\n",
    "\n",
    "# Configuring the parameters\n",
    "model_st.add(layers.Conv1D(n_hidden2, kernel_size= 3, activation='relu', kernel_initializer='glorot_normal', kernel_regularizer='l2'))\n",
    "\n",
    "# Adding a dropout layer\n",
    "model_st.add(layers.Dropout(0.5))\n",
    "\n",
    "\n",
    "# Configuring the parameters\n",
    "model_st.add(layers.Conv1D(n_hidden1, kernel_size= 4, activation='relu', kernel_initializer='glorot_normal', kernel_regularizer='l2'))\n",
    "\n",
    "# Add BN layer\n",
    "model_st.add(layers.BatchNormalization())\n",
    "\n",
    "# Adding a dropout layer\n",
    "model_st.add(layers.Dropout(0.5))\n",
    "\n",
    "#MaxPool\n",
    "#model_st.add(layers.MaxPool1D(2))\n",
    "\n",
    "#flatten\n",
    "model_st.add(layers.Flatten())\n",
    "\n",
    "# Adding a dense output layer with relu activation\n",
    "model_st.add(layers.Dense(n_hidden1, activation='relu', kernel_initializer='glorot_normal'))\n",
    "\n",
    "# Adding a dropout layer\n",
    "model_st.add(layers.Dropout(0.5))\n",
    "\n",
    "\n",
    "\n",
    "# Adding a dense output layer with softmax activation\n",
    "model_st.add(layers.Dense(n_classes, activation='softmax'))\n",
    "\n",
    "print (model_st.summary())\n",
    "\n",
    "opt =  tf.keras.optimizers.Adam(learning_rate=0.0009)\n",
    "\n",
    "# Compiling the model_st\n",
    "model_st.compile(loss=keras.losses.CategoricalCrossentropy(from_logits=True),\n",
    "              optimizer='adamax',\n",
    "              metrics=['accuracy'])\n",
    "\n",
    "# Training the model_st\n",
    "model_st.fit(X_train_st,\n",
    "          Y_train_st,\n",
    "          batch_size=batch_size,\n",
    "          validation_data=(X_test_st, Y_test_st),\n",
    "          epochs=epochs)\n"
   ]
  },
  {
   "cell_type": "code",
   "execution_count": 28,
   "metadata": {
    "colab": {
     "base_uri": "https://localhost:8080/"
    },
    "id": "G-twKnozi65h",
    "outputId": "14ab809e-e307-4ded-b78c-b1861e4b9edf"
   },
   "outputs": [
    {
     "name": "stdout",
     "output_type": "stream",
     "text": [
      "Model: \"sequential_2\"\n",
      "_________________________________________________________________\n",
      "Layer (type)                 Output Shape              Param #   \n",
      "=================================================================\n",
      "conv1d_4 (Conv1D)            (None, 126, 64)           1792      \n",
      "_________________________________________________________________\n",
      "conv1d_5 (Conv1D)            (None, 124, 32)           6176      \n",
      "_________________________________________________________________\n",
      "dropout_4 (Dropout)          (None, 124, 32)           0         \n",
      "_________________________________________________________________\n",
      "max_pooling1d_2 (MaxPooling1 (None, 41, 32)            0         \n",
      "_________________________________________________________________\n",
      "flatten_2 (Flatten)          (None, 1312)              0         \n",
      "_________________________________________________________________\n",
      "dense_4 (Dense)              (None, 16)                21008     \n",
      "_________________________________________________________________\n",
      "dropout_5 (Dropout)          (None, 16)                0         \n",
      "_________________________________________________________________\n",
      "dense_5 (Dense)              (None, 3)                 51        \n",
      "=================================================================\n",
      "Total params: 29,027\n",
      "Trainable params: 29,027\n",
      "Non-trainable params: 0\n",
      "_________________________________________________________________\n",
      "None\n",
      "Epoch 1/30\n"
     ]
    },
    {
     "name": "stderr",
     "output_type": "stream",
     "text": [
      "/usr/local/lib/python3.7/dist-packages/tensorflow/python/keras/backend.py:4870: UserWarning: \"`categorical_crossentropy` received `from_logits=True`, but the `output` argument was produced by a sigmoid or softmax activation and thus does not represent logits. Was this intended?\"\n",
      "  '\"`categorical_crossentropy` received `from_logits=True`, but '\n"
     ]
    },
    {
     "name": "stdout",
     "output_type": "stream",
     "text": [
      "206/206 [==============================] - 2s 5ms/step - loss: 0.8263 - accuracy: 0.5924 - val_loss: 0.7369 - val_accuracy: 0.6676\n",
      "Epoch 2/30\n",
      "206/206 [==============================] - 1s 4ms/step - loss: 0.3455 - accuracy: 0.8731 - val_loss: 0.4523 - val_accuracy: 0.8147\n",
      "Epoch 3/30\n",
      "206/206 [==============================] - 1s 4ms/step - loss: 0.1883 - accuracy: 0.9285 - val_loss: 0.2375 - val_accuracy: 0.9214\n",
      "Epoch 4/30\n",
      "206/206 [==============================] - 1s 5ms/step - loss: 0.1311 - accuracy: 0.9452 - val_loss: 0.1674 - val_accuracy: 0.9402\n",
      "Epoch 5/30\n",
      "206/206 [==============================] - 1s 4ms/step - loss: 0.1087 - accuracy: 0.9522 - val_loss: 0.1967 - val_accuracy: 0.9430\n",
      "Epoch 6/30\n",
      "206/206 [==============================] - 1s 4ms/step - loss: 0.0949 - accuracy: 0.9577 - val_loss: 0.1702 - val_accuracy: 0.9394\n",
      "Epoch 7/30\n",
      "206/206 [==============================] - 1s 4ms/step - loss: 0.0779 - accuracy: 0.9632 - val_loss: 0.1608 - val_accuracy: 0.9474\n",
      "Epoch 8/30\n",
      "206/206 [==============================] - 1s 4ms/step - loss: 0.0784 - accuracy: 0.9619 - val_loss: 0.3030 - val_accuracy: 0.9337\n",
      "Epoch 9/30\n",
      "206/206 [==============================] - 1s 4ms/step - loss: 0.0698 - accuracy: 0.9662 - val_loss: 0.1838 - val_accuracy: 0.9503\n",
      "Epoch 10/30\n",
      "206/206 [==============================] - 1s 5ms/step - loss: 0.0768 - accuracy: 0.9632 - val_loss: 0.2886 - val_accuracy: 0.9394\n",
      "Epoch 11/30\n",
      "206/206 [==============================] - 1s 4ms/step - loss: 0.0648 - accuracy: 0.9714 - val_loss: 0.1672 - val_accuracy: 0.9524\n",
      "Epoch 12/30\n",
      "206/206 [==============================] - 1s 4ms/step - loss: 0.0582 - accuracy: 0.9720 - val_loss: 0.1689 - val_accuracy: 0.9510\n",
      "Epoch 13/30\n",
      "206/206 [==============================] - 1s 4ms/step - loss: 0.0700 - accuracy: 0.9683 - val_loss: 0.1531 - val_accuracy: 0.9560\n",
      "Epoch 14/30\n",
      "206/206 [==============================] - 1s 4ms/step - loss: 0.0596 - accuracy: 0.9717 - val_loss: 0.1506 - val_accuracy: 0.9546\n",
      "Epoch 15/30\n",
      "206/206 [==============================] - 1s 4ms/step - loss: 0.0697 - accuracy: 0.9744 - val_loss: 0.1473 - val_accuracy: 0.9668\n",
      "Epoch 16/30\n",
      "206/206 [==============================] - 1s 4ms/step - loss: 0.0624 - accuracy: 0.9744 - val_loss: 0.1176 - val_accuracy: 0.9647\n",
      "Epoch 17/30\n",
      "206/206 [==============================] - 1s 4ms/step - loss: 0.0601 - accuracy: 0.9738 - val_loss: 0.1713 - val_accuracy: 0.9575\n",
      "Epoch 18/30\n",
      "206/206 [==============================] - 1s 4ms/step - loss: 0.0553 - accuracy: 0.9763 - val_loss: 0.2553 - val_accuracy: 0.9596\n",
      "Epoch 19/30\n",
      "206/206 [==============================] - 1s 4ms/step - loss: 0.0630 - accuracy: 0.9784 - val_loss: 0.1970 - val_accuracy: 0.9611\n",
      "Epoch 20/30\n",
      "206/206 [==============================] - 1s 4ms/step - loss: 0.0655 - accuracy: 0.9720 - val_loss: 0.2597 - val_accuracy: 0.9531\n",
      "Epoch 21/30\n",
      "206/206 [==============================] - 1s 4ms/step - loss: 0.0574 - accuracy: 0.9790 - val_loss: 0.3140 - val_accuracy: 0.9582\n",
      "Epoch 22/30\n",
      "206/206 [==============================] - 1s 4ms/step - loss: 0.0591 - accuracy: 0.9790 - val_loss: 0.5322 - val_accuracy: 0.9308\n",
      "Epoch 23/30\n",
      "206/206 [==============================] - 1s 4ms/step - loss: 0.0634 - accuracy: 0.9741 - val_loss: 0.2953 - val_accuracy: 0.9640\n",
      "Epoch 24/30\n",
      "206/206 [==============================] - 1s 4ms/step - loss: 0.0611 - accuracy: 0.9802 - val_loss: 0.3812 - val_accuracy: 0.9575\n",
      "Epoch 25/30\n",
      "206/206 [==============================] - 1s 4ms/step - loss: 0.0622 - accuracy: 0.9787 - val_loss: 0.6371 - val_accuracy: 0.9517\n",
      "Epoch 26/30\n",
      "206/206 [==============================] - 1s 4ms/step - loss: 0.0548 - accuracy: 0.9817 - val_loss: 0.2224 - val_accuracy: 0.9668\n",
      "Epoch 27/30\n",
      "206/206 [==============================] - 1s 4ms/step - loss: 0.0562 - accuracy: 0.9826 - val_loss: 0.3710 - val_accuracy: 0.9632\n",
      "Epoch 28/30\n",
      "206/206 [==============================] - 1s 4ms/step - loss: 0.0700 - accuracy: 0.9808 - val_loss: 0.6010 - val_accuracy: 0.9510\n",
      "Epoch 29/30\n",
      "206/206 [==============================] - 1s 4ms/step - loss: 0.0540 - accuracy: 0.9747 - val_loss: 0.3842 - val_accuracy: 0.9474\n",
      "Epoch 30/30\n",
      "206/206 [==============================] - 1s 4ms/step - loss: 0.0630 - accuracy: 0.9808 - val_loss: 0.1471 - val_accuracy: 0.9697\n"
     ]
    },
    {
     "data": {
      "text/plain": [
       "<tensorflow.python.keras.callbacks.History at 0x7fd8c4344f90>"
      ]
     },
     "execution_count": 28,
     "metadata": {
      "tags": []
     },
     "output_type": "execute_result"
    }
   ],
   "source": [
    "# model for dynamic classes\n",
    "\n",
    "tf.random.set_seed(149)\n",
    "n_hidden1 = 64\n",
    "n_hidden2 = 32\n",
    "n_hidden3 = 16\n",
    "epochs = 30\n",
    "n_classes = 3\n",
    "# Initiliazing the sequential model_st\n",
    "model_dy = keras.Sequential()\n",
    "# Configuring the parameters\n",
    "model_dy.add(layers.Conv1D(n_hidden1, kernel_size= 3, activation='relu', input_shape=(timesteps, input_dim), kernel_initializer='glorot_normal' ))\n",
    "\n",
    "# Configuring the parameters\n",
    "model_dy.add(layers.Conv1D(n_hidden2, kernel_size= 3, activation='relu', kernel_initializer='glorot_normal'))\n",
    "\n",
    "\n",
    "\n",
    "# Adding a dropout layer\n",
    "model_dy.add(layers.Dropout(0.5))\n",
    "\n",
    "#MaxPool\n",
    "model_dy.add(layers.MaxPool1D(3))\n",
    "\n",
    "#flatten\n",
    "model_dy.add(layers.Flatten())\n",
    "\n",
    "# Adding a dense output layer with relu activation\n",
    "model_dy.add(layers.Dense(n_hidden3, activation='relu', kernel_initializer='glorot_normal'))\n",
    "\n",
    "\n",
    "# Adding a dropout layer\n",
    "model_dy.add(layers.Dropout(0.5))\n",
    "\n",
    "# Adding a dense output layer with softmax activation\n",
    "model_dy.add(layers.Dense(n_classes, activation='softmax'))\n",
    "\n",
    "print (model_dy.summary())\n",
    "\n",
    "opt =  tf.keras.optimizers.Adam(learning_rate=0.0004)\n",
    "\n",
    "# Compiling the model_dy\n",
    "model_dy.compile(loss=keras.losses.CategoricalCrossentropy(from_logits=True),\n",
    "              optimizer='rmsprop',\n",
    "              metrics=['accuracy'])\n",
    "\n",
    "# Training the model_dy\n",
    "model_dy.fit(X_train_dy,\n",
    "          Y_train_dy,\n",
    "          batch_size=batch_size,\n",
    "          validation_data=(X_test_dy, Y_test_dy),\n",
    "          epochs=epochs)\n"
   ]
  },
  {
   "cell_type": "code",
   "execution_count": 135,
   "metadata": {
    "id": "wJJVf8zvebkO"
   },
   "outputs": [],
   "source": [
    "# Loading the Original train and test data\n",
    "X_train, X_test, Y_train, Y_test = load_data()"
   ]
  },
  {
   "cell_type": "code",
   "execution_count": 74,
   "metadata": {
    "id": "yuSmtPO4wHzr"
   },
   "outputs": [],
   "source": [
    "#Sharpening the data \n",
    "#https://github.com/heeryoncho/sensors2018cnnhar/blob/master/har/process_data.py\n",
    "def sharpen(x_test, sigma, alpha):\n",
    "    r = x_test.shape[0]\n",
    "    c = x_test.shape[1]\n",
    "    container = np.empty((r, c))\n",
    "    i = 0\n",
    "\n",
    "    for row in x_test:\n",
    "        test = np.array([row])\n",
    "        blurred = ndimage.gaussian_filter(test, sigma)\n",
    "        sharpened = test + alpha * (test - blurred)\n",
    "        container[i] = sharpened\n",
    "        i = i + 1\n",
    "    return container"
   ]
  },
  {
   "cell_type": "code",
   "execution_count": 172,
   "metadata": {
    "colab": {
     "base_uri": "https://localhost:8080/"
    },
    "id": "gtghJJXSnFWr",
    "outputId": "5429f9c7-9749-4656-c43c-7ed0ea2d1ea2"
   },
   "outputs": [
    {
     "name": "stdout",
     "output_type": "stream",
     "text": [
      "Accuracy is:\n",
      "0.9368849677638276\n"
     ]
    }
   ],
   "source": [
    "#Now we have three models\n",
    "\n",
    "#counter to calculate accuracy\n",
    "count = 0\n",
    "\n",
    "#first stage = \n",
    "y_actual = np.zeros((len(Y_test),), dtype=int)\n",
    "\n",
    "for i in range(len(Y_test)):\n",
    "  y_actual[i] = np.argmax(Y_test[i])\n",
    "\n",
    "y_first = np.argmax(model.predict(X_test), axis = -1)\n",
    "\n",
    "\n",
    "\n",
    "# second stage: static model_st\n",
    "X_test_static = X_test[y_first == 1]\n",
    "\n",
    "for i in range(len(X_test_static)):\n",
    "  X_test_static[i] = sharpen( X_test_static[i], 8, 0.07)\n",
    "\n",
    "\n",
    "y_actual_static = y_actual[y_first == 1]\n",
    "y_predict_static = np.argmax(model_st.predict(X_test_static), axis=-1) + 3\n",
    "\n",
    "\n",
    "\n",
    "\n",
    "#calculate static accuracy\n",
    "for i in range(len(y_actual_static)):\n",
    "  if (y_actual_static[i] == y_predict_static[i]):\n",
    "    count = count+1      \n",
    "\n",
    "# seconds stage: dynamic \n",
    "X_test_dynamic = X_test[y_first == 0]\n",
    "\n",
    "\n",
    "for i in range(len(X_test_dynamic)):\n",
    "  X_test_dynamic[i] = sharpen( X_test_dynamic[i], 8, 0.07)\n",
    "\n",
    "y_actual_dynamic = y_actual[y_first == 0]\n",
    "y_predict_dynamic = np.argmax(model_dy.predict(X_test_dynamic), axis=-1)\n",
    "\n",
    "\n",
    "#calculate dynamic accuracy\n",
    "for i in range(len(y_actual_dynamic)):\n",
    "  if (y_actual_dynamic[i] == y_predict_dynamic[i]):\n",
    "    count = count+1    \n",
    "  \n",
    "print(\"Accuracy is:\")\n",
    "print((count)/len(Y_test))\n",
    "\n"
   ]
  },
  {
   "cell_type": "code",
   "execution_count": null,
   "metadata": {
    "colab": {
     "base_uri": "https://localhost:8080/"
    },
    "id": "sh-gUJ3lO2Sf",
    "outputId": "ba2e7ea1-6845-44b1-aa4b-7b808a322aac"
   },
   "outputs": [
    {
     "name": "stdout",
     "output_type": "stream",
     "text": [
      "+-------------+---------------+--------+---------+---------------+\n",
      "| LSTM Layers | Hiddens Cells | Epochs | Dropout | Test Accuracy |\n",
      "+-------------+---------------+--------+---------+---------------+\n",
      "|      1      |       32      |   30   |   0.5   |     89.38     |\n",
      "|      1      |       48      |   30   |   0.5   |     89.82     |\n",
      "|      1      |       64      |   20   |   0.5   |     91.82     |\n",
      "|      2      |       16      |   30   |   0.5   |     89.62     |\n",
      "|      2      |       32      |   20   |   0.6   |     89.58     |\n",
      "|      2      |       48      |   20   |   0.6   |     92.26     |\n",
      "|      2      |       48      |   30   |   0.6   |     86.56     |\n",
      "|      2      |       64      |   20   |   0.7   |     90.74     |\n",
      "+-------------+---------------+--------+---------+---------------+\n"
     ]
    }
   ],
   "source": [
    "from prettytable import PrettyTable\n",
    "x = PrettyTable()\n",
    "\n",
    "x.field_names = [\"LSTM Layers\", \"Hiddens Cells\",\"Epochs\", \"Dropout\", \"Test Accuracy\"]\n",
    "x.add_row([\"1\", 32, 30, 0.5, 89.38])\n",
    "x.add_row([\"1\", 48, 30, 0.5, 89.82])\n",
    "x.add_row([\"1\", 64, 20, 0.5, 91.82])\n",
    "x.add_row([\"2\", 16, 30, 0.5, 89.62])\n",
    "x.add_row([\"2\", 32, 20, 0.6, 89.58])\n",
    "x.add_row([\"2\", 48, 20, 0.6, 92.26])\n",
    "x.add_row([\"2\", 48, 30, 0.6, 86.56])\n",
    "x.add_row([\"2\", 64, 20, 0.7, 90.74])\n",
    "\n",
    "print (x)"
   ]
  },
  {
   "cell_type": "markdown",
   "metadata": {
    "id": "TmXORIhkRlcl"
   },
   "source": [
    "### The best result is given by the model with two LSTM layers having 48 hidden usnits trained for 20 epochs. The accuracy given by the model on the validation data is 92.26%"
   ]
  }
 ],
 "metadata": {
  "accelerator": "GPU",
  "colab": {
   "name": "HAR_assignment.ipynb",
   "provenance": []
  },
  "kernelspec": {
   "display_name": "Python 3",
   "language": "python",
   "name": "python3"
  },
  "language_info": {
   "codemirror_mode": {
    "name": "ipython",
    "version": 3
   },
   "file_extension": ".py",
   "mimetype": "text/x-python",
   "name": "python",
   "nbconvert_exporter": "python",
   "pygments_lexer": "ipython3",
   "version": "3.7.4"
  }
 },
 "nbformat": 4,
 "nbformat_minor": 1
}
